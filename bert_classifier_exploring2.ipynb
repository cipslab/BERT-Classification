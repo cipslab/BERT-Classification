{
 "cells": [
  {
   "cell_type": "code",
   "execution_count": 29,
   "metadata": {},
   "outputs": [
    {
     "output_type": "stream",
     "name": "stdout",
     "text": [
      "There are 4 GPU(s) available.\nWe will use the GPU: TITAN X (Pascal)\n"
     ]
    }
   ],
   "source": [
    "import torch\n",
    "\n",
    "# If there's a GPU available...\n",
    "if torch.cuda.is_available():    \n",
    "\n",
    "    # Tell PyTorch to use the GPU.    \n",
    "    device = torch.device(\"cuda:1\")\n",
    "    print('There are %d GPU(s) available.' % torch.cuda.device_count())\n",
    "\n",
    "    print('We will use the GPU:', torch.cuda.get_device_name(1))\n",
    "\n",
    "# If not...\n",
    "else:\n",
    "    print('No GPU available, using the CPU instead.')\n",
    "    device = torch.device(\"cpu\")\n",
    "    "
   ]
  },
  {
   "cell_type": "code",
   "execution_count": 30,
   "metadata": {},
   "outputs": [],
   "source": [
    "# !pip install transformers"
   ]
  },
  {
   "cell_type": "code",
   "execution_count": 31,
   "metadata": {},
   "outputs": [
    {
     "output_type": "stream",
     "name": "stdout",
     "text": [
      "Parsing the dataset.tsv file ....\n     DONE.\n"
     ]
    }
   ],
   "source": [
    "import pandas as pd\n",
    "\n",
    "print('Parsing the dataset.tsv file ....')\n",
    "# comments = pd.read_csv('./data/attack_annotated_comments.tsv', sep = '\\t', index_col = 0)\n",
    "train = pd.read_csv('./data/balanced_data/train.tsv', sep = '\\t')\n",
    "test = pd.read_csv('./data/balanced_data/test.tsv', sep = '\\t')\n",
    "\n",
    "print('     DONE.')"
   ]
  },
  {
   "source": [
    "# Display the first five rows of the table\n",
    "for i in range(len(train)):\n",
    "    train.iloc[i].len = len(train.iloc[i].raw_text.split())\n",
    "\n",
    "train.head()"
   ],
   "cell_type": "code",
   "metadata": {},
   "execution_count": 32,
   "outputs": [
    {
     "output_type": "execute_result",
     "data": {
      "text/plain": [
       "   story_id                                           raw_text  label  len\n",
       "0   6772845  kiev, january 21 (ria novosti) - former ukrain...      1  160\n",
       "1  35455458  the ukrainian government has called for local ...      0   56\n",
       "2  38817309  investigators probing the shooting down of mal...      0  343\n",
       "3   7765503  kharkov, april 21 (ria novosti) - russia and u...      1  227\n",
       "4  34816385  moscow, june 27 (ria novosti) - osce monitors ...      1  250"
      ],
      "text/html": "<div>\n<style scoped>\n    .dataframe tbody tr th:only-of-type {\n        vertical-align: middle;\n    }\n\n    .dataframe tbody tr th {\n        vertical-align: top;\n    }\n\n    .dataframe thead th {\n        text-align: right;\n    }\n</style>\n<table border=\"1\" class=\"dataframe\">\n  <thead>\n    <tr style=\"text-align: right;\">\n      <th></th>\n      <th>story_id</th>\n      <th>raw_text</th>\n      <th>label</th>\n      <th>len</th>\n    </tr>\n  </thead>\n  <tbody>\n    <tr>\n      <th>0</th>\n      <td>6772845</td>\n      <td>kiev, january 21 (ria novosti) - former ukrain...</td>\n      <td>1</td>\n      <td>160</td>\n    </tr>\n    <tr>\n      <th>1</th>\n      <td>35455458</td>\n      <td>the ukrainian government has called for local ...</td>\n      <td>0</td>\n      <td>56</td>\n    </tr>\n    <tr>\n      <th>2</th>\n      <td>38817309</td>\n      <td>investigators probing the shooting down of mal...</td>\n      <td>0</td>\n      <td>343</td>\n    </tr>\n    <tr>\n      <th>3</th>\n      <td>7765503</td>\n      <td>kharkov, april 21 (ria novosti) - russia and u...</td>\n      <td>1</td>\n      <td>227</td>\n    </tr>\n    <tr>\n      <th>4</th>\n      <td>34816385</td>\n      <td>moscow, june 27 (ria novosti) - osce monitors ...</td>\n      <td>1</td>\n      <td>250</td>\n    </tr>\n  </tbody>\n</table>\n</div>"
     },
     "metadata": {},
     "execution_count": 32
    }
   ]
  },
  {
   "cell_type": "code",
   "execution_count": 33,
   "metadata": {},
   "outputs": [],
   "source": [
    "def get_split(text1):\n",
    "    split_size = 200\n",
    "    overlap_size = 50\n",
    "    v1 = split_size - overlap_size\n",
    "    l_total = []\n",
    "    l_parcial = []\n",
    "    if len(text1.split())//v1 >0:\n",
    "        n = len(text1.split())//v1\n",
    "    else: \n",
    "        n = 1\n",
    "    for w in range(n):\n",
    "        if w == 0:\n",
    "            l_parcial = text1.split()[:split_size]\n",
    "            l_total.append(\" \".join(l_parcial))\n",
    "        else:\n",
    "            l_parcial = text1.split()[w*v1:w*v1 + split_size]\n",
    "            l_total.append(\" \".join(l_parcial))\n",
    "    return l_total"
   ]
  },
  {
   "cell_type": "code",
   "execution_count": 34,
   "metadata": {},
   "outputs": [
    {
     "output_type": "execute_result",
     "data": {
      "text/plain": [
       "   story_id                                           raw_text  label  len  \\\n",
       "0   6772845  kiev, january 21 (ria novosti) - former ukrain...      1  160   \n",
       "1  35455458  the ukrainian government has called for local ...      0   56   \n",
       "2  38817309  investigators probing the shooting down of mal...      0  343   \n",
       "3   7765503  kharkov, april 21 (ria novosti) - russia and u...      1  227   \n",
       "4  34816385  moscow, june 27 (ria novosti) - osce monitors ...      1  250   \n",
       "\n",
       "                                          text_split  \n",
       "0  [kiev, january 21 (ria novosti) - former ukrai...  \n",
       "1  [the ukrainian government has called for local...  \n",
       "2  [investigators probing the shooting down of ma...  \n",
       "3  [kharkov, april 21 (ria novosti) - russia and ...  \n",
       "4  [moscow, june 27 (ria novosti) - osce monitors...  "
      ],
      "text/html": "<div>\n<style scoped>\n    .dataframe tbody tr th:only-of-type {\n        vertical-align: middle;\n    }\n\n    .dataframe tbody tr th {\n        vertical-align: top;\n    }\n\n    .dataframe thead th {\n        text-align: right;\n    }\n</style>\n<table border=\"1\" class=\"dataframe\">\n  <thead>\n    <tr style=\"text-align: right;\">\n      <th></th>\n      <th>story_id</th>\n      <th>raw_text</th>\n      <th>label</th>\n      <th>len</th>\n      <th>text_split</th>\n    </tr>\n  </thead>\n  <tbody>\n    <tr>\n      <th>0</th>\n      <td>6772845</td>\n      <td>kiev, january 21 (ria novosti) - former ukrain...</td>\n      <td>1</td>\n      <td>160</td>\n      <td>[kiev, january 21 (ria novosti) - former ukrai...</td>\n    </tr>\n    <tr>\n      <th>1</th>\n      <td>35455458</td>\n      <td>the ukrainian government has called for local ...</td>\n      <td>0</td>\n      <td>56</td>\n      <td>[the ukrainian government has called for local...</td>\n    </tr>\n    <tr>\n      <th>2</th>\n      <td>38817309</td>\n      <td>investigators probing the shooting down of mal...</td>\n      <td>0</td>\n      <td>343</td>\n      <td>[investigators probing the shooting down of ma...</td>\n    </tr>\n    <tr>\n      <th>3</th>\n      <td>7765503</td>\n      <td>kharkov, april 21 (ria novosti) - russia and u...</td>\n      <td>1</td>\n      <td>227</td>\n      <td>[kharkov, april 21 (ria novosti) - russia and ...</td>\n    </tr>\n    <tr>\n      <th>4</th>\n      <td>34816385</td>\n      <td>moscow, june 27 (ria novosti) - osce monitors ...</td>\n      <td>1</td>\n      <td>250</td>\n      <td>[moscow, june 27 (ria novosti) - osce monitors...</td>\n    </tr>\n  </tbody>\n</table>\n</div>"
     },
     "metadata": {},
     "execution_count": 34
    }
   ],
   "source": [
    "train['text_split'] = train['raw_text'].apply(get_split)\n",
    "train.head()"
   ]
  },
  {
   "cell_type": "code",
   "execution_count": 35,
   "metadata": {},
   "outputs": [
    {
     "output_type": "display_data",
     "data": {
      "text/plain": "HBox(children=(FloatProgress(value=0.0, max=8390.0), HTML(value='')))",
      "application/vnd.jupyter.widget-view+json": {
       "version_major": 2,
       "version_minor": 0,
       "model_id": "c50328c2ecb14532a8dc683ebf2884e6"
      }
     },
     "metadata": {}
    },
    {
     "output_type": "stream",
     "name": "stdout",
     "text": [
      "\nlength of train_split_v is: 19057\n"
     ]
    },
    {
     "output_type": "execute_result",
     "data": {
      "text/plain": [
       "   story_id   chunk_num                                           raw_text  \\\n",
       "0   6772845   6772845_0  kiev, january 21 (ria novosti) - former ukrain...   \n",
       "1  35455458  35455458_0  the ukrainian government has called for local ...   \n",
       "2  38817309  38817309_0  investigators probing the shooting down of mal...   \n",
       "3  38817309  38817309_1  investigators probing the shooting down of mal...   \n",
       "4   7765503   7765503_0  kharkov, april 21 (ria novosti) - russia and u...   \n",
       "\n",
       "                                          text_chunk  label  \n",
       "0  kiev, january 21 (ria novosti) - former ukrain...      1  \n",
       "1  the ukrainian government has called for local ...      0  \n",
       "2  investigators probing the shooting down of mal...      0  \n",
       "3  at ukraine's military. members of the joint in...      0  \n",
       "4  kharkov, april 21 (ria novosti) - russia and u...      1  "
      ],
      "text/html": "<div>\n<style scoped>\n    .dataframe tbody tr th:only-of-type {\n        vertical-align: middle;\n    }\n\n    .dataframe tbody tr th {\n        vertical-align: top;\n    }\n\n    .dataframe thead th {\n        text-align: right;\n    }\n</style>\n<table border=\"1\" class=\"dataframe\">\n  <thead>\n    <tr style=\"text-align: right;\">\n      <th></th>\n      <th>story_id</th>\n      <th>chunk_num</th>\n      <th>raw_text</th>\n      <th>text_chunk</th>\n      <th>label</th>\n    </tr>\n  </thead>\n  <tbody>\n    <tr>\n      <th>0</th>\n      <td>6772845</td>\n      <td>6772845_0</td>\n      <td>kiev, january 21 (ria novosti) - former ukrain...</td>\n      <td>kiev, january 21 (ria novosti) - former ukrain...</td>\n      <td>1</td>\n    </tr>\n    <tr>\n      <th>1</th>\n      <td>35455458</td>\n      <td>35455458_0</td>\n      <td>the ukrainian government has called for local ...</td>\n      <td>the ukrainian government has called for local ...</td>\n      <td>0</td>\n    </tr>\n    <tr>\n      <th>2</th>\n      <td>38817309</td>\n      <td>38817309_0</td>\n      <td>investigators probing the shooting down of mal...</td>\n      <td>investigators probing the shooting down of mal...</td>\n      <td>0</td>\n    </tr>\n    <tr>\n      <th>3</th>\n      <td>38817309</td>\n      <td>38817309_1</td>\n      <td>investigators probing the shooting down of mal...</td>\n      <td>at ukraine's military. members of the joint in...</td>\n      <td>0</td>\n    </tr>\n    <tr>\n      <th>4</th>\n      <td>7765503</td>\n      <td>7765503_0</td>\n      <td>kharkov, april 21 (ria novosti) - russia and u...</td>\n      <td>kharkov, april 21 (ria novosti) - russia and u...</td>\n      <td>1</td>\n    </tr>\n  </tbody>\n</table>\n</div>"
     },
     "metadata": {},
     "execution_count": 35
    }
   ],
   "source": [
    "# create a row split version of dataset \n",
    "\n",
    "from tqdm import tqdm_notebook as tqdm\n",
    "tmp = []\n",
    "\n",
    "for i in tqdm(range(len(train))):\n",
    "    for j in range(len(train.iloc[i].text_split)):\n",
    "        chunk_num = str(train.iloc[i]['story_id']) + '_' + str(j)\n",
    "        tmp.append(\n",
    "        {'story_id': train.iloc[i]['story_id'],\n",
    "            'chunk_num': chunk_num,\n",
    "            'raw_text': train.iloc[i]['raw_text'],\n",
    "            'text_chunk': train.iloc[i]['text_split'][j],\n",
    "            'label': train.iloc[i].label}\n",
    "        )\n",
    "\n",
    "train_split_v = pd.DataFrame(tmp) \n",
    "# train.head()\n",
    "print('length of train_split_v is:', len(train_split_v))\n",
    "train_split_v.head()\n"
   ]
  },
  {
   "cell_type": "code",
   "execution_count": 36,
   "metadata": {},
   "outputs": [
    {
     "output_type": "stream",
     "name": "stdout",
     "text": [
      "length of train_split_v is: 19057\n"
     ]
    }
   ],
   "source": [
    "print('length of train_split_v is:', len(train_split_v))"
   ]
  },
  {
   "cell_type": "code",
   "execution_count": 37,
   "metadata": {},
   "outputs": [],
   "source": [
    "# import textwrap\n",
    "# import random \n",
    "\n",
    "# # wrap text to 80 characters.\n",
    "\n",
    "# wrapper = textwrap.TextWrapper(width = 100)\n",
    "\n",
    "# # filter to just \"attack\" comments.\n",
    "\n",
    "# examples = train.query('label')['raw_text']\n",
    "\n",
    "# # Randomly choose some examples\n",
    "\n",
    "# for i in range(10):\n",
    "#     j = random.choice(examples.index)\n",
    "    \n",
    "#     print('')\n",
    "#     print(wrapper.fill(examples[j]))\n",
    "#     print('')"
   ]
  },
  {
   "cell_type": "code",
   "execution_count": 38,
   "metadata": {},
   "outputs": [
    {
     "output_type": "stream",
     "name": "stdout",
     "text": [
      "loading BERT tokenizer....\n",
      "    DONE.\n"
     ]
    }
   ],
   "source": [
    "from transformers import BertTokenizer\n",
    "\n",
    "# load the BERT tokenizer, \n",
    "print('loading BERT tokenizer....')\n",
    "tokenizer = BertTokenizer.from_pretrained('bert-base-uncased', do_lower_case = True)\n",
    "print('    DONE.')"
   ]
  },
  {
   "cell_type": "code",
   "execution_count": 39,
   "metadata": {},
   "outputs": [],
   "source": [
    "# # Retrieve the text from the first comment.\n",
    "# text = train.iloc[10].raw_text\n",
    "\n",
    "# tokens = tokenizer.tokenize(text)\n",
    "\n",
    "# # Print the original text\n",
    "# print('comment 0 (not an attack) contains {:,} wordpiece tokens.'.format(len(tokens)))\n",
    "# print('\\nOriginal comment text:\\n')\n",
    "# print(wrapper.fill(text))\n",
    "\n",
    "\n",
    "# # print out the list of tokens\n",
    "# print('**** First 512 tokens:*****\\n')\n",
    "# print(wrapper.fill(str(' '.join(tokens[0:512]))))\n",
    "\n",
    "# print('')\n",
    "\n",
    "# print('\\n****** Remaining {:,} tokens: *****\\n'.format(len(tokens) - 512))\n",
    "# print(wrapper.fill(str(' '.join(tokens[512:]))))"
   ]
  },
  {
   "cell_type": "code",
   "execution_count": 40,
   "metadata": {},
   "outputs": [],
   "source": [
    "# # First truncate the text to remove the last 79 tokens (which begin with the words \"are made in\"). \n",
    "# last_char = text.find('are made in')\n",
    "\n",
    "# # Truncate the text to only what fits in the 512 tokens.\n",
    "# text = text[0:last_char]\n",
    "\n",
    "# # Estimate the number of words in the comment by spliting it on whitespace.\n",
    "# # first remove all double spaces.\n",
    "# text = text.replace('  ', ' ')\n",
    "# num_words = len(text.split(' '))\n",
    "# print('Comment contains ~{:,} words.'.format(num_words))\n",
    "\n",
    "# # Estimate the number of sentences by counting up the periods.\n",
    "# num_sens = text.count('. ')\n",
    "# print('Comment contains ~{:,} sentences.'.format(num_sens))"
   ]
  },
  {
   "cell_type": "code",
   "execution_count": 41,
   "metadata": {},
   "outputs": [
    {
     "output_type": "stream",
     "name": "stdout",
     "text": [
      "Tokenizing comments.....\n"
     ]
    },
    {
     "output_type": "display_data",
     "data": {
      "text/plain": "HBox(children=(FloatProgress(value=0.0, max=19057.0), HTML(value='')))",
      "application/vnd.jupyter.widget-view+json": {
       "version_major": 2,
       "version_minor": 0,
       "model_id": "4f90a40d2a894d4aacf484a9f428bb9c"
      }
     },
     "metadata": {}
    },
    {
     "output_type": "stream",
     "name": "stdout",
     "text": [
      " Read 0 texts.\n",
      "\n",
      "DONE\n",
      "    19,057 comments\n",
      "   Min length: 18 tokens\n",
      "   Max length: 395 tokens\n",
      "Median length: 251.0 tokens\n"
     ]
    }
   ],
   "source": [
    "import numpy as np\n",
    "from tqdm import tqdm_notebook as tqdm\n",
    "\n",
    "# Tokenize all the sentences and map the tokens to their word IDs.\n",
    "\n",
    "input_ids = []\n",
    "\n",
    "# Record the length of each sequence (after truncating to 512).\n",
    "\n",
    "lengths = []\n",
    "\n",
    "print('Tokenizing comments.....')\n",
    "\n",
    "# For every sentence....\n",
    "for text in tqdm(train_split_v.text_chunk):\n",
    "    # Report progress.\n",
    "    if ((len(input_ids) % 20000) == 0):\n",
    "        print(' Read {:,} texts.'.format(len(input_ids)))\n",
    "        \n",
    "    # endoce will: \n",
    "    # (1) Tokenize the sentence\n",
    "    # (2) Prepend the \"[CLS]\" token to the start.\n",
    "    # (3) Append the \"[SEP]\" token to the end.\n",
    "    # (4) Map tokens to their IDs. \n",
    "    encoded_text = tokenizer.encode(\n",
    "        text,                          #sentence to encode.\n",
    "        add_special_tokens = True,   # Add '[CLS]' and '[SEP]'\n",
    "#             max_length = 512,            # Truncate all the sentences.\n",
    "#             return_tensors = 'pt'        # Return pytorch tensors.\n",
    "    )\n",
    "    # Add the encoded sentence to the list\n",
    "    input_ids.append(encoded_text)\n",
    "    \n",
    "    # Record the truncated length.\n",
    "    lengths.append(len(encoded_text))\n",
    "    \n",
    "print('DONE')\n",
    "print('{:>10,} comments'.format(len(input_ids)))\n",
    "\n",
    "print('   Min length: {:,} tokens'.format(min(lengths)))\n",
    "print('   Max length: {:,} tokens'.format(max(lengths)))\n",
    "print('Median length: {:,} tokens'.format(np.median(lengths)))"
   ]
  },
  {
   "cell_type": "code",
   "execution_count": 42,
   "metadata": {},
   "outputs": [
    {
     "output_type": "stream",
     "name": "stdout",
     "text": [
      "  7,380 label as 1 \n 11,677 labels as 0\n"
     ]
    }
   ],
   "source": [
    "# ALso retreive the labels as a list\n",
    "\n",
    "# Get the labels from dataframe, and convert from booleans to ints.\n",
    "\n",
    "labels = train_split_v.label.to_numpy().astype(int)\n",
    "print('{:>7,} label as 1 '.format(np.sum(labels)))\n",
    "print('{:>7,} labels as 0'.format(len(labels)-np.sum(labels)))"
   ]
  },
  {
   "cell_type": "code",
   "execution_count": 43,
   "metadata": {},
   "outputs": [],
   "source": [
    "# import matplotlib.pyplot as plt\n",
    "# import seaborn as sns\n",
    "# import numpy as np\n",
    "\n",
    "# sns.set(style='darkgrid')\n",
    "\n",
    "# # Increase the plot size and font size.\n",
    "# sns.set(font_scale=1.5)\n",
    "# plt.rcParams['figure.figsize'] = (10,5)\n",
    "\n",
    "# # Truncate any comment lengths greater tahn 512.\n",
    "# lengths = [min(l, 512) for l in lengths]\n",
    "\n",
    "# # Plot the distribution of comment lengths.\n",
    "# sns.distplot(lengths, kde=False, rug=False)\n",
    "# plt.title('Comment lengths')\n",
    "# plt.xlabel('Comment length')\n",
    "# plt.ylabel ('# of comments')"
   ]
  },
  {
   "cell_type": "code",
   "execution_count": 44,
   "metadata": {},
   "outputs": [],
   "source": [
    "# # count the number of sentences that had to be truncated to 512 tokens. \n",
    "# num_truncated = lengths.count(512)\n",
    "\n",
    "# # compare this to the total number of training sentences.\n",
    "# num_sentences = len(lengths)\n",
    "# prcnt = float(num_truncated)/ float(num_sentences)\n",
    "# print('{:,} of {:,} sentences ({:.1%}) in the training set are longer than 512 tokens.'.format(num_truncated, num_sentences, prcnt))"
   ]
  },
  {
   "cell_type": "code",
   "execution_count": 45,
   "metadata": {},
   "outputs": [
    {
     "output_type": "stream",
     "name": "stdout",
     "text": [
      "\n",
      "Padding/truncating all sentences to 512 values...\n",
      "\n",
      "Padding token: \"[PAD]\", ID: 0\n",
      "\n",
      "Done.\n"
     ]
    }
   ],
   "source": [
    "# We'll borrow the `pad_sequences` utility function to do this.\n",
    "from keras.preprocessing.sequence import pad_sequences\n",
    "\n",
    "# Set the maximum sequence length.\n",
    "MAX_LEN = 512\n",
    "\n",
    "print('\\nPadding/truncating all sentences to %d values...' % MAX_LEN)\n",
    "\n",
    "print('\\nPadding token: \"{:}\", ID: {:}'.format(tokenizer.pad_token, tokenizer.pad_token_id))\n",
    "\n",
    "# Pad our input tokens with value 0.\n",
    "# \"post\" indicates that we want to pad and truncate at the end of the sequence,\n",
    "# as opposed to the beginning.\n",
    "input_ids = pad_sequences(input_ids, maxlen=MAX_LEN, dtype=\"long\", \n",
    "                          value=0, truncating=\"post\", padding=\"post\")\n",
    "\n",
    "print('\\nDone.')"
   ]
  },
  {
   "cell_type": "code",
   "execution_count": 46,
   "metadata": {},
   "outputs": [],
   "source": [
    "# Create attention masks\n",
    "attention_masks = []\n",
    "\n",
    "# For each sentence...\n",
    "for sent in input_ids:\n",
    "    \n",
    "    # Create the attention mask.\n",
    "    #   - If a token ID is 0, then it's padding, set the mask to 0.\n",
    "    #   - If a token ID is > 0, then it's a real token, set the mask to 1.\n",
    "    att_mask = [int(token_id > 0) for token_id in sent]\n",
    "    \n",
    "    # Store the attention mask for this sentence.\n",
    "    attention_masks.append(att_mask)"
   ]
  },
  {
   "cell_type": "code",
   "execution_count": 47,
   "metadata": {},
   "outputs": [],
   "source": [
    "# Use train_test_split to split our data into train and validation sets for\n",
    "# training\n",
    "from sklearn.model_selection import train_test_split\n",
    "\n",
    "# Use 90% for training and 10% for validation.\n",
    "train_inputs, validation_inputs, train_labels, validation_labels = train_test_split(input_ids, labels, \n",
    "                                                            random_state=2018, test_size=0.1)\n",
    "# Do the same for the masks.\n",
    "train_masks, validation_masks, _, _ = train_test_split(attention_masks, labels,\n",
    "                                             random_state=2018, test_size=0.1)"
   ]
  },
  {
   "cell_type": "code",
   "execution_count": 48,
   "metadata": {},
   "outputs": [],
   "source": [
    "# Convert all inputs and labels into torch tensors, the required datatype \n",
    "# for our model.\n",
    "train_inputs = torch.tensor(train_inputs)\n",
    "validation_inputs = torch.tensor(validation_inputs)\n",
    "\n",
    "train_labels = torch.tensor(train_labels)\n",
    "validation_labels = torch.tensor(validation_labels)\n",
    "\n",
    "train_masks = torch.tensor(train_masks)\n",
    "validation_masks = torch.tensor(validation_masks)"
   ]
  },
  {
   "cell_type": "code",
   "execution_count": 49,
   "metadata": {},
   "outputs": [],
   "source": [
    "from torch.utils.data import TensorDataset, DataLoader, RandomSampler, SequentialSampler\n",
    "\n",
    "# The DataLoader needs to know our batch size for training, so we specify it \n",
    "# here.\n",
    "# For fine-tuning BERT on a specific task, the authors recommend a batch size of\n",
    "# 16 or 32.\n",
    "\n",
    "batch_size = 16\n",
    "\n",
    "# Create the DataLoader for our training set.\n",
    "train_data = TensorDataset(train_inputs, train_masks, train_labels)\n",
    "train_sampler = RandomSampler(train_data)\n",
    "train_dataloader = DataLoader(train_data, sampler=train_sampler, batch_size=batch_size)\n",
    "\n",
    "# Create the DataLoader for our validation set.\n",
    "validation_data = TensorDataset(validation_inputs, validation_masks, validation_labels)\n",
    "validation_sampler = SequentialSampler(validation_data)\n",
    "validation_dataloader = DataLoader(validation_data, sampler=validation_sampler, batch_size=batch_size)\n"
   ]
  },
  {
   "cell_type": "code",
   "execution_count": 50,
   "metadata": {},
   "outputs": [
    {
     "output_type": "stream",
     "name": "stderr",
     "text": [
      "Some weights of the model checkpoint at bert-base-uncased were not used when initializing BertForSequenceClassification: ['cls.predictions.bias', 'cls.predictions.transform.dense.weight', 'cls.predictions.transform.dense.bias', 'cls.predictions.decoder.weight', 'cls.seq_relationship.weight', 'cls.seq_relationship.bias', 'cls.predictions.transform.LayerNorm.weight', 'cls.predictions.transform.LayerNorm.bias']\n",
      "- This IS expected if you are initializing BertForSequenceClassification from the checkpoint of a model trained on another task or with another architecture (e.g. initializing a BertForSequenceClassification model from a BertForPretraining model).\n",
      "- This IS NOT expected if you are initializing BertForSequenceClassification from the checkpoint of a model that you expect to be exactly identical (initializing a BertForSequenceClassification model from a BertForSequenceClassification model).\n",
      "Some weights of BertForSequenceClassification were not initialized from the model checkpoint at bert-base-uncased and are newly initialized: ['classifier.weight', 'classifier.bias']\n",
      "You should probably TRAIN this model on a down-stream task to be able to use it for predictions and inference.\n"
     ]
    }
   ],
   "source": [
    "from transformers import BertForSequenceClassification, AdamW, BertConfig\n",
    "\n",
    "# Load BertForSequenceClassification, the pretrained BERT model with a single \n",
    "# linear classification layer on top. \n",
    "model = BertForSequenceClassification.from_pretrained(\n",
    "    \"bert-base-uncased\", # Use the 12-layer BERT model, with an uncased vocab.\n",
    "    num_labels = 2, # The number of output labels--2 for binary classification.\n",
    "                    # You can increase this for multi-class tasks.   \n",
    "    output_attentions = False, # Whether the model returns attentions weights.\n",
    "    output_hidden_states = False, # Whether the model returns all hidden-states.\n",
    ")\n",
    "\n",
    "# Tell pytorch to run this model on the GPU.\n",
    "if torch.cuda.is_available():\n",
    "        model.cuda()\n",
    "        model = torch.nn.DataParallel(model)\n"
   ]
  },
  {
   "cell_type": "code",
   "execution_count": 51,
   "metadata": {},
   "outputs": [
    {
     "output_type": "stream",
     "name": "stdout",
     "text": [
      "module.bert.embeddings.word_embeddings.weight torch.Size([30522, 768])\nmodule.bert.embeddings.position_embeddings.weight torch.Size([512, 768])\nmodule.bert.embeddings.token_type_embeddings.weight torch.Size([2, 768])\nmodule.bert.embeddings.LayerNorm.weight torch.Size([768])\nmodule.bert.embeddings.LayerNorm.bias torch.Size([768])\nmodule.bert.encoder.layer.0.attention.self.query.weight torch.Size([768, 768])\nmodule.bert.encoder.layer.0.attention.self.query.bias torch.Size([768])\nmodule.bert.encoder.layer.0.attention.self.key.weight torch.Size([768, 768])\nmodule.bert.encoder.layer.0.attention.self.key.bias torch.Size([768])\nmodule.bert.encoder.layer.0.attention.self.value.weight torch.Size([768, 768])\nmodule.bert.encoder.layer.0.attention.self.value.bias torch.Size([768])\nmodule.bert.encoder.layer.0.attention.output.dense.weight torch.Size([768, 768])\nmodule.bert.encoder.layer.0.attention.output.dense.bias torch.Size([768])\nmodule.bert.encoder.layer.0.attention.output.LayerNorm.weight torch.Size([768])\nmodule.bert.encoder.layer.0.attention.output.LayerNorm.bias torch.Size([768])\nmodule.bert.encoder.layer.0.intermediate.dense.weight torch.Size([3072, 768])\nmodule.bert.encoder.layer.0.intermediate.dense.bias torch.Size([3072])\nmodule.bert.encoder.layer.0.output.dense.weight torch.Size([768, 3072])\nmodule.bert.encoder.layer.0.output.dense.bias torch.Size([768])\nmodule.bert.encoder.layer.0.output.LayerNorm.weight torch.Size([768])\nmodule.bert.encoder.layer.0.output.LayerNorm.bias torch.Size([768])\nmodule.bert.encoder.layer.1.attention.self.query.weight torch.Size([768, 768])\nmodule.bert.encoder.layer.1.attention.self.query.bias torch.Size([768])\nmodule.bert.encoder.layer.1.attention.self.key.weight torch.Size([768, 768])\nmodule.bert.encoder.layer.1.attention.self.key.bias torch.Size([768])\nmodule.bert.encoder.layer.1.attention.self.value.weight torch.Size([768, 768])\nmodule.bert.encoder.layer.1.attention.self.value.bias torch.Size([768])\nmodule.bert.encoder.layer.1.attention.output.dense.weight torch.Size([768, 768])\nmodule.bert.encoder.layer.1.attention.output.dense.bias torch.Size([768])\nmodule.bert.encoder.layer.1.attention.output.LayerNorm.weight torch.Size([768])\nmodule.bert.encoder.layer.1.attention.output.LayerNorm.bias torch.Size([768])\nmodule.bert.encoder.layer.1.intermediate.dense.weight torch.Size([3072, 768])\nmodule.bert.encoder.layer.1.intermediate.dense.bias torch.Size([3072])\nmodule.bert.encoder.layer.1.output.dense.weight torch.Size([768, 3072])\nmodule.bert.encoder.layer.1.output.dense.bias torch.Size([768])\nmodule.bert.encoder.layer.1.output.LayerNorm.weight torch.Size([768])\nmodule.bert.encoder.layer.1.output.LayerNorm.bias torch.Size([768])\nmodule.bert.encoder.layer.2.attention.self.query.weight torch.Size([768, 768])\nmodule.bert.encoder.layer.2.attention.self.query.bias torch.Size([768])\nmodule.bert.encoder.layer.2.attention.self.key.weight torch.Size([768, 768])\nmodule.bert.encoder.layer.2.attention.self.key.bias torch.Size([768])\nmodule.bert.encoder.layer.2.attention.self.value.weight torch.Size([768, 768])\nmodule.bert.encoder.layer.2.attention.self.value.bias torch.Size([768])\nmodule.bert.encoder.layer.2.attention.output.dense.weight torch.Size([768, 768])\nmodule.bert.encoder.layer.2.attention.output.dense.bias torch.Size([768])\nmodule.bert.encoder.layer.2.attention.output.LayerNorm.weight torch.Size([768])\nmodule.bert.encoder.layer.2.attention.output.LayerNorm.bias torch.Size([768])\nmodule.bert.encoder.layer.2.intermediate.dense.weight torch.Size([3072, 768])\nmodule.bert.encoder.layer.2.intermediate.dense.bias torch.Size([3072])\nmodule.bert.encoder.layer.2.output.dense.weight torch.Size([768, 3072])\nmodule.bert.encoder.layer.2.output.dense.bias torch.Size([768])\nmodule.bert.encoder.layer.2.output.LayerNorm.weight torch.Size([768])\nmodule.bert.encoder.layer.2.output.LayerNorm.bias torch.Size([768])\nmodule.bert.encoder.layer.3.attention.self.query.weight torch.Size([768, 768])\nmodule.bert.encoder.layer.3.attention.self.query.bias torch.Size([768])\nmodule.bert.encoder.layer.3.attention.self.key.weight torch.Size([768, 768])\nmodule.bert.encoder.layer.3.attention.self.key.bias torch.Size([768])\nmodule.bert.encoder.layer.3.attention.self.value.weight torch.Size([768, 768])\nmodule.bert.encoder.layer.3.attention.self.value.bias torch.Size([768])\nmodule.bert.encoder.layer.3.attention.output.dense.weight torch.Size([768, 768])\nmodule.bert.encoder.layer.3.attention.output.dense.bias torch.Size([768])\nmodule.bert.encoder.layer.3.attention.output.LayerNorm.weight torch.Size([768])\nmodule.bert.encoder.layer.3.attention.output.LayerNorm.bias torch.Size([768])\nmodule.bert.encoder.layer.3.intermediate.dense.weight torch.Size([3072, 768])\nmodule.bert.encoder.layer.3.intermediate.dense.bias torch.Size([3072])\nmodule.bert.encoder.layer.3.output.dense.weight torch.Size([768, 3072])\nmodule.bert.encoder.layer.3.output.dense.bias torch.Size([768])\nmodule.bert.encoder.layer.3.output.LayerNorm.weight torch.Size([768])\nmodule.bert.encoder.layer.3.output.LayerNorm.bias torch.Size([768])\nmodule.bert.encoder.layer.4.attention.self.query.weight torch.Size([768, 768])\nmodule.bert.encoder.layer.4.attention.self.query.bias torch.Size([768])\nmodule.bert.encoder.layer.4.attention.self.key.weight torch.Size([768, 768])\nmodule.bert.encoder.layer.4.attention.self.key.bias torch.Size([768])\nmodule.bert.encoder.layer.4.attention.self.value.weight torch.Size([768, 768])\nmodule.bert.encoder.layer.4.attention.self.value.bias torch.Size([768])\nmodule.bert.encoder.layer.4.attention.output.dense.weight torch.Size([768, 768])\nmodule.bert.encoder.layer.4.attention.output.dense.bias torch.Size([768])\nmodule.bert.encoder.layer.4.attention.output.LayerNorm.weight torch.Size([768])\nmodule.bert.encoder.layer.4.attention.output.LayerNorm.bias torch.Size([768])\nmodule.bert.encoder.layer.4.intermediate.dense.weight torch.Size([3072, 768])\nmodule.bert.encoder.layer.4.intermediate.dense.bias torch.Size([3072])\nmodule.bert.encoder.layer.4.output.dense.weight torch.Size([768, 3072])\nmodule.bert.encoder.layer.4.output.dense.bias torch.Size([768])\nmodule.bert.encoder.layer.4.output.LayerNorm.weight torch.Size([768])\nmodule.bert.encoder.layer.4.output.LayerNorm.bias torch.Size([768])\nmodule.bert.encoder.layer.5.attention.self.query.weight torch.Size([768, 768])\nmodule.bert.encoder.layer.5.attention.self.query.bias torch.Size([768])\nmodule.bert.encoder.layer.5.attention.self.key.weight torch.Size([768, 768])\nmodule.bert.encoder.layer.5.attention.self.key.bias torch.Size([768])\nmodule.bert.encoder.layer.5.attention.self.value.weight torch.Size([768, 768])\nmodule.bert.encoder.layer.5.attention.self.value.bias torch.Size([768])\nmodule.bert.encoder.layer.5.attention.output.dense.weight torch.Size([768, 768])\nmodule.bert.encoder.layer.5.attention.output.dense.bias torch.Size([768])\nmodule.bert.encoder.layer.5.attention.output.LayerNorm.weight torch.Size([768])\nmodule.bert.encoder.layer.5.attention.output.LayerNorm.bias torch.Size([768])\nmodule.bert.encoder.layer.5.intermediate.dense.weight torch.Size([3072, 768])\nmodule.bert.encoder.layer.5.intermediate.dense.bias torch.Size([3072])\nmodule.bert.encoder.layer.5.output.dense.weight torch.Size([768, 3072])\nmodule.bert.encoder.layer.5.output.dense.bias torch.Size([768])\nmodule.bert.encoder.layer.5.output.LayerNorm.weight torch.Size([768])\nmodule.bert.encoder.layer.5.output.LayerNorm.bias torch.Size([768])\nmodule.bert.encoder.layer.6.attention.self.query.weight torch.Size([768, 768])\nmodule.bert.encoder.layer.6.attention.self.query.bias torch.Size([768])\nmodule.bert.encoder.layer.6.attention.self.key.weight torch.Size([768, 768])\nmodule.bert.encoder.layer.6.attention.self.key.bias torch.Size([768])\nmodule.bert.encoder.layer.6.attention.self.value.weight torch.Size([768, 768])\nmodule.bert.encoder.layer.6.attention.self.value.bias torch.Size([768])\nmodule.bert.encoder.layer.6.attention.output.dense.weight torch.Size([768, 768])\nmodule.bert.encoder.layer.6.attention.output.dense.bias torch.Size([768])\nmodule.bert.encoder.layer.6.attention.output.LayerNorm.weight torch.Size([768])\nmodule.bert.encoder.layer.6.attention.output.LayerNorm.bias torch.Size([768])\nmodule.bert.encoder.layer.6.intermediate.dense.weight torch.Size([3072, 768])\nmodule.bert.encoder.layer.6.intermediate.dense.bias torch.Size([3072])\nmodule.bert.encoder.layer.6.output.dense.weight torch.Size([768, 3072])\nmodule.bert.encoder.layer.6.output.dense.bias torch.Size([768])\nmodule.bert.encoder.layer.6.output.LayerNorm.weight torch.Size([768])\nmodule.bert.encoder.layer.6.output.LayerNorm.bias torch.Size([768])\nmodule.bert.encoder.layer.7.attention.self.query.weight torch.Size([768, 768])\nmodule.bert.encoder.layer.7.attention.self.query.bias torch.Size([768])\nmodule.bert.encoder.layer.7.attention.self.key.weight torch.Size([768, 768])\nmodule.bert.encoder.layer.7.attention.self.key.bias torch.Size([768])\nmodule.bert.encoder.layer.7.attention.self.value.weight torch.Size([768, 768])\nmodule.bert.encoder.layer.7.attention.self.value.bias torch.Size([768])\nmodule.bert.encoder.layer.7.attention.output.dense.weight torch.Size([768, 768])\nmodule.bert.encoder.layer.7.attention.output.dense.bias torch.Size([768])\nmodule.bert.encoder.layer.7.attention.output.LayerNorm.weight torch.Size([768])\nmodule.bert.encoder.layer.7.attention.output.LayerNorm.bias torch.Size([768])\nmodule.bert.encoder.layer.7.intermediate.dense.weight torch.Size([3072, 768])\nmodule.bert.encoder.layer.7.intermediate.dense.bias torch.Size([3072])\nmodule.bert.encoder.layer.7.output.dense.weight torch.Size([768, 3072])\nmodule.bert.encoder.layer.7.output.dense.bias torch.Size([768])\nmodule.bert.encoder.layer.7.output.LayerNorm.weight torch.Size([768])\nmodule.bert.encoder.layer.7.output.LayerNorm.bias torch.Size([768])\nmodule.bert.encoder.layer.8.attention.self.query.weight torch.Size([768, 768])\nmodule.bert.encoder.layer.8.attention.self.query.bias torch.Size([768])\nmodule.bert.encoder.layer.8.attention.self.key.weight torch.Size([768, 768])\nmodule.bert.encoder.layer.8.attention.self.key.bias torch.Size([768])\nmodule.bert.encoder.layer.8.attention.self.value.weight torch.Size([768, 768])\nmodule.bert.encoder.layer.8.attention.self.value.bias torch.Size([768])\nmodule.bert.encoder.layer.8.attention.output.dense.weight torch.Size([768, 768])\nmodule.bert.encoder.layer.8.attention.output.dense.bias torch.Size([768])\nmodule.bert.encoder.layer.8.attention.output.LayerNorm.weight torch.Size([768])\nmodule.bert.encoder.layer.8.attention.output.LayerNorm.bias torch.Size([768])\nmodule.bert.encoder.layer.8.intermediate.dense.weight torch.Size([3072, 768])\nmodule.bert.encoder.layer.8.intermediate.dense.bias torch.Size([3072])\nmodule.bert.encoder.layer.8.output.dense.weight torch.Size([768, 3072])\nmodule.bert.encoder.layer.8.output.dense.bias torch.Size([768])\nmodule.bert.encoder.layer.8.output.LayerNorm.weight torch.Size([768])\nmodule.bert.encoder.layer.8.output.LayerNorm.bias torch.Size([768])\nmodule.bert.encoder.layer.9.attention.self.query.weight torch.Size([768, 768])\nmodule.bert.encoder.layer.9.attention.self.query.bias torch.Size([768])\nmodule.bert.encoder.layer.9.attention.self.key.weight torch.Size([768, 768])\nmodule.bert.encoder.layer.9.attention.self.key.bias torch.Size([768])\nmodule.bert.encoder.layer.9.attention.self.value.weight torch.Size([768, 768])\nmodule.bert.encoder.layer.9.attention.self.value.bias torch.Size([768])\nmodule.bert.encoder.layer.9.attention.output.dense.weight torch.Size([768, 768])\nmodule.bert.encoder.layer.9.attention.output.dense.bias torch.Size([768])\nmodule.bert.encoder.layer.9.attention.output.LayerNorm.weight torch.Size([768])\nmodule.bert.encoder.layer.9.attention.output.LayerNorm.bias torch.Size([768])\nmodule.bert.encoder.layer.9.intermediate.dense.weight torch.Size([3072, 768])\nmodule.bert.encoder.layer.9.intermediate.dense.bias torch.Size([3072])\nmodule.bert.encoder.layer.9.output.dense.weight torch.Size([768, 3072])\nmodule.bert.encoder.layer.9.output.dense.bias torch.Size([768])\nmodule.bert.encoder.layer.9.output.LayerNorm.weight torch.Size([768])\nmodule.bert.encoder.layer.9.output.LayerNorm.bias torch.Size([768])\nmodule.bert.encoder.layer.10.attention.self.query.weight torch.Size([768, 768])\nmodule.bert.encoder.layer.10.attention.self.query.bias torch.Size([768])\nmodule.bert.encoder.layer.10.attention.self.key.weight torch.Size([768, 768])\nmodule.bert.encoder.layer.10.attention.self.key.bias torch.Size([768])\nmodule.bert.encoder.layer.10.attention.self.value.weight torch.Size([768, 768])\nmodule.bert.encoder.layer.10.attention.self.value.bias torch.Size([768])\nmodule.bert.encoder.layer.10.attention.output.dense.weight torch.Size([768, 768])\nmodule.bert.encoder.layer.10.attention.output.dense.bias torch.Size([768])\nmodule.bert.encoder.layer.10.attention.output.LayerNorm.weight torch.Size([768])\nmodule.bert.encoder.layer.10.attention.output.LayerNorm.bias torch.Size([768])\nmodule.bert.encoder.layer.10.intermediate.dense.weight torch.Size([3072, 768])\nmodule.bert.encoder.layer.10.intermediate.dense.bias torch.Size([3072])\nmodule.bert.encoder.layer.10.output.dense.weight torch.Size([768, 3072])\nmodule.bert.encoder.layer.10.output.dense.bias torch.Size([768])\nmodule.bert.encoder.layer.10.output.LayerNorm.weight torch.Size([768])\nmodule.bert.encoder.layer.10.output.LayerNorm.bias torch.Size([768])\nmodule.bert.encoder.layer.11.attention.self.query.weight torch.Size([768, 768])\nmodule.bert.encoder.layer.11.attention.self.query.bias torch.Size([768])\nmodule.bert.encoder.layer.11.attention.self.key.weight torch.Size([768, 768])\nmodule.bert.encoder.layer.11.attention.self.key.bias torch.Size([768])\nmodule.bert.encoder.layer.11.attention.self.value.weight torch.Size([768, 768])\nmodule.bert.encoder.layer.11.attention.self.value.bias torch.Size([768])\nmodule.bert.encoder.layer.11.attention.output.dense.weight torch.Size([768, 768])\nmodule.bert.encoder.layer.11.attention.output.dense.bias torch.Size([768])\nmodule.bert.encoder.layer.11.attention.output.LayerNorm.weight torch.Size([768])\nmodule.bert.encoder.layer.11.attention.output.LayerNorm.bias torch.Size([768])\nmodule.bert.encoder.layer.11.intermediate.dense.weight torch.Size([3072, 768])\nmodule.bert.encoder.layer.11.intermediate.dense.bias torch.Size([3072])\nmodule.bert.encoder.layer.11.output.dense.weight torch.Size([768, 3072])\nmodule.bert.encoder.layer.11.output.dense.bias torch.Size([768])\nmodule.bert.encoder.layer.11.output.LayerNorm.weight torch.Size([768])\nmodule.bert.encoder.layer.11.output.LayerNorm.bias torch.Size([768])\nmodule.bert.pooler.dense.weight torch.Size([768, 768])\nmodule.bert.pooler.dense.bias torch.Size([768])\nmodule.classifier.weight torch.Size([2, 768])\nmodule.classifier.bias torch.Size([2])\n----\n"
     ]
    }
   ],
   "source": [
    "# Note: AdamW is a class from the huggingface library (as opposed to pytorch) \n",
    "# I believe the 'W' stands for 'Weight Decay fix\"\n",
    "optimizable_params = []\n",
    "for name, p in model.named_parameters():\n",
    "    if p.requires_grad:\n",
    "#         print(p.name, p.shape)\n",
    "        print(name, p.shape)\n",
    "        if name == 'classifier.bias' or name == 'classifier.weight':\n",
    "            optimizable_params.append(p)\n",
    "# for p in model.parameters():\n",
    "#     if p.requires_grad:\n",
    "# #         print(p.name, p.shape)\n",
    "# #         print(name, p.shape)\n",
    "#         if p.name == 'classifer.bias' or p.name == 'classifier.weight':\n",
    "#             optimizable_params.append(p)\n",
    "print(\"----\")            \n",
    "# print(optimizable_params)\n",
    "# for p in optimizable_params:\n",
    "#     print(p.shape)\n",
    "optimizer = AdamW(model.parameters(),#optimizable_params,\n",
    "                  lr = 2e-5, # args.learning_rate - default is 5e-5, our notebook had 2e-5\n",
    "                  eps = 1e-8 # args.adam_epsilon  - default is 1e-8.\n",
    "                )"
   ]
  },
  {
   "cell_type": "code",
   "execution_count": 52,
   "metadata": {},
   "outputs": [],
   "source": [
    "from transformers import get_linear_schedule_with_warmup\n",
    "\n",
    "# Number of training epochs (authors recommend between 2 and 4)\n",
    "epochs = 20\n",
    "\n",
    "# Total number of training steps is number of batches * number of epochs.\n",
    "total_steps = len(train_dataloader) * epochs\n",
    "\n",
    "# Create the learning rate scheduler.\n",
    "scheduler = get_linear_schedule_with_warmup(optimizer, \n",
    "                                            num_warmup_steps = 0, # Default value in run_glue.py\n",
    "                                            num_training_steps = total_steps)"
   ]
  },
  {
   "cell_type": "code",
   "execution_count": 53,
   "metadata": {},
   "outputs": [],
   "source": [
    "import numpy as np\n",
    "\n",
    "# Function to calculate the accuracy of our predictions vs labels\n",
    "def flat_accuracy(preds, labels):\n",
    "    pred_flat = np.argmax(preds, axis=1).flatten()\n",
    "    labels_flat = labels.flatten()\n",
    "    return np.sum(pred_flat == labels_flat) / len(labels_flat)"
   ]
  },
  {
   "cell_type": "code",
   "execution_count": 54,
   "metadata": {},
   "outputs": [],
   "source": [
    "import time\n",
    "import datetime\n",
    "\n",
    "def format_time(elapsed):\n",
    "    '''\n",
    "    Takes a time in seconds and returns a string hh:mm:ss\n",
    "    '''\n",
    "    # Round to the nearest second.\n",
    "    elapsed_rounded = int(round((elapsed)))\n",
    "    \n",
    "    # Format as hh:mm:ss\n",
    "    return str(datetime.timedelta(seconds=elapsed_rounded))"
   ]
  },
  {
   "cell_type": "code",
   "execution_count": 55,
   "metadata": {},
   "outputs": [],
   "source": [
    "def model_save():\n",
    "    import os\n",
    "\n",
    "    # Saving best-practices: if you use defaults names for the model, you can reload it using from_pretrained()\n",
    "\n",
    "    output_dir = './model_save/'\n",
    "\n",
    "    # Create output directory if needed\n",
    "    if not os.path.exists(output_dir):\n",
    "        os.makedirs(output_dir)\n",
    "\n",
    "    print(\"Saving model to %s\" % output_dir)\n",
    "\n",
    "    # Save a trained model, configuration and tokenizer using `save_pretrained()`.\n",
    "    # They can then be reloaded using `from_pretrained()`\n",
    "    model_to_save = model.module if hasattr(model, 'module') else model  # Take care of distributed/parallel training\n",
    "    model_to_save.save_pretrained(output_dir)\n",
    "    tokenizer.save_pretrained(output_dir)\n",
    "\n",
    "    # Good practice: save your training arguments together with the trained model\n",
    "    # torch.save(args, os.path.join(output_dir, 'training_args.bin'))\n",
    "    return"
   ]
  },
  {
   "cell_type": "code",
   "execution_count": 59,
   "metadata": {},
   "outputs": [
    {
     "output_type": "error",
     "ename": "AttributeError",
     "evalue": "module 'torch.cuda' has no attribute 'empty'",
     "traceback": [
      "\u001b[0;31m---------------------------------------------------------------------------\u001b[0m",
      "\u001b[0;31mAttributeError\u001b[0m                            Traceback (most recent call last)",
      "\u001b[0;32m<ipython-input-59-df473e1e0ceb>\u001b[0m in \u001b[0;36m<module>\u001b[0;34m\u001b[0m\n\u001b[0;32m----> 1\u001b[0;31m \u001b[0mtorch\u001b[0m\u001b[0;34m.\u001b[0m\u001b[0mcuda\u001b[0m\u001b[0;34m.\u001b[0m\u001b[0mempty\u001b[0m\u001b[0;34m(\u001b[0m\u001b[0;34m)\u001b[0m\u001b[0;34m\u001b[0m\u001b[0;34m\u001b[0m\u001b[0m\n\u001b[0m",
      "\u001b[0;31mAttributeError\u001b[0m: module 'torch.cuda' has no attribute 'empty'"
     ]
    }
   ],
   "source": [
    "torch.cuda.empty()"
   ]
  },
  {
   "cell_type": "code",
   "execution_count": 60,
   "metadata": {},
   "outputs": [
    {
     "output_type": "stream",
     "name": "stdout",
     "text": [
      "\n======== Epoch 1 / 20 ========\nTraining...\n"
     ]
    },
    {
     "output_type": "error",
     "ename": "KeyboardInterrupt",
     "evalue": "",
     "traceback": [
      "\u001b[0;31m---------------------------------------------------------------------------\u001b[0m",
      "\u001b[0;31mKeyboardInterrupt\u001b[0m                         Traceback (most recent call last)",
      "\u001b[0;32m<ipython-input-60-d3e912af68bf>\u001b[0m in \u001b[0;36m<module>\u001b[0;34m\u001b[0m\n\u001b[1;32m    107\u001b[0m         \u001b[0;31m# Clip the norm of the gradients to 1.0.\u001b[0m\u001b[0;34m\u001b[0m\u001b[0;34m\u001b[0m\u001b[0;34m\u001b[0m\u001b[0m\n\u001b[1;32m    108\u001b[0m         \u001b[0;31m# This is to help prevent the \"exploding gradients\" problem.\u001b[0m\u001b[0;34m\u001b[0m\u001b[0;34m\u001b[0m\u001b[0;34m\u001b[0m\u001b[0m\n\u001b[0;32m--> 109\u001b[0;31m         \u001b[0mtorch\u001b[0m\u001b[0;34m.\u001b[0m\u001b[0mnn\u001b[0m\u001b[0;34m.\u001b[0m\u001b[0mutils\u001b[0m\u001b[0;34m.\u001b[0m\u001b[0mclip_grad_norm_\u001b[0m\u001b[0;34m(\u001b[0m\u001b[0mmodel\u001b[0m\u001b[0;34m.\u001b[0m\u001b[0mparameters\u001b[0m\u001b[0;34m(\u001b[0m\u001b[0;34m)\u001b[0m\u001b[0;34m,\u001b[0m \u001b[0;36m1.0\u001b[0m\u001b[0;34m)\u001b[0m\u001b[0;34m\u001b[0m\u001b[0;34m\u001b[0m\u001b[0m\n\u001b[0m\u001b[1;32m    110\u001b[0m \u001b[0;34m\u001b[0m\u001b[0m\n\u001b[1;32m    111\u001b[0m         \u001b[0;31m# Update parameters and take a step using the computed gradient.\u001b[0m\u001b[0;34m\u001b[0m\u001b[0;34m\u001b[0m\u001b[0;34m\u001b[0m\u001b[0m\n",
      "\u001b[0;32m~/arnav/CIPS/venv/lib/python3.7/site-packages/torch/nn/utils/clip_grad.py\u001b[0m in \u001b[0;36mclip_grad_norm_\u001b[0;34m(parameters, max_norm, norm_type)\u001b[0m\n\u001b[1;32m     33\u001b[0m         \u001b[0mtotal_norm\u001b[0m \u001b[0;34m=\u001b[0m \u001b[0mtorch\u001b[0m\u001b[0;34m.\u001b[0m\u001b[0mnorm\u001b[0m\u001b[0;34m(\u001b[0m\u001b[0mtorch\u001b[0m\u001b[0;34m.\u001b[0m\u001b[0mstack\u001b[0m\u001b[0;34m(\u001b[0m\u001b[0;34m[\u001b[0m\u001b[0mtorch\u001b[0m\u001b[0;34m.\u001b[0m\u001b[0mnorm\u001b[0m\u001b[0;34m(\u001b[0m\u001b[0mp\u001b[0m\u001b[0;34m.\u001b[0m\u001b[0mgrad\u001b[0m\u001b[0;34m.\u001b[0m\u001b[0mdetach\u001b[0m\u001b[0;34m(\u001b[0m\u001b[0;34m)\u001b[0m\u001b[0;34m,\u001b[0m \u001b[0mnorm_type\u001b[0m\u001b[0;34m)\u001b[0m\u001b[0;34m.\u001b[0m\u001b[0mto\u001b[0m\u001b[0;34m(\u001b[0m\u001b[0mdevice\u001b[0m\u001b[0;34m)\u001b[0m \u001b[0;32mfor\u001b[0m \u001b[0mp\u001b[0m \u001b[0;32min\u001b[0m \u001b[0mparameters\u001b[0m\u001b[0;34m]\u001b[0m\u001b[0;34m)\u001b[0m\u001b[0;34m,\u001b[0m \u001b[0mnorm_type\u001b[0m\u001b[0;34m)\u001b[0m\u001b[0;34m\u001b[0m\u001b[0;34m\u001b[0m\u001b[0m\n\u001b[1;32m     34\u001b[0m     \u001b[0mclip_coef\u001b[0m \u001b[0;34m=\u001b[0m \u001b[0mmax_norm\u001b[0m \u001b[0;34m/\u001b[0m \u001b[0;34m(\u001b[0m\u001b[0mtotal_norm\u001b[0m \u001b[0;34m+\u001b[0m \u001b[0;36m1e-6\u001b[0m\u001b[0;34m)\u001b[0m\u001b[0;34m\u001b[0m\u001b[0;34m\u001b[0m\u001b[0m\n\u001b[0;32m---> 35\u001b[0;31m     \u001b[0;32mif\u001b[0m \u001b[0mclip_coef\u001b[0m \u001b[0;34m<\u001b[0m \u001b[0;36m1\u001b[0m\u001b[0;34m:\u001b[0m\u001b[0;34m\u001b[0m\u001b[0;34m\u001b[0m\u001b[0m\n\u001b[0m\u001b[1;32m     36\u001b[0m         \u001b[0;32mfor\u001b[0m \u001b[0mp\u001b[0m \u001b[0;32min\u001b[0m \u001b[0mparameters\u001b[0m\u001b[0;34m:\u001b[0m\u001b[0;34m\u001b[0m\u001b[0;34m\u001b[0m\u001b[0m\n\u001b[1;32m     37\u001b[0m             \u001b[0mp\u001b[0m\u001b[0;34m.\u001b[0m\u001b[0mgrad\u001b[0m\u001b[0;34m.\u001b[0m\u001b[0mdetach\u001b[0m\u001b[0;34m(\u001b[0m\u001b[0;34m)\u001b[0m\u001b[0;34m.\u001b[0m\u001b[0mmul_\u001b[0m\u001b[0;34m(\u001b[0m\u001b[0mclip_coef\u001b[0m\u001b[0;34m.\u001b[0m\u001b[0mto\u001b[0m\u001b[0;34m(\u001b[0m\u001b[0mp\u001b[0m\u001b[0;34m.\u001b[0m\u001b[0mgrad\u001b[0m\u001b[0;34m.\u001b[0m\u001b[0mdevice\u001b[0m\u001b[0;34m)\u001b[0m\u001b[0;34m)\u001b[0m\u001b[0;34m\u001b[0m\u001b[0;34m\u001b[0m\u001b[0m\n",
      "\u001b[0;31mKeyboardInterrupt\u001b[0m: "
     ]
    }
   ],
   "source": [
    "import random\n",
    "import os\n",
    "from torch.utils.tensorboard import SummaryWriter\n",
    "\n",
    "# This training code is based on the `run_glue.py` script here:\n",
    "# https://github.com/huggingface/transformers/blob/5bfcd0485ece086ebcbed2d008813037968a9e58/examples/run_glue.py#L128\n",
    "\n",
    "# Set the seed value all over the place to make this reproducible.\n",
    "seed_val = 42\n",
    "\n",
    "random.seed(seed_val)\n",
    "np.random.seed(seed_val)\n",
    "torch.manual_seed(seed_val)\n",
    "torch.cuda.manual_seed_all(seed_val)\n",
    "\n",
    "# Store the average loss after each epoch so we can plot them.\n",
    "loss_values = []\n",
    "log_dir  = './tensorboard_log/'\n",
    "if not os.path.exists(log_dir):\n",
    "    os.makedirs(log_dir)\n",
    "writer = SummaryWriter(log_dir=log_dir)\n",
    "\n",
    "\n",
    "# For each epoch...\n",
    "for epoch_i in range(0, epochs):\n",
    "    \n",
    "    # ========================================\n",
    "    #               Training\n",
    "    # ========================================\n",
    "    \n",
    "    # Perform one full pass over the training set.\n",
    "\n",
    "    print(\"\")\n",
    "    print('======== Epoch {:} / {:} ========'.format(epoch_i + 1, epochs))\n",
    "    print('Training...')\n",
    "\n",
    "    # Measure how long the training epoch takes.\n",
    "    t0 = time.time()\n",
    "\n",
    "    # Reset the total loss for this epoch.\n",
    "    total_loss = []\n",
    "    max_accuracy = 0.65\n",
    "    # Put the model into training mode. Don't be mislead--the call to \n",
    "    # `train` just changes the *mode*, it doesn't *perform* the training.\n",
    "    # `dropout` and `batchnorm` layers behave differently during training\n",
    "    # vs. test (source: https://stackoverflow.com/questions/51433378/what-does-model-train-do-in-pytorch)\n",
    "    model.train()\n",
    "\n",
    "    # For each batch of training data...\n",
    "    for step, batch in enumerate(train_dataloader):\n",
    "\n",
    "        # Progress update every 100 batches.\n",
    "        if step % 200 == 0 and not step == 0:\n",
    "            # Calculate elapsed time in minutes.\n",
    "            elapsed = format_time(time.time() - t0)\n",
    "            \n",
    "            # Report progress.\n",
    "            print('  Batch {:>5,}  of  {:>5,}.    Elapsed: {:}.'.format(step, len(train_dataloader), elapsed))\n",
    "\n",
    "        # Unpack this training batch from our dataloader. \n",
    "        #\n",
    "        # As we unpack the batch, we'll also copy each tensor to the GPU using the \n",
    "        # `to` method.\n",
    "        #\n",
    "        # `batch` contains three pytorch tensors:\n",
    "        #   [0]: input ids \n",
    "        #   [1]: attention masks\n",
    "        #   [2]: labels \n",
    "        b_input_ids = batch[0].cuda()\n",
    "        b_input_mask = batch[1].cuda()\n",
    "        b_labels = batch[2].cuda()\n",
    "\n",
    "        # Always clear any previously calculated gradients before performing a\n",
    "        # backward pass. PyTorch doesn't do this automatically because \n",
    "        # accumulating the gradients is \"convenient while training RNNs\". \n",
    "        # (source: https://stackoverflow.com/questions/48001598/why-do-we-need-to-call-zero-grad-in-pytorch)\n",
    "        model.zero_grad()        \n",
    "\n",
    "        # Perform a forward pass (evaluate the model on this training batch).\n",
    "        # This will return the loss (rather than the model output) because we\n",
    "        # have provided the `labels`.\n",
    "        # The documentation for this `model` function is here: \n",
    "        # https://huggingface.co/transformers/v2.2.0/model_doc/bert.html#transformers.BertForSequenceClassification\n",
    "\n",
    "        outputs = model(b_input_ids, \n",
    "                    token_type_ids=None, \n",
    "                    attention_mask=b_input_mask, \n",
    "                    labels=b_labels)\n",
    "        \n",
    "        # The call to `model` always returns a tuple, so we need to pull the \n",
    "        # loss value out of the tuple.\n",
    "        loss = outputs[0].mean()\n",
    "\n",
    "        # Accumulate the training loss over all of the batches so that we can\n",
    "        # calculate the average loss at the end. `loss` is a Tensor containing a\n",
    "        # single value; the `.item()` function just returns the Python value \n",
    "        # from the tensor.\n",
    "\n",
    "        total_loss.append(loss.data.cpu().numpy())\n",
    "        # print(loss)\n",
    "        # if step % 10 == 0:\n",
    "        #     writer.add_scalar('loss', loss, step)\n",
    "\n",
    "        # Perform a backward pass to calculate the gradients.\n",
    "        loss.backward()\n",
    "\n",
    "        # Clip the norm of the gradients to 1.0.\n",
    "        # This is to help prevent the \"exploding gradients\" problem.\n",
    "        torch.nn.utils.clip_grad_norm_(model.parameters(), 1.0)\n",
    "\n",
    "        # Update parameters and take a step using the computed gradient.\n",
    "        # The optimizer dictates the \"update rule\"--how the parameters are\n",
    "        # modified based on their gradients, the learning rate, etc.\n",
    "        optimizer.step()\n",
    "\n",
    "        # Update the learning rate.\n",
    "        scheduler.step()\n",
    "\n",
    "    # Calculate the average loss over the training data.\n",
    "    avg_train_loss = sum(total_loss) / len(train_dataloader)            \n",
    "    \n",
    "    # Store the loss value for plotting the learning curve.\n",
    "    loss_values.append(avg_train_loss)\n",
    "\n",
    "    print(\"\")\n",
    "    print(\"  Average training loss: {0:.2f}\".format(avg_train_loss))\n",
    "    print(\"  Training epcoh took: {:}\".format(format_time(time.time() - t0)))\n",
    "        \n",
    "    # ========================================\n",
    "    #               Validation\n",
    "    # ========================================\n",
    "    # After the completion of each training epoch, measure our performance on\n",
    "    # our validation set.\n",
    "\n",
    "    print(\"\")\n",
    "    print(\"Running Validation...\")\n",
    "\n",
    "    t0 = time.time()\n",
    "\n",
    "    # Put the model in evaluation mode--the dropout layers behave differently\n",
    "    # during evaluation. \n",
    "    model.eval()\n",
    "\n",
    "    # Tracking variables \n",
    "    eval_loss, eval_accuracy = 0, 0\n",
    "    nb_eval_steps, nb_eval_examples = 0, 0\n",
    "\n",
    "    # Evaluate data for one epoch\n",
    "    for batch in validation_dataloader:\n",
    "        \n",
    "        # Add batch to GPU\n",
    "        batch = tuple(t for t in batch)\n",
    "        \n",
    "        # Unpack the inputs from our dataloader\n",
    "        b_input_ids, b_input_mask, b_labels = batch\n",
    "        \n",
    "        # Telling the model not to compute or store gradients, saving memory and\n",
    "        # speeding up validation\n",
    "        with torch.no_grad():        \n",
    "\n",
    "            # Forward pass, calculate logit predictions.\n",
    "            # This will return the logits rather than the loss because we have\n",
    "            # not provided labels.\n",
    "            # token_type_ids is the same as the \"segment ids\", which \n",
    "            # differentiates sentence 1 and 2 in 2-sentence tasks.\n",
    "            # The documentation for this `model` function is here: \n",
    "            # https://huggingface.co/transformers/v2.2.0/model_doc/bert.html#transformers.BertForSequenceClassification\n",
    "            outputs = model(b_input_ids, \n",
    "                            token_type_ids=None, \n",
    "                            attention_mask=b_input_mask)\n",
    "        \n",
    "        # Get the \"logits\" output by the model. The \"logits\" are the output\n",
    "        # values prior to applying an activation function like the softmax.\n",
    "        logits = outputs[0]\n",
    "\n",
    "        # Move logits and labels to CPU\n",
    "        logits = logits.detach().cpu().numpy()\n",
    "        label_ids = b_labels.to('cpu').numpy()\n",
    "        \n",
    "        # Calculate the accuracy for this batch of test sentences.\n",
    "        tmp_eval_accuracy = flat_accuracy(logits, label_ids)\n",
    "        \n",
    "        # Accumulate the total accuracy.\n",
    "        eval_accuracy += tmp_eval_accuracy\n",
    "        \n",
    "        if tmp_eval_accuracy > max_accuracy: \n",
    "            max_accuracy = tmp_eval_accuracy\n",
    "            model_save()\n",
    "        # Track the number of batches\n",
    "        nb_eval_steps += 1\n",
    "    \n",
    "    \n",
    "    # Report the final accuracy for this validation run.\n",
    "    print(\"  Accuracy: {0:.2f}\".format(eval_accuracy/nb_eval_steps))\n",
    "    print(\"  Validation took: {:}\".format(format_time(time.time() - t0)))\n",
    "\n",
    "print(\"\")\n",
    "print(\"Training complete!\")"
   ]
  },
  {
   "cell_type": "code",
   "execution_count": null,
   "metadata": {},
   "outputs": [],
   "source": [
    "# print(loss.data.cpu().numpy())\n",
    "# !pwd"
   ]
  },
  {
   "cell_type": "code",
   "execution_count": 30,
   "metadata": {},
   "outputs": [
    {
     "data": {
      "image/png": "[encoded data removed]",
      "text/plain": [
       "<Figure size 864x432 with 1 Axes>"
      ]
     },
     "metadata": {},
     "output_type": "display_data"
    }
   ],
   "source": [
    "import matplotlib.pyplot as plt\n",
    "%matplotlib inline\n",
    "\n",
    "import seaborn as sns\n",
    "\n",
    "# Use plot styling from seaborn.\n",
    "sns.set(style='darkgrid')\n",
    "\n",
    "# Increase the plot size and font size.\n",
    "sns.set(font_scale=1.5)\n",
    "plt.rcParams[\"figure.figsize\"] = (12,6)\n",
    "\n",
    "# Plot the learning curve.\n",
    "plt.plot(loss_values, 'b-o')\n",
    "\n",
    "# Label the plot.\n",
    "plt.title(\"Training loss\")\n",
    "plt.xlabel(\"Epoch\")\n",
    "plt.ylabel(\"Loss\")\n",
    "\n",
    "plt.show()"
   ]
  },
  {
   "cell_type": "code",
   "execution_count": 31,
   "metadata": {},
   "outputs": [
    {
     "name": "stderr",
     "output_type": "stream",
     "text": [
      "/home/maryam/anaconda3/lib/python3.7/site-packages/ipykernel_launcher.py:10: TqdmDeprecationWarning: This function will be removed in tqdm==5.0.0\n",
      "Please use `tqdm.notebook.tqdm` instead of `tqdm.tqdm_notebook`\n",
      "  # Remove the CWD from sys.path while we load stuff.\n"
     ]
    },
    {
     "data": {
      "application/vnd.jupyter.widget-view+json": {
       "model_id": "9f7c135222bb427cac52d1199e01f50c",
       "version_major": 2,
       "version_minor": 0
      },
      "text/plain": [
       "HBox(children=(FloatProgress(value=0.0, max=2098.0), HTML(value='')))"
      ]
     },
     "metadata": {},
     "output_type": "display_data"
    },
    {
     "name": "stdout",
     "output_type": "stream",
     "text": [
      "\n",
      "length of test_split_v is: 11040\n"
     ]
    },
    {
     "data": {
      "text/html": [
       "<div>\n",
       "<style scoped>\n",
       "    .dataframe tbody tr th:only-of-type {\n",
       "        vertical-align: middle;\n",
       "    }\n",
       "\n",
       "    .dataframe tbody tr th {\n",
       "        vertical-align: top;\n",
       "    }\n",
       "\n",
       "    .dataframe thead th {\n",
       "        text-align: right;\n",
       "    }\n",
       "</style>\n",
       "<table border=\"1\" class=\"dataframe\">\n",
       "  <thead>\n",
       "    <tr style=\"text-align: right;\">\n",
       "      <th></th>\n",
       "      <th>story_id</th>\n",
       "      <th>chunk_num</th>\n",
       "      <th>raw_text</th>\n",
       "      <th>text_chunk</th>\n",
       "      <th>label</th>\n",
       "    </tr>\n",
       "  </thead>\n",
       "  <tbody>\n",
       "    <tr>\n",
       "      <th>0</th>\n",
       "      <td>35358787</td>\n",
       "      <td>35358787_0</td>\n",
       "      <td>brussels, september 3 (ria novosti)  the europ...</td>\n",
       "      <td>brussels, september 3 (ria novosti) the europe...</td>\n",
       "      <td>1</td>\n",
       "    </tr>\n",
       "    <tr>\n",
       "      <th>1</th>\n",
       "      <td>13312382</td>\n",
       "      <td>13312382_0</td>\n",
       "      <td>german chancellor angela merkel said monday sh...</td>\n",
       "      <td>german chancellor angela merkel said monday sh...</td>\n",
       "      <td>0</td>\n",
       "    </tr>\n",
       "    <tr>\n",
       "      <th>2</th>\n",
       "      <td>35312144</td>\n",
       "      <td>35312144_0</td>\n",
       "      <td>european union foreign ministers on friday cle...</td>\n",
       "      <td>european union foreign ministers on friday cle...</td>\n",
       "      <td>0</td>\n",
       "    </tr>\n",
       "    <tr>\n",
       "      <th>3</th>\n",
       "      <td>35312144</td>\n",
       "      <td>35312144_1</td>\n",
       "      <td>european union foreign ministers on friday cle...</td>\n",
       "      <td>had to be sent a clear message that its incurs...</td>\n",
       "      <td>0</td>\n",
       "    </tr>\n",
       "    <tr>\n",
       "      <th>4</th>\n",
       "      <td>34817284</td>\n",
       "      <td>34817284_0</td>\n",
       "      <td>kiev, june 24 (ria novosti)  ukrainian preside...</td>\n",
       "      <td>kiev, june 24 (ria novosti) ukrainian presiden...</td>\n",
       "      <td>1</td>\n",
       "    </tr>\n",
       "  </tbody>\n",
       "</table>\n",
       "</div>"
      ],
      "text/plain": [
       "   story_id   chunk_num                                           raw_text  \\\n",
       "0  35358787  35358787_0  brussels, september 3 (ria novosti)  the europ...   \n",
       "1  13312382  13312382_0  german chancellor angela merkel said monday sh...   \n",
       "2  35312144  35312144_0  european union foreign ministers on friday cle...   \n",
       "3  35312144  35312144_1  european union foreign ministers on friday cle...   \n",
       "4  34817284  34817284_0  kiev, june 24 (ria novosti)  ukrainian preside...   \n",
       "\n",
       "                                          text_chunk  label  \n",
       "0  brussels, september 3 (ria novosti) the europe...      1  \n",
       "1  german chancellor angela merkel said monday sh...      0  \n",
       "2  european union foreign ministers on friday cle...      0  \n",
       "3  had to be sent a clear message that its incurs...      0  \n",
       "4  kiev, june 24 (ria novosti) ukrainian presiden...      1  "
      ]
     },
     "execution_count": 31,
     "metadata": {},
     "output_type": "execute_result"
    }
   ],
   "source": [
    "# Apply split function on the test data\n",
    "test['text_split'] = test['raw_text'].apply(get_split)\n",
    "test.head()\n",
    "\n",
    "# create a row split version of dataset \n",
    "\n",
    "from tqdm import tqdm_notebook as tqdm\n",
    "tmp = []\n",
    "\n",
    "for i in tqdm(range(len(test))):\n",
    "    for j in range(len(test.iloc[i].text_split)):\n",
    "        chunk_num = str(test.iloc[i]['story_id']) + '_' + str(j)\n",
    "        tmp.append(\n",
    "        {'story_id': test.iloc[i]['story_id'],\n",
    "            'chunk_num': chunk_num,\n",
    "            'raw_text': test.iloc[i]['raw_text'],\n",
    "            'text_chunk': test.iloc[i]['text_split'][j],\n",
    "            'label': test.iloc[i].label}\n",
    "        )\n",
    "\n",
    "test_split_v = pd.DataFrame(tmp) \n",
    "# train.head()\n",
    "print('length of test_split_v is:', len(train_split_v))\n",
    "test_split_v.head()"
   ]
  },
  {
   "cell_type": "code",
   "execution_count": 32,
   "metadata": {},
   "outputs": [
    {
     "name": "stdout",
     "output_type": "stream",
     "text": [
      "DONE.\n",
      "\n",
      "               2,702 test comments.\n",
      "               1,186 labeled as 1\n",
      "               1,516 labeled as 0\n"
     ]
    }
   ],
   "source": [
    "# Performance On Test Set\n",
    "# Data preparation\n",
    "\n",
    "\n",
    "\n",
    "# Tokenize all of the sentences and map the tokens to thier word IDs.\n",
    "test_input_ids = []\n",
    "\n",
    "\n",
    "# For every sentence...\n",
    "for text in test_split_v.text_chunk:\n",
    "    \n",
    "    # Report progress. \n",
    "    if ((len(input_ids) % 20000) == 0):\n",
    "        print('    Read {:,} comments.'.format(len(input_ids)))\n",
    "        \n",
    "    # `encode` will:\n",
    "    #   (1) Tokenize the sentence.\n",
    "    #   (2) Prepend the `[CLS]` token to the start.\n",
    "    #   (3) Append the `[SEP]` token to the end.\n",
    "    #   (4) Map tokens to their IDs.\n",
    "    encoded_sent = tokenizer.encode(\n",
    "                        text,                      # Sentence to encode.\n",
    "                        add_special_tokens = True, # Add '[CLS]' and '[SEP]'\n",
    "                        max_length = MAX_LEN,       # Truncate all sentences \n",
    "                   )\n",
    "    # Add the method sentence to the list\n",
    "    test_input_ids.append(encoded_sent)\n",
    "    \n",
    "print('DONE.')\n",
    "print('')\n",
    "print('{:>20,} test comments.'.format(len(test_input_ids)))\n",
    "\n",
    "\n",
    "# Also retrieve the labels as a list:\n",
    "# Get the labels from the Dataframe and convert from booleans to ints. \n",
    "\n",
    "test_labels = test_split_v['label'].to_numpy().astype(int)\n",
    "\n",
    "print('{:>20,} labeled as 1'.format(np.sum(test_labels)))\n",
    "print('{:>20,} labeled as 0'.format(len(test_labels) - np.sum(test_labels)))\n",
    "\n",
    "# Pad our input tokens\n",
    "test_input_ids = pad_sequences(test_input_ids, maxlen=MAX_LEN, \n",
    "                          dtype=\"long\", truncating=\"post\", padding=\"post\")\n",
    "\n",
    "# Create attention masks\n",
    "test_attention_masks = []\n",
    "\n",
    "# Create a mask of 1s for each token followed by 0s for padding\n",
    "for seq in test_input_ids:\n",
    "    seq_mask = [float(i>0) for i in seq]\n",
    "    test_attention_masks.append(seq_mask) \n",
    "\n",
    "# Convert to tensors.\n",
    "test_inputs = torch.tensor(test_input_ids)\n",
    "test_masks = torch.tensor(test_attention_masks)\n",
    "test_labels = torch.tensor(test_labels)\n",
    "\n",
    "# Set the batch size.  \n",
    "batch_size = 16  \n",
    "\n",
    "# Create the DataLoader.\n",
    "test_data = TensorDataset(test_inputs, test_masks, test_labels)\n",
    "test_sampler = SequentialSampler(test_data)\n",
    "test_dataloader = DataLoader(test_data, sampler=test_sampler, batch_size=batch_size)"
   ]
  },
  {
   "cell_type": "code",
   "execution_count": 33,
   "metadata": {},
   "outputs": [
    {
     "name": "stdout",
     "output_type": "stream",
     "text": [
      "Predicting labels for 2,702 test sentences...\n",
      "    Batch   100  of  2,702,      Elapsed: 0:00:16.\n",
      "    DONE.\n"
     ]
    }
   ],
   "source": [
    "# Prediction on test set\n",
    "\n",
    "print('Predicting labels for {:,} test sentences...'.format(len(test_inputs)))\n",
    "\n",
    "# Put model in evaluation mode\n",
    "model.eval()\n",
    "\n",
    "# Tracking variables \n",
    "predictions , true_labels = [], []\n",
    "\n",
    "# Measure elapsed time.\n",
    "t0 = time.time()\n",
    "\n",
    "# Predict \n",
    "for (step, batch) in enumerate(test_dataloader):\n",
    "    \n",
    "    # Add batch to GPU\n",
    "    batch = tuple(t.to(device) for t in batch)\n",
    "  \n",
    "    # Progress update every 100 batches.\n",
    "    if step % 100 == 0 and not step == 0: \n",
    "        # calculate elapsed time in minutes.\n",
    "        elapsed = format_time(time.time() - t0)\n",
    "        \n",
    "        # Report progress\n",
    "        print('    Batch {:>5,}  of  {:>5,},      Elapsed: {:}.'.format(step, len(test_labels), elapsed))\n",
    "        \n",
    "        \n",
    "    # Unpack the inputs from our dataloader\n",
    "    b_input_ids, b_input_mask, b_labels = batch\n",
    "  \n",
    "    # Telling the model not to compute or store gradients, saving memory and \n",
    "    # speeding up prediction\n",
    "    with torch.no_grad():\n",
    "        # Forward pass, calculate logit predictions\n",
    "        outputs = model(b_input_ids, token_type_ids=None, \n",
    "                      attention_mask=b_input_mask)\n",
    "\n",
    "    logits = outputs[0]\n",
    "\n",
    "    # Move logits and labels to CPU\n",
    "    logits = logits.detach().cpu().numpy()\n",
    "    label_ids = b_labels.to('cpu').numpy()\n",
    "  \n",
    "    # Store predictions and true labels\n",
    "    predictions.append(logits)\n",
    "    true_labels.append(label_ids)\n",
    "\n",
    "print('    DONE.')"
   ]
  },
  {
   "cell_type": "code",
   "execution_count": 34,
   "metadata": {},
   "outputs": [],
   "source": [
    "# Combine the results across the batches.\n",
    "predictions = np.concatenate(predictions, axis=0)\n",
    "true_labels = np.concatenate(true_labels, axis=0)"
   ]
  },
  {
   "cell_type": "code",
   "execution_count": 35,
   "metadata": {},
   "outputs": [
    {
     "data": {
      "text/plain": [
       "array([[ 0.16747084, -0.09904484],\n",
       "       [ 0.1662383 , -0.09477215],\n",
       "       [ 0.16399503, -0.09905042],\n",
       "       [ 0.16810508, -0.09691988],\n",
       "       [ 0.16665009, -0.09503195],\n",
       "       [ 0.16630077, -0.09839007],\n",
       "       [ 0.16835368, -0.09515082],\n",
       "       [ 0.16914505, -0.09748755],\n",
       "       [ 0.1666932 , -0.09336632],\n",
       "       [ 0.16807283, -0.09462682],\n",
       "       [ 0.16497596, -0.09761261],\n",
       "       [ 0.16601484, -0.09732819],\n",
       "       [ 0.16813472, -0.09486486],\n",
       "       [ 0.1663592 , -0.09482013],\n",
       "       [ 0.16552177, -0.09467977],\n",
       "       [ 0.1653005 , -0.09803161],\n",
       "       [ 0.16651098, -0.09912128],\n",
       "       [ 0.16744445, -0.09720971],\n",
       "       [ 0.16649315, -0.09775088],\n",
       "       [ 0.1671198 , -0.09889032]], dtype=float32)"
      ]
     },
     "execution_count": 35,
     "metadata": {},
     "output_type": "execute_result"
    }
   ],
   "source": [
    "predictions[20:40]"
   ]
  },
  {
   "cell_type": "code",
   "execution_count": 36,
   "metadata": {},
   "outputs": [
    {
     "data": {
      "text/plain": [
       "array([0, 0, 0, 1, 0, 1, 1, 1, 1, 1, 0, 0, 1, 0, 1, 0, 0, 0, 0, 1])"
      ]
     },
     "execution_count": 36,
     "metadata": {},
     "output_type": "execute_result"
    }
   ],
   "source": [
    "true_labels[20:40]"
   ]
  },
  {
   "cell_type": "code",
   "execution_count": 48,
   "metadata": {},
   "outputs": [
    {
     "name": "stdout",
     "output_type": "stream",
     "text": [
      "0.5610658771280533\n"
     ]
    }
   ],
   "source": [
    "p1 = predictions[:,1]-predictions[:,0]\n",
    "pred_label = []\n",
    "for i in p1:\n",
    "    if i>0:\n",
    "        pred_label.append(1)\n",
    "    elif i<=0:\n",
    "        pred_label.append(0)    \n",
    "\n",
    "\n",
    "accuracy = np.sum(pred_label == true_labels) / len(true_labels)\n",
    "print(accuracy)"
   ]
  },
  {
   "cell_type": "code",
   "execution_count": 49,
   "metadata": {},
   "outputs": [
    {
     "name": "stdout",
     "output_type": "stream",
     "text": [
      "Test ROC AUC: 0.460\n"
     ]
    }
   ],
   "source": [
    "# Our performance metric for the test set.\n",
    "from sklearn.metrics import roc_auc_score\n",
    "\n",
    "# Use the model output for label 1 as our prediction.\n",
    "p1 = predictions[:,1]-predictions[:,0]\n",
    "\n",
    "# Calculate the ROC AUC\n",
    "auc = roc_auc_score(true_labels, p1)\n",
    "\n",
    "print('Test ROC AUC: %.3f' %auc)"
   ]
  },
  {
   "cell_type": "code",
   "execution_count": 38,
   "metadata": {},
   "outputs": [
    {
     "name": "stdout",
     "output_type": "stream",
     "text": [
      "total 427964K\r\n",
      "-rw-rw-r-- 1 maryam maryam      2K Oct  9 17:40 config.json\r\n",
      "-rw-rw-r-- 1 maryam maryam 427721K Oct  9 17:40 pytorch_model.bin\r\n",
      "-rw-rw-r-- 1 maryam maryam      1K Oct  9 17:40 special_tokens_map.json\r\n",
      "-rw-rw-r-- 1 maryam maryam      1K Oct  9 17:40 tokenizer_config.json\r\n",
      "-rw-rw-r-- 1 maryam maryam    227K Oct  9 17:40 vocab.txt\r\n"
     ]
    }
   ],
   "source": [
    "!ls -l --block-size=K ./model_save/"
   ]
  },
  {
   "cell_type": "code",
   "execution_count": 39,
   "metadata": {},
   "outputs": [],
   "source": [
    "# # Load a trained model and vocabulary that you have fine-tuned\n",
    "# model = model_class.from_pretrained(output_dir)\n",
    "# tokenizer = tokenizer_class.from_pretrained(output_dir)\n",
    "\n",
    "# # Copy the model to the GPU.\n",
    "# model.to(device)"
   ]
  }
 ],
 "metadata": {
  "kernelspec": {
   "display_name": "cips",
   "language": "python",
   "name": "cips"
  },
  "language_info": {
   "codemirror_mode": {
    "name": "ipython",
    "version": 3
   },
   "file_extension": ".py",
   "mimetype": "text/x-python",
   "name": "python",
   "nbconvert_exporter": "python",
   "pygments_lexer": "ipython3",
   "version": "3.7.7-final"
  }
 },
 "nbformat": 4,
 "nbformat_minor": 4
}