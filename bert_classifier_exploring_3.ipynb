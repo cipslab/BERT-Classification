{
 "cells": [
  {
   "cell_type": "code",
   "execution_count": 1,
   "metadata": {},
   "outputs": [
    {
     "output_type": "stream",
     "name": "stdout",
     "text": [
      "There are 4 GPU(s) available.\nWe will use the GPU: TITAN X (Pascal)\n"
     ]
    }
   ],
   "source": [
    "import torch\n",
    "\n",
    "# If there's a GPU available...\n",
    "if torch.cuda.is_available():    \n",
    "\n",
    "    # Tell PyTorch to use the GPU.    \n",
    "    device = torch.device(\"cuda:1\")\n",
    "    print('There are %d GPU(s) available.' % torch.cuda.device_count())\n",
    "\n",
    "    print('We will use the GPU:', torch.cuda.get_device_name(1))\n",
    "\n",
    "# If not...\n",
    "else:\n",
    "    print('No GPU available, using the CPU instead.')\n",
    "    device = torch.device(\"cpu\")\n",
    "    "
   ]
  },
  {
   "cell_type": "code",
   "execution_count": 4,
   "metadata": {},
   "outputs": [],
   "source": [
    "# !pip install transformers"
   ]
  },
  {
   "cell_type": "code",
   "execution_count": 5,
   "metadata": {},
   "outputs": [],
   "source": [
    "# Hyper parameters values\n",
    "\n",
    "# Set the maximum sequence length.\n",
    "MAX_LEN = 512\n",
    "\n",
    "# Set the batch size.  \n",
    "batch_size = 16 \n",
    "\n",
    "# Number of training epochs (authors recommend between 2 and 4)\n",
    "epochs = 2"
   ]
  },
  {
   "cell_type": "code",
   "execution_count": 2,
   "metadata": {},
   "outputs": [
    {
     "output_type": "stream",
     "name": "stdout",
     "text": [
      "Parsing the dataset.tsv file ....\n     DONE.\n---------------------\nchecking for duplicates\nnumber of duplicate values between test and train is: 184\n"
     ]
    }
   ],
   "source": [
    "import pandas as pd\n",
    "\n",
    "print('Parsing the dataset.tsv file ....')\n",
    "# comments = pd.read_csv('./data/attack_annotated_comments.tsv', sep = '\\t', index_col = 0)\n",
    "train = pd.read_csv('./data/balanced_data/train.tsv', sep = '\\t')\n",
    "test = pd.read_csv('./data/balanced_data/test.tsv', sep = '\\t')\n",
    "\n",
    "print('     DONE.')\n",
    "print('---------------------')\n",
    "print('checking for duplicates')\n",
    "print('number of duplicate values between test and train is:', \n",
    "len(set(train['story_id'].unique()) & set(test['story_id'].unique()))\n",
    "      )"
   ]
  },
  {
   "cell_type": "code",
   "execution_count": 117,
   "metadata": {},
   "outputs": [
    {
     "output_type": "execute_result",
     "data": {
      "text/plain": [
       "label\n",
       "0    1036\n",
       "1    1062\n",
       "dtype: int64"
      ]
     },
     "metadata": {},
     "execution_count": 117
    }
   ],
   "source": [
    "test.groupby('label').size()"
   ]
  },
  {
   "cell_type": "code",
   "execution_count": 3,
   "metadata": {},
   "outputs": [
    {
     "output_type": "execute_result",
     "data": {
      "text/plain": [
       "   story_id                                           raw_text  label  len\n",
       "0   6772845  kiev, january 21 (ria novosti) - former ukrain...      1  160\n",
       "1  35455458  the ukrainian government has called for local ...      0   56\n",
       "2  38817309  investigators probing the shooting down of mal...      0  343\n",
       "3   7765503  kharkov, april 21 (ria novosti) - russia and u...      1  227\n",
       "4  34816385  moscow, june 27 (ria novosti) - osce monitors ...      1  250"
      ],
      "text/html": "<div>\n<style scoped>\n    .dataframe tbody tr th:only-of-type {\n        vertical-align: middle;\n    }\n\n    .dataframe tbody tr th {\n        vertical-align: top;\n    }\n\n    .dataframe thead th {\n        text-align: right;\n    }\n</style>\n<table border=\"1\" class=\"dataframe\">\n  <thead>\n    <tr style=\"text-align: right;\">\n      <th></th>\n      <th>story_id</th>\n      <th>raw_text</th>\n      <th>label</th>\n      <th>len</th>\n    </tr>\n  </thead>\n  <tbody>\n    <tr>\n      <th>0</th>\n      <td>6772845</td>\n      <td>kiev, january 21 (ria novosti) - former ukrain...</td>\n      <td>1</td>\n      <td>160</td>\n    </tr>\n    <tr>\n      <th>1</th>\n      <td>35455458</td>\n      <td>the ukrainian government has called for local ...</td>\n      <td>0</td>\n      <td>56</td>\n    </tr>\n    <tr>\n      <th>2</th>\n      <td>38817309</td>\n      <td>investigators probing the shooting down of mal...</td>\n      <td>0</td>\n      <td>343</td>\n    </tr>\n    <tr>\n      <th>3</th>\n      <td>7765503</td>\n      <td>kharkov, april 21 (ria novosti) - russia and u...</td>\n      <td>1</td>\n      <td>227</td>\n    </tr>\n    <tr>\n      <th>4</th>\n      <td>34816385</td>\n      <td>moscow, june 27 (ria novosti) - osce monitors ...</td>\n      <td>1</td>\n      <td>250</td>\n    </tr>\n  </tbody>\n</table>\n</div>"
     },
     "metadata": {},
     "execution_count": 3
    }
   ],
   "source": [
    "def get_len(text):\n",
    "    return len(text.split())\n",
    "\n",
    "# Get the length of raw text\n",
    "train['len'] = train['raw_text'].apply(get_len)\n",
    "\n",
    "# Display the first five rows of the table\n",
    "train.head()"
   ]
  },
  {
   "cell_type": "code",
   "execution_count": 4,
   "metadata": {},
   "outputs": [],
   "source": [
    "def get_split(text1):\n",
    "    split_size = 200\n",
    "    overlap_size = 50\n",
    "    v1 = split_size - overlap_size\n",
    "    l_total = []\n",
    "    l_parcial = []\n",
    "    if len(text1.split())//v1 >0:\n",
    "        n = len(text1.split())//v1\n",
    "    else: \n",
    "        n = 1\n",
    "    for w in range(n):\n",
    "        if w == 0:\n",
    "            l_parcial = text1.split()[:split_size]\n",
    "            l_total.append(\" \".join(l_parcial))\n",
    "        else:\n",
    "            l_parcial = text1.split()[w*v1:w*v1 + split_size]\n",
    "            l_total.append(\" \".join(l_parcial))\n",
    "    return l_total"
   ]
  },
  {
   "cell_type": "code",
   "execution_count": 5,
   "metadata": {},
   "outputs": [
    {
     "output_type": "execute_result",
     "data": {
      "text/plain": [
       "   story_id                                           raw_text  label  len  \\\n",
       "0   6772845  kiev, january 21 (ria novosti) - former ukrain...      1  160   \n",
       "1  35455458  the ukrainian government has called for local ...      0   56   \n",
       "2  38817309  investigators probing the shooting down of mal...      0  343   \n",
       "3   7765503  kharkov, april 21 (ria novosti) - russia and u...      1  227   \n",
       "4  34816385  moscow, june 27 (ria novosti) - osce monitors ...      1  250   \n",
       "\n",
       "                                          text_split  \n",
       "0  [kiev, january 21 (ria novosti) - former ukrai...  \n",
       "1  [the ukrainian government has called for local...  \n",
       "2  [investigators probing the shooting down of ma...  \n",
       "3  [kharkov, april 21 (ria novosti) - russia and ...  \n",
       "4  [moscow, june 27 (ria novosti) - osce monitors...  "
      ],
      "text/html": "<div>\n<style scoped>\n    .dataframe tbody tr th:only-of-type {\n        vertical-align: middle;\n    }\n\n    .dataframe tbody tr th {\n        vertical-align: top;\n    }\n\n    .dataframe thead th {\n        text-align: right;\n    }\n</style>\n<table border=\"1\" class=\"dataframe\">\n  <thead>\n    <tr style=\"text-align: right;\">\n      <th></th>\n      <th>story_id</th>\n      <th>raw_text</th>\n      <th>label</th>\n      <th>len</th>\n      <th>text_split</th>\n    </tr>\n  </thead>\n  <tbody>\n    <tr>\n      <th>0</th>\n      <td>6772845</td>\n      <td>kiev, january 21 (ria novosti) - former ukrain...</td>\n      <td>1</td>\n      <td>160</td>\n      <td>[kiev, january 21 (ria novosti) - former ukrai...</td>\n    </tr>\n    <tr>\n      <th>1</th>\n      <td>35455458</td>\n      <td>the ukrainian government has called for local ...</td>\n      <td>0</td>\n      <td>56</td>\n      <td>[the ukrainian government has called for local...</td>\n    </tr>\n    <tr>\n      <th>2</th>\n      <td>38817309</td>\n      <td>investigators probing the shooting down of mal...</td>\n      <td>0</td>\n      <td>343</td>\n      <td>[investigators probing the shooting down of ma...</td>\n    </tr>\n    <tr>\n      <th>3</th>\n      <td>7765503</td>\n      <td>kharkov, april 21 (ria novosti) - russia and u...</td>\n      <td>1</td>\n      <td>227</td>\n      <td>[kharkov, april 21 (ria novosti) - russia and ...</td>\n    </tr>\n    <tr>\n      <th>4</th>\n      <td>34816385</td>\n      <td>moscow, june 27 (ria novosti) - osce monitors ...</td>\n      <td>1</td>\n      <td>250</td>\n      <td>[moscow, june 27 (ria novosti) - osce monitors...</td>\n    </tr>\n  </tbody>\n</table>\n</div>"
     },
     "metadata": {},
     "execution_count": 5
    }
   ],
   "source": [
    "train['text_split'] = train['raw_text'].apply(get_split)\n",
    "train.head()"
   ]
  },
  {
   "cell_type": "code",
   "execution_count": 6,
   "metadata": {},
   "outputs": [
    {
     "output_type": "display_data",
     "data": {
      "text/plain": "HBox(children=(FloatProgress(value=0.0, max=8390.0), HTML(value='')))",
      "application/vnd.jupyter.widget-view+json": {
       "version_major": 2,
       "version_minor": 0,
       "model_id": "9124d7cfdf4443ffa2cf5dbe4c0fff0c"
      }
     },
     "metadata": {}
    },
    {
     "output_type": "stream",
     "name": "stdout",
     "text": [
      "\nlength of train_split_v is: 19057\n"
     ]
    },
    {
     "output_type": "execute_result",
     "data": {
      "text/plain": [
       "   story_id  chunk_num                                           raw_text  \\\n",
       "0   6772845          0  kiev, january 21 (ria novosti) - former ukrain...   \n",
       "1  35455458          0  the ukrainian government has called for local ...   \n",
       "2  38817309          0  investigators probing the shooting down of mal...   \n",
       "3  38817309          1  investigators probing the shooting down of mal...   \n",
       "4   7765503          0  kharkov, april 21 (ria novosti) - russia and u...   \n",
       "\n",
       "                                          text_chunk  label  \n",
       "0  kiev, january 21 (ria novosti) - former ukrain...      1  \n",
       "1  the ukrainian government has called for local ...      0  \n",
       "2  investigators probing the shooting down of mal...      0  \n",
       "3  at ukraine's military. members of the joint in...      0  \n",
       "4  kharkov, april 21 (ria novosti) - russia and u...      1  "
      ],
      "text/html": "<div>\n<style scoped>\n    .dataframe tbody tr th:only-of-type {\n        vertical-align: middle;\n    }\n\n    .dataframe tbody tr th {\n        vertical-align: top;\n    }\n\n    .dataframe thead th {\n        text-align: right;\n    }\n</style>\n<table border=\"1\" class=\"dataframe\">\n  <thead>\n    <tr style=\"text-align: right;\">\n      <th></th>\n      <th>story_id</th>\n      <th>chunk_num</th>\n      <th>raw_text</th>\n      <th>text_chunk</th>\n      <th>label</th>\n    </tr>\n  </thead>\n  <tbody>\n    <tr>\n      <th>0</th>\n      <td>6772845</td>\n      <td>0</td>\n      <td>kiev, january 21 (ria novosti) - former ukrain...</td>\n      <td>kiev, january 21 (ria novosti) - former ukrain...</td>\n      <td>1</td>\n    </tr>\n    <tr>\n      <th>1</th>\n      <td>35455458</td>\n      <td>0</td>\n      <td>the ukrainian government has called for local ...</td>\n      <td>the ukrainian government has called for local ...</td>\n      <td>0</td>\n    </tr>\n    <tr>\n      <th>2</th>\n      <td>38817309</td>\n      <td>0</td>\n      <td>investigators probing the shooting down of mal...</td>\n      <td>investigators probing the shooting down of mal...</td>\n      <td>0</td>\n    </tr>\n    <tr>\n      <th>3</th>\n      <td>38817309</td>\n      <td>1</td>\n      <td>investigators probing the shooting down of mal...</td>\n      <td>at ukraine's military. members of the joint in...</td>\n      <td>0</td>\n    </tr>\n    <tr>\n      <th>4</th>\n      <td>7765503</td>\n      <td>0</td>\n      <td>kharkov, april 21 (ria novosti) - russia and u...</td>\n      <td>kharkov, april 21 (ria novosti) - russia and u...</td>\n      <td>1</td>\n    </tr>\n  </tbody>\n</table>\n</div>"
     },
     "metadata": {},
     "execution_count": 6
    }
   ],
   "source": [
    "# create a row split version of dataset \n",
    "\n",
    "from tqdm import tqdm_notebook as tqdm\n",
    "tmp = []\n",
    "\n",
    "for i in tqdm(range(len(train))):\n",
    "    for j in range(len(train.iloc[i].text_split)):\n",
    "#         chunk_num = str(train.iloc[i]['story_id']) + '_' + str(j)\n",
    "        chunk_num = j\n",
    "        tmp.append(\n",
    "        {'story_id': train.iloc[i]['story_id'],\n",
    "            'chunk_num': chunk_num,\n",
    "            'raw_text': train.iloc[i]['raw_text'],\n",
    "            'text_chunk': train.iloc[i]['text_split'][j],\n",
    "            'label': train.iloc[i].label}\n",
    "        )\n",
    "\n",
    "train_split_v = pd.DataFrame(tmp) \n",
    "# train.head()\n",
    "print('length of train_split_v is:', len(train_split_v))\n",
    "train_split_v.head()\n"
   ]
  },
  {
   "cell_type": "code",
   "execution_count": 7,
   "metadata": {},
   "outputs": [
    {
     "output_type": "stream",
     "name": "stdout",
     "text": [
      "length of train_split_v is: 19057\n"
     ]
    }
   ],
   "source": [
    "print('length of train_split_v is:', len(train_split_v))"
   ]
  },
  {
   "cell_type": "code",
   "execution_count": 9,
   "metadata": {},
   "outputs": [],
   "source": [
    "# import textwrap\n",
    "# import random \n",
    "\n",
    "# # wrap text to 80 characters.\n",
    "\n",
    "# wrapper = textwrap.TextWrapper(width = 100)\n",
    "\n",
    "# # filter to just \"attack\" comments.\n",
    "\n",
    "# examples = train.query('label')['raw_text']\n",
    "\n",
    "# # Randomly choose some examples\n",
    "\n",
    "# for i in range(10):\n",
    "#     j = random.choice(examples.index)\n",
    "    \n",
    "#     print('')\n",
    "#     print(wrapper.fill(examples[j]))\n",
    "#     print('')"
   ]
  },
  {
   "cell_type": "code",
   "execution_count": 8,
   "metadata": {},
   "outputs": [
    {
     "output_type": "stream",
     "name": "stdout",
     "text": [
      "loading BERT tokenizer....\n",
      "    DONE.\n"
     ]
    }
   ],
   "source": [
    "from transformers import BertTokenizer\n",
    "\n",
    "# load the BERT tokenizer, \n",
    "print('loading BERT tokenizer....')\n",
    "tokenizer = BertTokenizer.from_pretrained('bert-base-uncased', do_lower_case = True)\n",
    "print('    DONE.')"
   ]
  },
  {
   "cell_type": "code",
   "execution_count": 11,
   "metadata": {},
   "outputs": [],
   "source": [
    "# # Retrieve the text from the first comment.\n",
    "# text = train.iloc[10].raw_text\n",
    "\n",
    "# tokens = tokenizer.tokenize(text)\n",
    "\n",
    "# # Print the original text\n",
    "# print('comment 0 (not an attack) contains {:,} wordpiece tokens.'.format(len(tokens)))\n",
    "# print('\\nOriginal comment text:\\n')\n",
    "# print(wrapper.fill(text))\n",
    "\n",
    "\n",
    "# # print out the list of tokens\n",
    "# print('**** First 512 tokens:*****\\n')\n",
    "# print(wrapper.fill(str(' '.join(tokens[0:512]))))\n",
    "\n",
    "# print('')\n",
    "\n",
    "# print('\\n****** Remaining {:,} tokens: *****\\n'.format(len(tokens) - 512))\n",
    "# print(wrapper.fill(str(' '.join(tokens[512:]))))"
   ]
  },
  {
   "cell_type": "code",
   "execution_count": 12,
   "metadata": {},
   "outputs": [],
   "source": [
    "# # First truncate the text to remove the last 79 tokens (which begin with the words \"are made in\"). \n",
    "# last_char = text.find('are made in')\n",
    "\n",
    "# # Truncate the text to only what fits in the 512 tokens.\n",
    "# text = text[0:last_char]\n",
    "\n",
    "# # Estimate the number of words in the comment by spliting it on whitespace.\n",
    "# # first remove all double spaces.\n",
    "# text = text.replace('  ', ' ')\n",
    "# num_words = len(text.split(' '))\n",
    "# print('Comment contains ~{:,} words.'.format(num_words))\n",
    "\n",
    "# # Estimate the number of sentences by counting up the periods.\n",
    "# num_sens = text.count('. ')\n",
    "# print('Comment contains ~{:,} sentences.'.format(num_sens))"
   ]
  },
  {
   "cell_type": "code",
   "execution_count": 9,
   "metadata": {},
   "outputs": [
    {
     "output_type": "stream",
     "name": "stdout",
     "text": [
      "Tokenizing texts.....\n"
     ]
    },
    {
     "output_type": "display_data",
     "data": {
      "text/plain": "HBox(children=(FloatProgress(value=0.0, max=19057.0), HTML(value='')))",
      "application/vnd.jupyter.widget-view+json": {
       "version_major": 2,
       "version_minor": 0,
       "model_id": "662189f102b344a2947ac0d253f242ac"
      }
     },
     "metadata": {}
    },
    {
     "output_type": "stream",
     "name": "stdout",
     "text": [
      " Read 0 texts.\n",
      " Read 200 texts.\n",
      " Read 400 texts.\n",
      " Read 600 texts.\n",
      " Read 800 texts.\n",
      " Read 1,000 texts.\n",
      " Read 1,200 texts.\n",
      " Read 1,400 texts.\n",
      " Read 1,600 texts.\n",
      " Read 1,800 texts.\n",
      " Read 2,000 texts.\n",
      " Read 2,200 texts.\n",
      " Read 2,400 texts.\n",
      " Read 2,600 texts.\n",
      " Read 2,800 texts.\n",
      " Read 3,000 texts.\n",
      " Read 3,200 texts.\n",
      " Read 3,400 texts.\n",
      " Read 3,600 texts.\n",
      " Read 3,800 texts.\n",
      " Read 4,000 texts.\n",
      " Read 4,200 texts.\n",
      " Read 4,400 texts.\n",
      " Read 4,600 texts.\n",
      " Read 4,800 texts.\n",
      " Read 5,000 texts.\n",
      " Read 5,200 texts.\n",
      " Read 5,400 texts.\n",
      " Read 5,600 texts.\n",
      " Read 5,800 texts.\n",
      " Read 6,000 texts.\n",
      " Read 6,200 texts.\n",
      " Read 6,400 texts.\n",
      " Read 6,600 texts.\n",
      " Read 6,800 texts.\n",
      " Read 7,000 texts.\n",
      " Read 7,200 texts.\n",
      " Read 7,400 texts.\n",
      " Read 7,600 texts.\n",
      " Read 7,800 texts.\n",
      " Read 8,000 texts.\n",
      " Read 8,200 texts.\n",
      " Read 8,400 texts.\n",
      " Read 8,600 texts.\n",
      " Read 8,800 texts.\n",
      " Read 9,000 texts.\n",
      " Read 9,200 texts.\n",
      " Read 9,400 texts.\n",
      " Read 9,600 texts.\n",
      " Read 9,800 texts.\n",
      " Read 10,000 texts.\n",
      " Read 10,200 texts.\n",
      " Read 10,400 texts.\n",
      " Read 10,600 texts.\n",
      " Read 10,800 texts.\n",
      " Read 11,000 texts.\n",
      " Read 11,200 texts.\n",
      " Read 11,400 texts.\n",
      " Read 11,600 texts.\n",
      " Read 11,800 texts.\n",
      " Read 12,000 texts.\n",
      " Read 12,200 texts.\n",
      " Read 12,400 texts.\n",
      " Read 12,600 texts.\n",
      " Read 12,800 texts.\n",
      " Read 13,000 texts.\n",
      " Read 13,200 texts.\n",
      " Read 13,400 texts.\n",
      " Read 13,600 texts.\n",
      " Read 13,800 texts.\n",
      " Read 14,000 texts.\n",
      " Read 14,200 texts.\n",
      " Read 14,400 texts.\n",
      " Read 14,600 texts.\n",
      " Read 14,800 texts.\n",
      " Read 15,000 texts.\n",
      " Read 15,200 texts.\n",
      " Read 15,400 texts.\n",
      " Read 15,600 texts.\n",
      " Read 15,800 texts.\n",
      " Read 16,000 texts.\n",
      " Read 16,200 texts.\n",
      " Read 16,400 texts.\n",
      " Read 16,600 texts.\n",
      " Read 16,800 texts.\n",
      " Read 17,000 texts.\n",
      " Read 17,200 texts.\n",
      " Read 17,400 texts.\n",
      " Read 17,600 texts.\n",
      " Read 17,800 texts.\n",
      " Read 18,000 texts.\n",
      " Read 18,200 texts.\n",
      " Read 18,400 texts.\n",
      " Read 18,600 texts.\n",
      " Read 18,800 texts.\n",
      " Read 19,000 texts.\n",
      "\n",
      "DONE\n",
      "    19,057 comments\n",
      "   Min length: 18 tokens\n",
      "   Max length: 395 tokens\n",
      "Median length: 251.0 tokens\n"
     ]
    }
   ],
   "source": [
    "import numpy as np\n",
    "from tqdm import tqdm_notebook as tqdm\n",
    "\n",
    "# Tokenize all the sentences and map the tokens to their word IDs.\n",
    "\n",
    "input_ids = []\n",
    "\n",
    "# Record the length of each sequence (after truncating to 512).\n",
    "\n",
    "lengths = []\n",
    "\n",
    "print('Tokenizing texts.....')\n",
    "\n",
    "# For every sentence....\n",
    "for text in tqdm(train_split_v.text_chunk):\n",
    "    # Report progress.\n",
    "    if ((len(input_ids) % 200) == 0):\n",
    "        print(' Read {:,} texts.'.format(len(input_ids)))\n",
    "        \n",
    "    # endoce will: \n",
    "    # (1) Tokenize the sentence\n",
    "    # (2) Prepend the \"[CLS]\" token to the start.\n",
    "    # (3) Append the \"[SEP]\" token to the end.\n",
    "    # (4) Map tokens to their IDs. \n",
    "    encoded_text = tokenizer.encode(\n",
    "        text,                          #sentence to encode.\n",
    "        add_special_tokens = True,   # Add '[CLS]' and '[SEP]'\n",
    "#             max_length = 512,            # Truncate all the sentences.\n",
    "#             return_tensors = 'pt'        # Return pytorch tensors.\n",
    "    )\n",
    "    # Add the encoded sentence to the list\n",
    "    input_ids.append(encoded_text)\n",
    "    \n",
    "    # Record the truncated length.\n",
    "    lengths.append(len(encoded_text))\n",
    "    \n",
    "print('DONE')\n",
    "print('{:>10,} comments'.format(len(input_ids)))\n",
    "\n",
    "print('   Min length: {:,} tokens'.format(min(lengths)))\n",
    "print('   Max length: {:,} tokens'.format(max(lengths)))\n",
    "print('Median length: {:,} tokens'.format(np.median(lengths)))"
   ]
  },
  {
   "cell_type": "code",
   "execution_count": 10,
   "metadata": {},
   "outputs": [
    {
     "output_type": "stream",
     "name": "stdout",
     "text": [
      "  7,380 label as 1 \n 11,677 labels as 0\n"
     ]
    }
   ],
   "source": [
    "chunk_nums = train_split_v.chunk_num.to_numpy().astype(int)\n",
    "story_ids = train_split_v.story_id.to_numpy().astype(int)\n",
    "\n",
    "# ALso retreive the labels as a list\n",
    "\n",
    "# Get the labels from dataframe, and convert from booleans to ints.\n",
    "\n",
    "labels = train_split_v.label.to_numpy().astype(int)\n",
    "print('{:>7,} label as 1 '.format(np.sum(labels)))\n",
    "print('{:>7,} labels as 0'.format(len(labels)-np.sum(labels)))"
   ]
  },
  {
   "cell_type": "code",
   "execution_count": 15,
   "metadata": {},
   "outputs": [],
   "source": [
    "# import matplotlib.pyplot as plt\n",
    "# import seaborn as sns\n",
    "# import numpy as np\n",
    "\n",
    "# sns.set(style='darkgrid')\n",
    "\n",
    "# # Increase the plot size and font size.\n",
    "# sns.set(font_scale=1.5)\n",
    "# plt.rcParams['figure.figsize'] = (10,5)\n",
    "\n",
    "# # Truncate any comment lengths greater tahn 512.\n",
    "# lengths = [min(l, 512) for l in lengths]\n",
    "\n",
    "# # Plot the distribution of comment lengths.\n",
    "# sns.distplot(lengths, kde=False, rug=False)\n",
    "# plt.title('Comment lengths')\n",
    "# plt.xlabel('Comment length')\n",
    "# plt.ylabel ('# of comments')"
   ]
  },
  {
   "cell_type": "code",
   "execution_count": 16,
   "metadata": {},
   "outputs": [],
   "source": [
    "# # count the number of sentences that had to be truncated to 512 tokens. \n",
    "# num_truncated = lengths.count(512)\n",
    "\n",
    "# # compare this to the total number of training sentences.\n",
    "# num_sentences = len(lengths)\n",
    "# prcnt = float(num_truncated)/ float(num_sentences)\n",
    "# print('{:,} of {:,} sentences ({:.1%}) in the training set are longer than 512 tokens.'.format(num_truncated, num_sentences, prcnt))"
   ]
  },
  {
   "cell_type": "code",
   "execution_count": 12,
   "metadata": {},
   "outputs": [
    {
     "output_type": "stream",
     "name": "stdout",
     "text": [
      "\n",
      "Padding/truncating all sentences to 512 values...\n",
      "\n",
      "Padding token: \"[PAD]\", ID: 0\n",
      "\n",
      "Done.\n"
     ]
    }
   ],
   "source": [
    "# We'll borrow the `pad_sequences` utility function to do this.\n",
    "from keras.preprocessing.sequence import pad_sequences\n",
    "\n",
    "# Set the maximum sequence length.\n",
    "MAX_LEN = 512\n",
    "\n",
    "print('\\nPadding/truncating all sentences to %d values...' % MAX_LEN)\n",
    "\n",
    "print('\\nPadding token: \"{:}\", ID: {:}'.format(tokenizer.pad_token, tokenizer.pad_token_id))\n",
    "\n",
    "# Pad our input tokens with value 0.\n",
    "# \"post\" indicates that we want to pad and truncate at the end of the sequence,\n",
    "# as opposed to the beginning.\n",
    "input_ids = pad_sequences(input_ids, maxlen=MAX_LEN, dtype=\"long\", \n",
    "                          value=0, truncating=\"post\", padding=\"post\")\n",
    "\n",
    "print('\\nDone.')"
   ]
  },
  {
   "cell_type": "code",
   "execution_count": 14,
   "metadata": {},
   "outputs": [],
   "source": [
    "# Create attention masks\n",
    "attention_masks = []\n",
    "\n",
    "# For each sentence...\n",
    "for sent in input_ids:\n",
    "    \n",
    "    # Create the attention mask.\n",
    "    #   - If a token ID is 0, then it's padding, set the mask to 0.\n",
    "    #   - If a token ID is > 0, then it's a real token, set the mask to 1.\n",
    "    att_mask = [int(token_id > 0) for token_id in sent]\n",
    "    \n",
    "    # Store the attention mask for this sentence.\n",
    "    attention_masks.append(att_mask)"
   ]
  },
  {
   "cell_type": "code",
   "execution_count": 15,
   "metadata": {},
   "outputs": [],
   "source": [
    "# Use train_test_split to split our data into train and validation sets for\n",
    "# training\n",
    "from sklearn.model_selection import train_test_split\n",
    "\n",
    "# Use 90% for training and 10% for validation.\n",
    "train_inputs, validation_inputs, train_labels, validation_labels = train_test_split(input_ids, labels, \n",
    "                                                            random_state=2018, test_size=0.1)\n",
    "# Do the same for the masks.\n",
    "train_masks, validation_masks, _, _ = train_test_split(attention_masks, labels,\n",
    "                                             random_state=2018, test_size=0.1)"
   ]
  },
  {
   "cell_type": "code",
   "execution_count": 16,
   "metadata": {},
   "outputs": [],
   "source": [
    "# Convert all inputs and labels into torch tensors, the required datatype \n",
    "# for our model.\n",
    "train_inputs = torch.tensor(train_inputs)\n",
    "validation_inputs = torch.tensor(validation_inputs)\n",
    "\n",
    "train_labels = torch.tensor(train_labels)\n",
    "validation_labels = torch.tensor(validation_labels)\n",
    "\n",
    "train_masks = torch.tensor(train_masks)\n",
    "validation_masks = torch.tensor(validation_masks)"
   ]
  },
  {
   "cell_type": "code",
   "execution_count": 18,
   "metadata": {},
   "outputs": [],
   "source": [
    "from torch.utils.data import TensorDataset, DataLoader, RandomSampler, SequentialSampler\n",
    "\n",
    "# The DataLoader needs to know our batch size for training, so we specify it here.\n",
    "# For fine-tuning BERT on a specific task, the authors recommend a batch size of 16 or 32.\n",
    "\n",
    "batch_size = 32\n",
    "\n",
    "# Create the DataLoader for our training set.\n",
    "train_data = TensorDataset(train_inputs, train_masks, train_labels)\n",
    "train_sampler = RandomSampler(train_data)\n",
    "train_dataloader = DataLoader(train_data, sampler=train_sampler, batch_size=batch_size)\n",
    "\n",
    "# Create the DataLoader for our validation set.\n",
    "validation_data = TensorDataset(validation_inputs, validation_masks, validation_labels)\n",
    "validation_sampler = SequentialSampler(validation_data)\n",
    "validation_dataloader = DataLoader(validation_data, sampler=validation_sampler, batch_size=batch_size)\n"
   ]
  },
  {
   "cell_type": "code",
   "execution_count": 21,
   "metadata": {},
   "outputs": [
    {
     "output_type": "stream",
     "name": "stderr",
     "text": [
      "Some weights of the model checkpoint at bert-base-uncased were not used when initializing BertForSequenceClassification: ['cls.predictions.bias', 'cls.predictions.transform.dense.weight', 'cls.predictions.transform.dense.bias', 'cls.predictions.decoder.weight', 'cls.seq_relationship.weight', 'cls.seq_relationship.bias', 'cls.predictions.transform.LayerNorm.weight', 'cls.predictions.transform.LayerNorm.bias']\n",
      "- This IS expected if you are initializing BertForSequenceClassification from the checkpoint of a model trained on another task or with another architecture (e.g. initializing a BertForSequenceClassification model from a BertForPretraining model).\n",
      "- This IS NOT expected if you are initializing BertForSequenceClassification from the checkpoint of a model that you expect to be exactly identical (initializing a BertForSequenceClassification model from a BertForSequenceClassification model).\n",
      "Some weights of BertForSequenceClassification were not initialized from the model checkpoint at bert-base-uncased and are newly initialized: ['classifier.weight', 'classifier.bias']\n",
      "You should probably TRAIN this model on a down-stream task to be able to use it for predictions and inference.\n"
     ]
    }
   ],
   "source": [
    "from transformers import BertForSequenceClassification, AdamW, BertConfig\n",
    "\n",
    "# Load BertForSequenceClassification, the pretrained BERT model with a single \n",
    "# linear classification layer on top. \n",
    "model = BertForSequenceClassification.from_pretrained(\n",
    "    \"bert-base-uncased\", # Use the 12-layer BERT model, with an uncased vocab.\n",
    "    num_labels = 2, # The number of output labels--2 for binary classification.\n",
    "                    # You can increase this for multi-class tasks.   \n",
    "    output_attentions = False, # Whether the model returns attentions weights.\n",
    "    output_hidden_states = False, # Whether the model returns all hidden-states.\n",
    ")\n",
    "model_path = './model_save/pytorch_model_2.bin'\n",
    "# state_dict = torch.load(model_path)\n",
    "# model.load_state_dict(state_dict)\n",
    "# Tell pytorch to run this model on the GPU.\n",
    "if torch.cuda.is_available():\n",
    "        model.cuda()\n",
    "        model = torch.nn.DataParallel(model)\n"
   ]
  },
  {
   "cell_type": "code",
   "execution_count": 22,
   "metadata": {},
   "outputs": [
    {
     "output_type": "stream",
     "name": "stdout",
     "text": [
      "module.bert.embeddings.word_embeddings.weight torch.Size([30522, 768])\nmodule.bert.embeddings.position_embeddings.weight torch.Size([512, 768])\nmodule.bert.embeddings.token_type_embeddings.weight torch.Size([2, 768])\nmodule.bert.embeddings.LayerNorm.weight torch.Size([768])\nmodule.bert.embeddings.LayerNorm.bias torch.Size([768])\nmodule.bert.encoder.layer.0.attention.self.query.weight torch.Size([768, 768])\nmodule.bert.encoder.layer.0.attention.self.query.bias torch.Size([768])\nmodule.bert.encoder.layer.0.attention.self.key.weight torch.Size([768, 768])\nmodule.bert.encoder.layer.0.attention.self.key.bias torch.Size([768])\nmodule.bert.encoder.layer.0.attention.self.value.weight torch.Size([768, 768])\nmodule.bert.encoder.layer.0.attention.self.value.bias torch.Size([768])\nmodule.bert.encoder.layer.0.attention.output.dense.weight torch.Size([768, 768])\nmodule.bert.encoder.layer.0.attention.output.dense.bias torch.Size([768])\nmodule.bert.encoder.layer.0.attention.output.LayerNorm.weight torch.Size([768])\nmodule.bert.encoder.layer.0.attention.output.LayerNorm.bias torch.Size([768])\nmodule.bert.encoder.layer.0.intermediate.dense.weight torch.Size([3072, 768])\nmodule.bert.encoder.layer.0.intermediate.dense.bias torch.Size([3072])\nmodule.bert.encoder.layer.0.output.dense.weight torch.Size([768, 3072])\nmodule.bert.encoder.layer.0.output.dense.bias torch.Size([768])\nmodule.bert.encoder.layer.0.output.LayerNorm.weight torch.Size([768])\nmodule.bert.encoder.layer.0.output.LayerNorm.bias torch.Size([768])\nmodule.bert.encoder.layer.1.attention.self.query.weight torch.Size([768, 768])\nmodule.bert.encoder.layer.1.attention.self.query.bias torch.Size([768])\nmodule.bert.encoder.layer.1.attention.self.key.weight torch.Size([768, 768])\nmodule.bert.encoder.layer.1.attention.self.key.bias torch.Size([768])\nmodule.bert.encoder.layer.1.attention.self.value.weight torch.Size([768, 768])\nmodule.bert.encoder.layer.1.attention.self.value.bias torch.Size([768])\nmodule.bert.encoder.layer.1.attention.output.dense.weight torch.Size([768, 768])\nmodule.bert.encoder.layer.1.attention.output.dense.bias torch.Size([768])\nmodule.bert.encoder.layer.1.attention.output.LayerNorm.weight torch.Size([768])\nmodule.bert.encoder.layer.1.attention.output.LayerNorm.bias torch.Size([768])\nmodule.bert.encoder.layer.1.intermediate.dense.weight torch.Size([3072, 768])\nmodule.bert.encoder.layer.1.intermediate.dense.bias torch.Size([3072])\nmodule.bert.encoder.layer.1.output.dense.weight torch.Size([768, 3072])\nmodule.bert.encoder.layer.1.output.dense.bias torch.Size([768])\nmodule.bert.encoder.layer.1.output.LayerNorm.weight torch.Size([768])\nmodule.bert.encoder.layer.1.output.LayerNorm.bias torch.Size([768])\nmodule.bert.encoder.layer.2.attention.self.query.weight torch.Size([768, 768])\nmodule.bert.encoder.layer.2.attention.self.query.bias torch.Size([768])\nmodule.bert.encoder.layer.2.attention.self.key.weight torch.Size([768, 768])\nmodule.bert.encoder.layer.2.attention.self.key.bias torch.Size([768])\nmodule.bert.encoder.layer.2.attention.self.value.weight torch.Size([768, 768])\nmodule.bert.encoder.layer.2.attention.self.value.bias torch.Size([768])\nmodule.bert.encoder.layer.2.attention.output.dense.weight torch.Size([768, 768])\nmodule.bert.encoder.layer.2.attention.output.dense.bias torch.Size([768])\nmodule.bert.encoder.layer.2.attention.output.LayerNorm.weight torch.Size([768])\nmodule.bert.encoder.layer.2.attention.output.LayerNorm.bias torch.Size([768])\nmodule.bert.encoder.layer.2.intermediate.dense.weight torch.Size([3072, 768])\nmodule.bert.encoder.layer.2.intermediate.dense.bias torch.Size([3072])\nmodule.bert.encoder.layer.2.output.dense.weight torch.Size([768, 3072])\nmodule.bert.encoder.layer.2.output.dense.bias torch.Size([768])\nmodule.bert.encoder.layer.2.output.LayerNorm.weight torch.Size([768])\nmodule.bert.encoder.layer.2.output.LayerNorm.bias torch.Size([768])\nmodule.bert.encoder.layer.3.attention.self.query.weight torch.Size([768, 768])\nmodule.bert.encoder.layer.3.attention.self.query.bias torch.Size([768])\nmodule.bert.encoder.layer.3.attention.self.key.weight torch.Size([768, 768])\nmodule.bert.encoder.layer.3.attention.self.key.bias torch.Size([768])\nmodule.bert.encoder.layer.3.attention.self.value.weight torch.Size([768, 768])\nmodule.bert.encoder.layer.3.attention.self.value.bias torch.Size([768])\nmodule.bert.encoder.layer.3.attention.output.dense.weight torch.Size([768, 768])\nmodule.bert.encoder.layer.3.attention.output.dense.bias torch.Size([768])\nmodule.bert.encoder.layer.3.attention.output.LayerNorm.weight torch.Size([768])\nmodule.bert.encoder.layer.3.attention.output.LayerNorm.bias torch.Size([768])\nmodule.bert.encoder.layer.3.intermediate.dense.weight torch.Size([3072, 768])\nmodule.bert.encoder.layer.3.intermediate.dense.bias torch.Size([3072])\nmodule.bert.encoder.layer.3.output.dense.weight torch.Size([768, 3072])\nmodule.bert.encoder.layer.3.output.dense.bias torch.Size([768])\nmodule.bert.encoder.layer.3.output.LayerNorm.weight torch.Size([768])\nmodule.bert.encoder.layer.3.output.LayerNorm.bias torch.Size([768])\nmodule.bert.encoder.layer.4.attention.self.query.weight torch.Size([768, 768])\nmodule.bert.encoder.layer.4.attention.self.query.bias torch.Size([768])\nmodule.bert.encoder.layer.4.attention.self.key.weight torch.Size([768, 768])\nmodule.bert.encoder.layer.4.attention.self.key.bias torch.Size([768])\nmodule.bert.encoder.layer.4.attention.self.value.weight torch.Size([768, 768])\nmodule.bert.encoder.layer.4.attention.self.value.bias torch.Size([768])\nmodule.bert.encoder.layer.4.attention.output.dense.weight torch.Size([768, 768])\nmodule.bert.encoder.layer.4.attention.output.dense.bias torch.Size([768])\nmodule.bert.encoder.layer.4.attention.output.LayerNorm.weight torch.Size([768])\nmodule.bert.encoder.layer.4.attention.output.LayerNorm.bias torch.Size([768])\nmodule.bert.encoder.layer.4.intermediate.dense.weight torch.Size([3072, 768])\nmodule.bert.encoder.layer.4.intermediate.dense.bias torch.Size([3072])\nmodule.bert.encoder.layer.4.output.dense.weight torch.Size([768, 3072])\nmodule.bert.encoder.layer.4.output.dense.bias torch.Size([768])\nmodule.bert.encoder.layer.4.output.LayerNorm.weight torch.Size([768])\nmodule.bert.encoder.layer.4.output.LayerNorm.bias torch.Size([768])\nmodule.bert.encoder.layer.5.attention.self.query.weight torch.Size([768, 768])\nmodule.bert.encoder.layer.5.attention.self.query.bias torch.Size([768])\nmodule.bert.encoder.layer.5.attention.self.key.weight torch.Size([768, 768])\nmodule.bert.encoder.layer.5.attention.self.key.bias torch.Size([768])\nmodule.bert.encoder.layer.5.attention.self.value.weight torch.Size([768, 768])\nmodule.bert.encoder.layer.5.attention.self.value.bias torch.Size([768])\nmodule.bert.encoder.layer.5.attention.output.dense.weight torch.Size([768, 768])\nmodule.bert.encoder.layer.5.attention.output.dense.bias torch.Size([768])\nmodule.bert.encoder.layer.5.attention.output.LayerNorm.weight torch.Size([768])\nmodule.bert.encoder.layer.5.attention.output.LayerNorm.bias torch.Size([768])\nmodule.bert.encoder.layer.5.intermediate.dense.weight torch.Size([3072, 768])\nmodule.bert.encoder.layer.5.intermediate.dense.bias torch.Size([3072])\nmodule.bert.encoder.layer.5.output.dense.weight torch.Size([768, 3072])\nmodule.bert.encoder.layer.5.output.dense.bias torch.Size([768])\nmodule.bert.encoder.layer.5.output.LayerNorm.weight torch.Size([768])\nmodule.bert.encoder.layer.5.output.LayerNorm.bias torch.Size([768])\nmodule.bert.encoder.layer.6.attention.self.query.weight torch.Size([768, 768])\nmodule.bert.encoder.layer.6.attention.self.query.bias torch.Size([768])\nmodule.bert.encoder.layer.6.attention.self.key.weight torch.Size([768, 768])\nmodule.bert.encoder.layer.6.attention.self.key.bias torch.Size([768])\nmodule.bert.encoder.layer.6.attention.self.value.weight torch.Size([768, 768])\nmodule.bert.encoder.layer.6.attention.self.value.bias torch.Size([768])\nmodule.bert.encoder.layer.6.attention.output.dense.weight torch.Size([768, 768])\nmodule.bert.encoder.layer.6.attention.output.dense.bias torch.Size([768])\nmodule.bert.encoder.layer.6.attention.output.LayerNorm.weight torch.Size([768])\nmodule.bert.encoder.layer.6.attention.output.LayerNorm.bias torch.Size([768])\nmodule.bert.encoder.layer.6.intermediate.dense.weight torch.Size([3072, 768])\nmodule.bert.encoder.layer.6.intermediate.dense.bias torch.Size([3072])\nmodule.bert.encoder.layer.6.output.dense.weight torch.Size([768, 3072])\nmodule.bert.encoder.layer.6.output.dense.bias torch.Size([768])\nmodule.bert.encoder.layer.6.output.LayerNorm.weight torch.Size([768])\nmodule.bert.encoder.layer.6.output.LayerNorm.bias torch.Size([768])\nmodule.bert.encoder.layer.7.attention.self.query.weight torch.Size([768, 768])\nmodule.bert.encoder.layer.7.attention.self.query.bias torch.Size([768])\nmodule.bert.encoder.layer.7.attention.self.key.weight torch.Size([768, 768])\nmodule.bert.encoder.layer.7.attention.self.key.bias torch.Size([768])\nmodule.bert.encoder.layer.7.attention.self.value.weight torch.Size([768, 768])\nmodule.bert.encoder.layer.7.attention.self.value.bias torch.Size([768])\nmodule.bert.encoder.layer.7.attention.output.dense.weight torch.Size([768, 768])\nmodule.bert.encoder.layer.7.attention.output.dense.bias torch.Size([768])\nmodule.bert.encoder.layer.7.attention.output.LayerNorm.weight torch.Size([768])\nmodule.bert.encoder.layer.7.attention.output.LayerNorm.bias torch.Size([768])\nmodule.bert.encoder.layer.7.intermediate.dense.weight torch.Size([3072, 768])\nmodule.bert.encoder.layer.7.intermediate.dense.bias torch.Size([3072])\nmodule.bert.encoder.layer.7.output.dense.weight torch.Size([768, 3072])\nmodule.bert.encoder.layer.7.output.dense.bias torch.Size([768])\nmodule.bert.encoder.layer.7.output.LayerNorm.weight torch.Size([768])\nmodule.bert.encoder.layer.7.output.LayerNorm.bias torch.Size([768])\nmodule.bert.encoder.layer.8.attention.self.query.weight torch.Size([768, 768])\nmodule.bert.encoder.layer.8.attention.self.query.bias torch.Size([768])\nmodule.bert.encoder.layer.8.attention.self.key.weight torch.Size([768, 768])\nmodule.bert.encoder.layer.8.attention.self.key.bias torch.Size([768])\nmodule.bert.encoder.layer.8.attention.self.value.weight torch.Size([768, 768])\nmodule.bert.encoder.layer.8.attention.self.value.bias torch.Size([768])\nmodule.bert.encoder.layer.8.attention.output.dense.weight torch.Size([768, 768])\nmodule.bert.encoder.layer.8.attention.output.dense.bias torch.Size([768])\nmodule.bert.encoder.layer.8.attention.output.LayerNorm.weight torch.Size([768])\nmodule.bert.encoder.layer.8.attention.output.LayerNorm.bias torch.Size([768])\nmodule.bert.encoder.layer.8.intermediate.dense.weight torch.Size([3072, 768])\nmodule.bert.encoder.layer.8.intermediate.dense.bias torch.Size([3072])\nmodule.bert.encoder.layer.8.output.dense.weight torch.Size([768, 3072])\nmodule.bert.encoder.layer.8.output.dense.bias torch.Size([768])\nmodule.bert.encoder.layer.8.output.LayerNorm.weight torch.Size([768])\nmodule.bert.encoder.layer.8.output.LayerNorm.bias torch.Size([768])\nmodule.bert.encoder.layer.9.attention.self.query.weight torch.Size([768, 768])\nmodule.bert.encoder.layer.9.attention.self.query.bias torch.Size([768])\nmodule.bert.encoder.layer.9.attention.self.key.weight torch.Size([768, 768])\nmodule.bert.encoder.layer.9.attention.self.key.bias torch.Size([768])\nmodule.bert.encoder.layer.9.attention.self.value.weight torch.Size([768, 768])\nmodule.bert.encoder.layer.9.attention.self.value.bias torch.Size([768])\nmodule.bert.encoder.layer.9.attention.output.dense.weight torch.Size([768, 768])\nmodule.bert.encoder.layer.9.attention.output.dense.bias torch.Size([768])\nmodule.bert.encoder.layer.9.attention.output.LayerNorm.weight torch.Size([768])\nmodule.bert.encoder.layer.9.attention.output.LayerNorm.bias torch.Size([768])\nmodule.bert.encoder.layer.9.intermediate.dense.weight torch.Size([3072, 768])\nmodule.bert.encoder.layer.9.intermediate.dense.bias torch.Size([3072])\nmodule.bert.encoder.layer.9.output.dense.weight torch.Size([768, 3072])\nmodule.bert.encoder.layer.9.output.dense.bias torch.Size([768])\nmodule.bert.encoder.layer.9.output.LayerNorm.weight torch.Size([768])\nmodule.bert.encoder.layer.9.output.LayerNorm.bias torch.Size([768])\nmodule.bert.encoder.layer.10.attention.self.query.weight torch.Size([768, 768])\nmodule.bert.encoder.layer.10.attention.self.query.bias torch.Size([768])\nmodule.bert.encoder.layer.10.attention.self.key.weight torch.Size([768, 768])\nmodule.bert.encoder.layer.10.attention.self.key.bias torch.Size([768])\nmodule.bert.encoder.layer.10.attention.self.value.weight torch.Size([768, 768])\nmodule.bert.encoder.layer.10.attention.self.value.bias torch.Size([768])\nmodule.bert.encoder.layer.10.attention.output.dense.weight torch.Size([768, 768])\nmodule.bert.encoder.layer.10.attention.output.dense.bias torch.Size([768])\nmodule.bert.encoder.layer.10.attention.output.LayerNorm.weight torch.Size([768])\nmodule.bert.encoder.layer.10.attention.output.LayerNorm.bias torch.Size([768])\nmodule.bert.encoder.layer.10.intermediate.dense.weight torch.Size([3072, 768])\nmodule.bert.encoder.layer.10.intermediate.dense.bias torch.Size([3072])\nmodule.bert.encoder.layer.10.output.dense.weight torch.Size([768, 3072])\nmodule.bert.encoder.layer.10.output.dense.bias torch.Size([768])\nmodule.bert.encoder.layer.10.output.LayerNorm.weight torch.Size([768])\nmodule.bert.encoder.layer.10.output.LayerNorm.bias torch.Size([768])\nmodule.bert.encoder.layer.11.attention.self.query.weight torch.Size([768, 768])\nmodule.bert.encoder.layer.11.attention.self.query.bias torch.Size([768])\nmodule.bert.encoder.layer.11.attention.self.key.weight torch.Size([768, 768])\nmodule.bert.encoder.layer.11.attention.self.key.bias torch.Size([768])\nmodule.bert.encoder.layer.11.attention.self.value.weight torch.Size([768, 768])\nmodule.bert.encoder.layer.11.attention.self.value.bias torch.Size([768])\nmodule.bert.encoder.layer.11.attention.output.dense.weight torch.Size([768, 768])\nmodule.bert.encoder.layer.11.attention.output.dense.bias torch.Size([768])\nmodule.bert.encoder.layer.11.attention.output.LayerNorm.weight torch.Size([768])\nmodule.bert.encoder.layer.11.attention.output.LayerNorm.bias torch.Size([768])\nmodule.bert.encoder.layer.11.intermediate.dense.weight torch.Size([3072, 768])\nmodule.bert.encoder.layer.11.intermediate.dense.bias torch.Size([3072])\nmodule.bert.encoder.layer.11.output.dense.weight torch.Size([768, 3072])\nmodule.bert.encoder.layer.11.output.dense.bias torch.Size([768])\nmodule.bert.encoder.layer.11.output.LayerNorm.weight torch.Size([768])\nmodule.bert.encoder.layer.11.output.LayerNorm.bias torch.Size([768])\nmodule.bert.pooler.dense.weight torch.Size([768, 768])\nmodule.bert.pooler.dense.bias torch.Size([768])\nmodule.classifier.weight torch.Size([2, 768])\nmodule.classifier.bias torch.Size([2])\n----\n"
     ]
    }
   ],
   "source": [
    "# Note: AdamW is a class from the huggingface library (as opposed to pytorch) \n",
    "# I believe the 'W' stands for 'Weight Decay fix\"\n",
    "optimizable_params = []\n",
    "for name, p in model.named_parameters():\n",
    "    if p.requires_grad:\n",
    "#         print(p.name, p.shape)\n",
    "        print(name, p.shape)\n",
    "        if name == 'classifier.bias' or name == 'classifier.weight':\n",
    "            optimizable_params.append(p)\n",
    "# for p in model.parameters():\n",
    "#     if p.requires_grad:\n",
    "# #         print(p.name, p.shape)\n",
    "# #         print(name, p.shape)\n",
    "#         if p.name == 'classifer.bias' or p.name == 'classifier.weight':\n",
    "#             optimizable_params.append(p)\n",
    "print(\"----\")            \n",
    "# print(optimizable_params)\n",
    "# for p in optimizable_params:\n",
    "#     print(p.shape)\n",
    "optimizer = AdamW(model.parameters(),#optimizable_params,\n",
    "                  lr = 2e-5, # args.learning_rate - default is 5e-5, our notebook had 2e-5\n",
    "                  eps = 1e-8 # args.adam_epsilon  - default is 1e-8.\n",
    "                )"
   ]
  },
  {
   "cell_type": "code",
   "execution_count": 24,
   "metadata": {},
   "outputs": [],
   "source": [
    "from transformers import get_linear_schedule_with_warmup\n",
    "\n",
    "# Number of training epochs (authors recommend between 2 and 4)\n",
    "epochs = 3\n",
    "\n",
    "# Total number of training steps is number of batches * number of epochs.\n",
    "total_steps = len(train_dataloader) * epochs\n",
    "\n",
    "# Create the learning rate scheduler.\n",
    "scheduler = get_linear_schedule_with_warmup(optimizer, \n",
    "                                            num_warmup_steps = 0, # Default value in run_glue.py\n",
    "                                            num_training_steps = total_steps)"
   ]
  },
  {
   "cell_type": "code",
   "execution_count": 25,
   "metadata": {},
   "outputs": [],
   "source": [
    "import numpy as np\n",
    "\n",
    "# Function to calculate the accuracy of our predictions vs labels\n",
    "def flat_accuracy(preds, labels):\n",
    "    pred_flat = np.argmax(preds, axis=1).flatten()\n",
    "    labels_flat = labels.flatten()\n",
    "    return np.sum(pred_flat == labels_flat) / len(labels_flat)"
   ]
  },
  {
   "cell_type": "code",
   "execution_count": 26,
   "metadata": {},
   "outputs": [],
   "source": [
    "# Our performance metric for the test set.\n",
    "from sklearn.metrics import roc_auc_score\n",
    "\n",
    "def calc_roc_auc (true_labels, pred_labels):\n",
    "\n",
    "    # Calculate the ROC AUC\n",
    "    auc = roc_auc_score(true_labels, pred_labels)\n",
    "\n",
    "#     print('Test ROC AUC: %.3f' %auc)\n",
    "    return auc"
   ]
  },
  {
   "cell_type": "code",
   "execution_count": 27,
   "metadata": {},
   "outputs": [],
   "source": [
    "import time\n",
    "import datetime\n",
    "\n",
    "def format_time(elapsed):\n",
    "    '''\n",
    "    Takes a time in seconds and returns a string hh:mm:ss\n",
    "    '''\n",
    "    # Round to the nearest second.\n",
    "    elapsed_rounded = int(round((elapsed)))\n",
    "    \n",
    "    # Format as hh:mm:ss\n",
    "    return str(datetime.timedelta(seconds=elapsed_rounded))"
   ]
  },
  {
   "cell_type": "code",
   "execution_count": 28,
   "metadata": {},
   "outputs": [],
   "source": [
    "def model_save():\n",
    "    import os\n",
    "\n",
    "    # Saving best-practices: if you use defaults names for the model, you can reload it using from_pretrained()\n",
    "\n",
    "    output_dir = './model_save/'\n",
    "\n",
    "    # Create output directory if needed\n",
    "    if not os.path.exists(output_dir):\n",
    "        os.makedirs(output_dir)\n",
    "\n",
    "    print(\"Saving model to %s\" % output_dir)\n",
    "\n",
    "    # Save a trained model, configuration and tokenizer using `save_pretrained()`.\n",
    "    # They can then be reloaded using `from_pretrained()`\n",
    "    model_to_save = model.module if hasattr(model, 'module') else model  # Take care of distributed/parallel training\n",
    "    model_to_save.save_pretrained(output_dir)\n",
    "    tokenizer.save_pretrained(output_dir)\n",
    "\n",
    "    # Good practice: save your training arguments together with the trained model\n",
    "    # torch.save(args, os.path.join(output_dir, 'training_args.bin'))\n",
    "    return"
   ]
  },
  {
   "cell_type": "code",
   "execution_count": null,
   "metadata": {},
   "outputs": [],
   "source": []
  },
  {
   "cell_type": "code",
   "execution_count": 30,
   "metadata": {},
   "outputs": [
    {
     "name": "stdout",
     "output_type": "stream",
     "text": [
      "\n",
      "======== Epoch 1 / 2 ========\n",
      "Training...\n"
     ]
    },
    {
     "name": "stderr",
     "output_type": "stream",
     "text": [
      "/home/maryam/anaconda3/lib/python3.7/site-packages/torch/nn/parallel/_functions.py:61: UserWarning: Was asked to gather along dimension 0, but all input tensors were scalars; will instead unsqueeze and return a vector.\n",
      "  warnings.warn('Was asked to gather along dimension 0, but all '\n"
     ]
    },
    {
     "name": "stdout",
     "output_type": "stream",
     "text": [
      "  Batch   100  of  1,044.    Elapsed: 0:00:40.\n",
      "  Batch   200  of  1,044.    Elapsed: 0:01:22.\n",
      "  Batch   300  of  1,044.    Elapsed: 0:02:02.\n",
      "  Batch   400  of  1,044.    Elapsed: 0:02:43.\n",
      "  Batch   500  of  1,044.    Elapsed: 0:03:24.\n",
      "  Batch   600  of  1,044.    Elapsed: 0:04:04.\n",
      "  Batch   700  of  1,044.    Elapsed: 0:04:45.\n",
      "  Batch   800  of  1,044.    Elapsed: 0:05:26.\n",
      "  Batch   900  of  1,044.    Elapsed: 0:06:07.\n",
      "  Batch 1,000  of  1,044.    Elapsed: 0:06:47.\n",
      "\n",
      "  Average training loss: 0.00\n",
      "  Training epcoh took: 0:07:05\n",
      "\n",
      "Running Validation...\n",
      "Saving model to ./model_save/\n",
      "  Accuracy: 0.98\n",
      "  ROC_AUC score: 1.00\n",
      "  Validation took: 0:00:27\n",
      "\n",
      "======== Epoch 2 / 2 ========\n",
      "Training...\n"
     ]
    },
    {
     "name": "stderr",
     "output_type": "stream",
     "text": [
      "/home/maryam/anaconda3/lib/python3.7/site-packages/torch/nn/parallel/_functions.py:61: UserWarning: Was asked to gather along dimension 0, but all input tensors were scalars; will instead unsqueeze and return a vector.\n",
      "  warnings.warn('Was asked to gather along dimension 0, but all '\n"
     ]
    },
    {
     "name": "stdout",
     "output_type": "stream",
     "text": [
      "  Batch   100  of  1,044.    Elapsed: 0:00:41.\n",
      "  Batch   200  of  1,044.    Elapsed: 0:01:22.\n",
      "  Batch   300  of  1,044.    Elapsed: 0:02:02.\n",
      "  Batch   400  of  1,044.    Elapsed: 0:02:43.\n",
      "  Batch   500  of  1,044.    Elapsed: 0:03:24.\n",
      "  Batch   600  of  1,044.    Elapsed: 0:04:05.\n",
      "  Batch   700  of  1,044.    Elapsed: 0:04:46.\n",
      "  Batch   800  of  1,044.    Elapsed: 0:05:26.\n",
      "  Batch   900  of  1,044.    Elapsed: 0:06:07.\n",
      "  Batch 1,000  of  1,044.    Elapsed: 0:06:48.\n",
      "\n",
      "  Average training loss: 0.02\n",
      "  Training epcoh took: 0:07:06\n",
      "\n",
      "Running Validation...\n",
      "Saving model to ./model_save/\n",
      "  Accuracy: 0.98\n",
      "  ROC_AUC score: 1.00\n",
      "  Validation took: 0:00:28\n",
      "\n",
      "Training complete!\n"
     ]
    }
   ],
   "source": [
    "import random\n",
    "import os\n",
    "from torch.utils.tensorboard import SummaryWriter\n",
    "\n",
    "\n",
    "# This training code is based on the `run_glue.py` script here:\n",
    "# https://github.com/huggingface/transformers/blob/5bfcd0485ece086ebcbed2d008813037968a9e58/examples/run_glue.py#L128\n",
    "\n",
    "# Set the seed value all over the place to make this reproducible.\n",
    "seed_val = 42\n",
    "\n",
    "random.seed(seed_val)\n",
    "np.random.seed(seed_val)\n",
    "torch.manual_seed(seed_val)\n",
    "torch.cuda.manual_seed_all(seed_val)\n",
    "\n",
    "# Store the average loss after each epoch so we can plot them.\n",
    "loss_values = []\n",
    "log_dir  = './tensorboard_log/'\n",
    "if not os.path.exists(log_dir):\n",
    "    os.makedirs(log_dir)\n",
    "writer = SummaryWriter(log_dir=log_dir)\n",
    "\n",
    "\n",
    "# For each epoch...\n",
    "for epoch_i in range(0, epochs):\n",
    "    \n",
    "    # ========================================\n",
    "    #               Training\n",
    "    # ========================================\n",
    "    \n",
    "    # Perform one full pass over the training set.\n",
    "\n",
    "    print(\"\")\n",
    "    print('======== Epoch {:} / {:} ========'.format(epoch_i + 1, epochs))\n",
    "    print('Training...')\n",
    "\n",
    "    # Measure how long the training epoch takes.\n",
    "    t0 = time.time()\n",
    "\n",
    "    # Reset the total loss for this epoch.\n",
    "    total_loss = []\n",
    "    max_accuracy = 0.65\n",
    "    # Put the model into training mode. Don't be mislead--the call to \n",
    "    # `train` just changes the *mode*, it doesn't *perform* the training.\n",
    "    # `dropout` and `batchnorm` layers behave differently during training\n",
    "    # vs. test (source: https://stackoverflow.com/questions/51433378/what-does-model-train-do-in-pytorch)\n",
    "    model.train()\n",
    "\n",
    "    # For each batch of training data...\n",
    "    for step, batch in enumerate(train_dataloader):\n",
    "\n",
    "        # Progress update every 100 batches.\n",
    "        if step % 100 == 0 and not step == 0:\n",
    "            # Calculate elapsed time in minutes.\n",
    "            elapsed = format_time(time.time() - t0)\n",
    "            \n",
    "            # Report progress.\n",
    "            print('  Batch {:>5,}  of  {:>5,}.    Elapsed: {:}.'.format(step, len(train_dataloader), elapsed))\n",
    "\n",
    "        # Unpack this training batch from our dataloader. \n",
    "        #\n",
    "        # As we unpack the batch, we'll also copy each tensor to the GPU using the \n",
    "        # `to` method.\n",
    "        #\n",
    "        # `batch` contains three pytorch tensors:\n",
    "        #   [0]: input ids \n",
    "        #   [1]: attention masks\n",
    "        #   [2]: labels \n",
    "        b_input_ids = batch[0].cuda()\n",
    "        b_input_mask = batch[1].cuda()\n",
    "        b_labels = batch[2].cuda()\n",
    "\n",
    "        # Always clear any previously calculated gradients before performing a\n",
    "        # backward pass. PyTorch doesn't do this automatically because \n",
    "        # accumulating the gradients is \"convenient while training RNNs\". \n",
    "        # (source: https://stackoverflow.com/questions/48001598/why-do-we-need-to-call-zero-grad-in-pytorch)\n",
    "        model.zero_grad()        \n",
    "\n",
    "        # Perform a forward pass (evaluate the model on this training batch).\n",
    "        # This will return the loss (rather than the model output) because we\n",
    "        # have provided the `labels`.\n",
    "        # The documentation for this `model` function is here: \n",
    "        # https://huggingface.co/transformers/v2.2.0/model_doc/bert.html#transformers.BertForSequenceClassification\n",
    "\n",
    "        outputs = model(b_input_ids, \n",
    "                    token_type_ids=None, \n",
    "                    attention_mask=b_input_mask, \n",
    "                    labels=b_labels)\n",
    "        \n",
    "        # The call to `model` always returns a tuple, so we need to pull the \n",
    "        # loss value out of the tuple.\n",
    "        loss = outputs[0].mean()\n",
    "\n",
    "        # Accumulate the training loss over all of the batches so that we can\n",
    "        # calculate the average loss at the end. `loss` is a Tensor containing a\n",
    "        # single value; the `.item()` function just returns the Python value \n",
    "        # from the tensor.\n",
    "\n",
    "        total_loss.append(loss.data.cpu().numpy())\n",
    "        # print(loss)\n",
    "        # if step % 10 == 0:\n",
    "        #     writer.add_scalar('loss', loss, step)\n",
    "\n",
    "        # Perform a backward pass to calculate the gradients.\n",
    "        loss.backward()\n",
    "\n",
    "        # Clip the norm of the gradients to 1.0.\n",
    "        # This is to help prevent the \"exploding gradients\" problem.\n",
    "        torch.nn.utils.clip_grad_norm_(model.parameters(), 1.0)\n",
    "\n",
    "        # Update parameters and take a step using the computed gradient.\n",
    "        # The optimizer dictates the \"update rule\"--how the parameters are\n",
    "        # modified based on their gradients, the learning rate, etc.\n",
    "        optimizer.step()\n",
    "\n",
    "        # Update the learning rate.\n",
    "        scheduler.step()\n",
    "\n",
    "    # Calculate the average loss over the training data.\n",
    "    avg_train_loss = sum(total_loss) / len(train_dataloader)            \n",
    "    \n",
    "    # Store the loss value for plotting the learning curve.\n",
    "    loss_values.append(avg_train_loss)\n",
    "\n",
    "    print(\"\")\n",
    "    print(\"  Average training loss: {0:.2f}\".format(avg_train_loss))\n",
    "    print(\"  Training epcoh took: {:}\".format(format_time(time.time() - t0)))\n",
    "        \n",
    "    # ========================================\n",
    "    #               Validation\n",
    "    # ========================================\n",
    "    # After the completion of each training epoch, measure our performance on\n",
    "    # our validation set.\n",
    "\n",
    "    print(\"\")\n",
    "    print(\"Running Validation...\")\n",
    "\n",
    "    t0 = time.time()\n",
    "\n",
    "    # Put the model in evaluation mode--the dropout layers behave differently\n",
    "    # during evaluation. \n",
    "    model.eval()\n",
    "\n",
    "    # Tracking variables \n",
    "    eval_loss, eval_accuracy, eval_roc_auc = 0, 0, 0\n",
    "    nb_eval_steps, nb_eval_examples = 0, 0\n",
    "\n",
    "    # Evaluate data for one epoch\n",
    "    for batch in validation_dataloader:\n",
    "        \n",
    "        # Add batch to GPU\n",
    "        batch = tuple(t for t in batch)\n",
    "        \n",
    "        # Unpack the inputs from our dataloader\n",
    "        b_input_ids, b_input_mask, b_labels = batch\n",
    "        \n",
    "        # Telling the model not to compute or store gradients, saving memory and\n",
    "        # speeding up validation\n",
    "        with torch.no_grad():        \n",
    "\n",
    "            # Forward pass, calculate logit predictions.\n",
    "            # This will return the logits rather than the loss because we have\n",
    "            # not provided labels.\n",
    "            # token_type_ids is the same as the \"segment ids\", which \n",
    "            # differentiates sentence 1 and 2 in 2-sentence tasks.\n",
    "            # The documentation for this `model` function is here: \n",
    "            # https://huggingface.co/transformers/v2.2.0/model_doc/bert.html#transformers.BertForSequenceClassification\n",
    "            outputs = model(b_input_ids, \n",
    "                            token_type_ids=None, \n",
    "                            attention_mask=b_input_mask)\n",
    "        \n",
    "        # Get the \"logits\" output by the model. The \"logits\" are the output\n",
    "        # values prior to applying an activation function like the softmax.\n",
    "        logits = outputs[0]\n",
    "\n",
    "        # Move logits and labels to CPU\n",
    "        logits = logits.detach().cpu().numpy()\n",
    "        label_ids = b_labels.to('cpu').numpy()\n",
    "        \n",
    "        # Calculate the ROC_AUC score for this batch of evaluation sentences.\n",
    "        tmp_eval_roc_auc = calc_roc_auc(label_ids, logits[:,1]-logits[:,0])\n",
    "        \n",
    "        # Accumulate the total ROC_AUC of evaluation set.\n",
    "        eval_roc_auc += tmp_eval_roc_auc \n",
    "        \n",
    "        # Calculate the accuracy for this batch of test sentences.\n",
    "        tmp_eval_accuracy = flat_accuracy(logits, label_ids)\n",
    "        \n",
    "        # Accumulate the total accuracy.\n",
    "        eval_accuracy += tmp_eval_accuracy\n",
    "        \n",
    "        # Save the model if it has a higher validation accuracy\n",
    "        if tmp_eval_accuracy > max_accuracy: \n",
    "            max_accuracy = tmp_eval_accuracy\n",
    "            model_save()\n",
    "       \n",
    "        # Track the number of batches\n",
    "        nb_eval_steps += 1\n",
    "        \n",
    "\n",
    "    # Report the final accuracy for this validation run.\n",
    "    print(\"  Accuracy: {0:.2f}\".format(eval_accuracy/nb_eval_steps))\n",
    "    print(\"  ROC_AUC score: {0:.2f}\".format(eval_roc_auc/nb_eval_steps))\n",
    "    print(\"  Validation took: {:}\".format(format_time(time.time() - t0)))\n",
    "\n",
    "print(\"\")\n",
    "print(\"Training complete!\")"
   ]
  },
  {
   "cell_type": "code",
   "execution_count": null,
   "metadata": {},
   "outputs": [],
   "source": [
    "# print(loss.data.cpu().numpy())\n",
    "# !pwd"
   ]
  },
  {
   "cell_type": "code",
   "execution_count": 31,
   "metadata": {},
   "outputs": [
    {
     "data": {
      "image/png": "[encoded data removed]",
      "text/plain": [
       "<Figure size 864x432 with 1 Axes>"
      ]
     },
     "metadata": {},
     "output_type": "display_data"
    }
   ],
   "source": [
    "import matplotlib.pyplot as plt\n",
    "%matplotlib inline\n",
    "\n",
    "import seaborn as sns\n",
    "\n",
    "# Use plot styling from seaborn.\n",
    "sns.set(style='darkgrid')\n",
    "\n",
    "# Increase the plot size and font size.\n",
    "sns.set(font_scale=1.5)\n",
    "plt.rcParams[\"figure.figsize\"] = (12,6)\n",
    "\n",
    "# Plot the learning curve.\n",
    "plt.plot(loss_values, 'b-o')\n",
    "\n",
    "# Label the plot.\n",
    "plt.title(\"Training loss\")\n",
    "plt.xlabel(\"Epoch\")\n",
    "plt.ylabel(\"Loss\")\n",
    "\n",
    "plt.show()"
   ]
  },
  {
   "cell_type": "code",
   "execution_count": 43,
   "metadata": {},
   "outputs": [],
   "source": [
    "test = pd.read_csv(\"./data/blog_sample/blog_sample_data.tsv\",delimiter=\"\\t\")\n",
    "check = pd.read_excel(\"./doc-check.xlsx\")\n",
    "check = check[check[\"Daiva. Likely Propaganda? (0=N, 1=Y)\"] == check[\"Scott Likely Propaganda? (0=N, 1=Y)\"]]\n",
    "test = test[test[\"story_id\"].isin(check[\"ID\"].unique())]\n",
    "labels = [int(check[check[\"ID\"]==story_id][\"Daiva. Likely Propaganda? (0=N, 1=Y)\"].values[0]) for story_id in test[\"story_id\"].values]\n",
    "test[\"label\"] = labels"
   ]
  },
  {
   "cell_type": "code",
   "execution_count": 55,
   "metadata": {},
   "outputs": [
    {
     "output_type": "display_data",
     "data": {
      "text/plain": "HBox(children=(FloatProgress(value=0.0, max=41.0), HTML(value='')))",
      "application/vnd.jupyter.widget-view+json": {
       "version_major": 2,
       "version_minor": 0,
       "model_id": "7bbe0221b348497ca3c6b85f20f1363b"
      }
     },
     "metadata": {}
    },
    {
     "output_type": "stream",
     "name": "stdout",
     "text": [
      "\nlength of test_split_v is: 94\n"
     ]
    },
    {
     "output_type": "execute_result",
     "data": {
      "text/plain": [
       "   story_id  chunk_num                                           raw_text  \\\n",
       "0     96918          0  kiev, ukraine -- in ukraine, just like in some...   \n",
       "1     96918          1  kiev, ukraine -- in ukraine, just like in some...   \n",
       "2    100591          0  munich, germany -- defense leaders from europe...   \n",
       "3    100591          1  munich, germany -- defense leaders from europe...   \n",
       "4    100591          2  munich, germany -- defense leaders from europe...   \n",
       "\n",
       "                                          text_chunk  label  \n",
       "0  kiev, ukraine -- in ukraine, just like in some...      0  \n",
       "1  the whole thing and attempt to prove that its ...      0  \n",
       "2  munich, germany -- defense leaders from europe...      0  \n",
       "3  greatest assets against the russian threat. in...      0  \n",
       "4  strategic foreign policy objective, however.) ...      0  "
      ],
      "text/html": "<div>\n<style scoped>\n    .dataframe tbody tr th:only-of-type {\n        vertical-align: middle;\n    }\n\n    .dataframe tbody tr th {\n        vertical-align: top;\n    }\n\n    .dataframe thead th {\n        text-align: right;\n    }\n</style>\n<table border=\"1\" class=\"dataframe\">\n  <thead>\n    <tr style=\"text-align: right;\">\n      <th></th>\n      <th>story_id</th>\n      <th>chunk_num</th>\n      <th>raw_text</th>\n      <th>text_chunk</th>\n      <th>label</th>\n    </tr>\n  </thead>\n  <tbody>\n    <tr>\n      <th>0</th>\n      <td>96918</td>\n      <td>0</td>\n      <td>kiev, ukraine -- in ukraine, just like in some...</td>\n      <td>kiev, ukraine -- in ukraine, just like in some...</td>\n      <td>0</td>\n    </tr>\n    <tr>\n      <th>1</th>\n      <td>96918</td>\n      <td>1</td>\n      <td>kiev, ukraine -- in ukraine, just like in some...</td>\n      <td>the whole thing and attempt to prove that its ...</td>\n      <td>0</td>\n    </tr>\n    <tr>\n      <th>2</th>\n      <td>100591</td>\n      <td>0</td>\n      <td>munich, germany -- defense leaders from europe...</td>\n      <td>munich, germany -- defense leaders from europe...</td>\n      <td>0</td>\n    </tr>\n    <tr>\n      <th>3</th>\n      <td>100591</td>\n      <td>1</td>\n      <td>munich, germany -- defense leaders from europe...</td>\n      <td>greatest assets against the russian threat. in...</td>\n      <td>0</td>\n    </tr>\n    <tr>\n      <th>4</th>\n      <td>100591</td>\n      <td>2</td>\n      <td>munich, germany -- defense leaders from europe...</td>\n      <td>strategic foreign policy objective, however.) ...</td>\n      <td>0</td>\n    </tr>\n  </tbody>\n</table>\n</div>"
     },
     "metadata": {},
     "execution_count": 55
    }
   ],
   "source": [
    "# Apply split function on the test data\n",
    "test['text_split'] = test['raw_text'].apply(get_split)\n",
    "test.head()\n",
    "\n",
    "# create a row split version of dataset \n",
    "\n",
    "from tqdm import tqdm_notebook as tqdm\n",
    "tmp = []\n",
    "\n",
    "for i in tqdm(range(len(test))):\n",
    "    for j in range(len(test.iloc[i].text_split)):\n",
    "#         chunk_num = str(test.iloc[i]['story_id']) + '_' + str(j)\n",
    "        chunk_num = j\n",
    "        tmp.append(\n",
    "        {'story_id': test.iloc[i]['story_id'],\n",
    "            'chunk_num': chunk_num,\n",
    "            'raw_text': test.iloc[i]['raw_text'],\n",
    "            'text_chunk': test.iloc[i]['text_split'][j],\n",
    "            'label': test.iloc[i].label}\n",
    "        )\n",
    "\n",
    "test_split_v = pd.DataFrame(tmp) \n",
    "# train.head()\n",
    "print('length of test_split_v is:', len(test_split_v))\n",
    "test_split_v.head()"
   ]
  },
  {
   "cell_type": "code",
   "execution_count": 56,
   "metadata": {
    "tags": []
   },
   "outputs": [
    {
     "output_type": "stream",
     "name": "stdout",
     "text": [
      "    Read 0 comments.\nDONE.\n\n                  94 test comments.\n                  20 labeled as 1\n                  74 labeled as 0\n"
     ]
    }
   ],
   "source": [
    "# Performance On Test Set\n",
    "# Data preparation\n",
    "from torch.utils.data import TensorDataset, DataLoader, RandomSampler, SequentialSampler\n",
    "import numpy as np\n",
    "\n",
    "\n",
    "# Tokenize all of the sentences and map the tokens to thier word IDs.\n",
    "test_input_ids = []\n",
    "\n",
    "\n",
    "# For every sentence...\n",
    "for text in test_split_v.text_chunk:\n",
    "    \n",
    "    # Report progress. \n",
    "    if ((len(test_input_ids) % 200) == 0):\n",
    "        print('    Read {:,} comments.'.format(len(test_input_ids)))\n",
    "        \n",
    "    # `encode` will:\n",
    "    #   (1) Tokenize the sentence.\n",
    "    #   (2) Prepend the `[CLS]` token to the start.\n",
    "    #   (3) Append the `[SEP]` token to the end.\n",
    "    #   (4) Map tokens to their IDs.\n",
    "    encoded_sent = tokenizer.encode(\n",
    "                        text,                      # Sentence to encode.\n",
    "                        add_special_tokens = True, # Add '[CLS]' and '[SEP]'\n",
    "                        max_length = MAX_LEN,       # Truncate all sentences \n",
    "                        truncation=True,\n",
    "                   )\n",
    "    # Add the method sentence to the list\n",
    "    test_input_ids.append(encoded_sent)\n",
    "    \n",
    "print('DONE.')\n",
    "print('')\n",
    "print('{:>20,} test comments.'.format(len(test_input_ids)))\n",
    "\n",
    "\n",
    "# Also retrieve the labels as a list:\n",
    "# Get the labels from the Dataframe and convert from booleans to ints. \n",
    "\n",
    "test_labels = test_split_v['label'].to_numpy().astype(int)\n",
    "\n",
    "\n",
    "print('{:>20,} labeled as 1'.format(np.sum(test_labels)))\n",
    "print('{:>20,} labeled as 0'.format(len(test_labels) - np.sum(test_labels)))\n",
    "\n",
    "# Pad our input tokens\n",
    "test_input_ids = pad_sequences(test_input_ids, maxlen=MAX_LEN, \n",
    "                          dtype=\"long\", truncating=\"post\", padding=\"post\")\n",
    "\n",
    "# Create attention masks\n",
    "test_attention_masks = []\n",
    "\n",
    "# Create a mask of 1s for each token followed by 0s for padding\n",
    "for seq in test_input_ids:\n",
    "    seq_mask = [float(i>0) for i in seq]\n",
    "    test_attention_masks.append(seq_mask) \n",
    "\n",
    "test_story_ids =test_split_v['story_id'].to_numpy().astype(int)\n",
    "test_chunk_nums = test_split_v['chunk_num'].to_numpy().astype(int)\n",
    "\n",
    "\n",
    "# Convert to tensors.\n",
    "test_inputs = torch.tensor(test_input_ids)\n",
    "test_masks = torch.tensor(test_attention_masks)\n",
    "test_labels = torch.tensor(test_labels)\n",
    "test_story_ids = torch.tensor(test_story_ids)\n",
    "test_chunk_nums = torch.tensor(test_chunk_nums)\n",
    "\n",
    "# Set the batch size.  \n",
    "batch_size = 64  \n",
    "\n",
    "# Create the DataLoader.\n",
    "test_data = TensorDataset(test_inputs, test_masks, test_labels,test_story_ids,test_chunk_nums)\n",
    "test_sampler = SequentialSampler(test_data)\n",
    "test_dataloader = DataLoader(test_data, sampler=test_sampler, batch_size=batch_size)"
   ]
  },
  {
   "cell_type": "code",
   "execution_count": null,
   "metadata": {},
   "outputs": [],
   "source": []
  },
  {
   "cell_type": "code",
   "execution_count": 66,
   "metadata": {},
   "outputs": [],
   "source": [
    "from torch.utils.data import Dataset, DataLoader\n",
    "\n",
    "class PDataset(Dataset):\n",
    "    def __init__(self,df):\n",
    "        self.df = df\n",
    "        self.story_ids = df[\"story_id\"].unique()\n",
    "        self.labels = np.array([df[df[\"story_id\"] == id][\"label\"].values[0] for id in self.story_ids])\n",
    "    def __len__(self):\n",
    "        return len(self.story_ids)\n",
    "    def __getitem__(self,id):\n",
    "        story_id = self.story_ids[id]\n",
    "        label = self.labels[id]\n",
    "        text_chunks = self.df[self.df[\"story_id\"]==story_id][\"text_chunk\"].values\n",
    "\n",
    "        input_ids = []\n",
    "        for text in text_chunks:\n",
    "            encoded_sent = tokenizer.encode(\n",
    "                        text,                      # Sentence to encode.\n",
    "                        add_special_tokens = True, # Add '[CLS]' and '[SEP]'\n",
    "                        max_length = MAX_LEN,       # Truncate all sentences \n",
    "                        truncation=True,\n",
    "                   )\n",
    "            input_ids.append(encoded_sent)\n",
    "        \n",
    "        input_ids = pad_sequences(input_ids, maxlen=MAX_LEN, \n",
    "                          dtype=\"long\", truncating=\"post\", padding=\"post\")\n",
    "        \n",
    "        return torch.tensor(input_ids), torch.tensor(label), torch.tensor(story_id)\n",
    "        \n",
    "dataset = PDataset(test_split_v)\n",
    "dataloader = DataLoader(dataset, batch_size=1,shuffle=False)"
   ]
  },
  {
   "cell_type": "code",
   "execution_count": 67,
   "metadata": {
    "tags": []
   },
   "outputs": [
    {
     "output_type": "execute_result",
     "data": {
      "text/plain": [
       "Sequential(\n",
       "  (0): Dropout(p=0.1, inplace=False)\n",
       "  (1): Linear(in_features=768, out_features=2, bias=True)\n",
       ")"
      ]
     },
     "metadata": {},
     "execution_count": 67
    }
   ],
   "source": [
    "import torch.nn as nn\n",
    "from transformers import BertModel\n",
    "from copy import deepcopy\n",
    "state_dict = torch.load(model_path)\n",
    "\n",
    "representation_model = BertModel.from_pretrained(\"bert-base-uncased\",add_pooling_layer=True)\n",
    "# model_state_dict = representation_model.state_dict()\n",
    "new_state_dict = {}\n",
    "for key in state_dict:\n",
    "    if key == \"classifier.weight\" or key == \"classifier.bias\":\n",
    "        continue\n",
    "    model_key = \".\".join(key.split(\".\")[1:])\n",
    "    new_state_dict[model_key] = state_dict[key]\n",
    "representation_model.load_state_dict(new_state_dict)\n",
    "\n",
    "classifier_model = nn.Sequential(\n",
    "    nn.Dropout(p=0.1),\n",
    "    nn.Linear(768,2,bias=True)\n",
    ")\n",
    "\n",
    "\n",
    "new_state_dict = {}\n",
    "for key in state_dict:\n",
    "    if key == \"classifier.weight\" or key == \"classifier.bias\":\n",
    "        model_key = \"1.\" + key.split(\".\")[1]\n",
    "        new_state_dict[model_key] = state_dict[key]\n",
    "\n",
    "classifier_model.load_state_dict(new_state_dict)\n",
    "\n",
    "representation_model.eval()\n",
    "classifier_model.eval()\n",
    "representation_model.to(device)\n",
    "classifier_model.to(device)"
   ]
  },
  {
   "cell_type": "code",
   "execution_count": 75,
   "metadata": {
    "tags": []
   },
   "outputs": [],
   "source": [
    "import torch.nn.functional as F\n",
    "test_predictions, test_true_labels,story_ids = [], [], []\n",
    "\n",
    "for step, (input_id, label,story_id) in enumerate(dataloader):\n",
    "    input_id = input_id.view(-1,512).to(device)\n",
    "    story_ids.append(story_id.squeeze().item())\n",
    "    with torch.no_grad():\n",
    "        representation = representation_model(input_id)[1]\n",
    "        representation = torch.mean(representation,0).unsqueeze(0)\n",
    "        classification = F.softmax(classifier_model(representation),1).squeeze()\n",
    "        classification = torch.argmax(classification)\n",
    "        test_predictions.append(int(classification.squeeze()))\n",
    "        test_true_labels.append(int(label.squeeze()))"
   ]
  },
  {
   "cell_type": "code",
   "execution_count": 79,
   "metadata": {},
   "outputs": [
    {
     "output_type": "stream",
     "name": "stdout",
     "text": [
      "0 0 156241\n0 0 278848\n0 0 215921\n0 0 92803\n0 0 196448\n0 0 142747\n0 0 298285\n0 0 168009\n0 0 36593\n0 0 153576\n0 0 49258\n1 1 73625\n0 0 2469\n0 0 48186\n1 1 67202\n1 1 78439\n0 0 164532\n0 0 54597\n0 0 54961\n0 0 205496\n1 1 216983\n0 0 201776\n0 0 224413\n0.5609756097560976\n"
     ]
    }
   ],
   "source": [
    "correct = 0\n",
    "for i in range(len(test_predictions)):\n",
    "    if test_predictions[i] == test_true_labels[i]:\n",
    "        correct+=1\n",
    "        print(test_predictions[i],test_true_labels[i], story_ids[i])\n",
    "\n",
    "    # else:\n",
    "        \n",
    "print(correct/float(len(test_predictions)))"
   ]
  },
  {
   "cell_type": "code",
   "execution_count": null,
   "metadata": {},
   "outputs": [],
   "source": []
  },
  {
   "cell_type": "code",
   "execution_count": 28,
   "metadata": {},
   "outputs": [
    {
     "output_type": "stream",
     "name": "stdout",
     "text": [
      "Predicting labels for 4,626 test sentences...\n",
      "    DONE.\n"
     ]
    }
   ],
   "source": [
    "# Prediction on test set\n",
    "\n",
    "print('Predicting labels for {:,} test sentences...'.format(len(test_inputs)))\n",
    "\n",
    "# Put model in evaluation mode\n",
    "model.eval()\n",
    "\n",
    "\n",
    "# Tracking variables \n",
    "test_predictions, test_true_labels, test_story_ids, test_chunk_nums = [], [], [], []\n",
    "\n",
    "# Measure elapsed time.\n",
    "t0 = time.time()\n",
    "\n",
    "# Predict \n",
    "for (step, batch) in enumerate(test_dataloader):\n",
    "    \n",
    "    # Add batch to GPU\n",
    "    batch = tuple(t.to(device) for t in batch)\n",
    "  \n",
    "    # Progress update every 100 batches.\n",
    "    if step % 100 == 0 and not step == 0: \n",
    "        # calculate elapsed time in minutes.\n",
    "        elapsed = format_time(time.time() - t0)\n",
    "        \n",
    "        # Report progress\n",
    "        print('    Batch {:>5,}  of  {:>5,},      Elapsed: {:}.'.format(step, len(test_labels), elapsed))\n",
    "        \n",
    "        \n",
    "    # Unpack the inputs from our dataloader\n",
    "    b_input_ids, b_input_mask, b_labels, b_story_ids, b_chunk_nums = batch\n",
    "  \n",
    "    # Telling the model not to compute or store gradients, saving memory and \n",
    "    # speeding up prediction\n",
    "    with torch.no_grad():\n",
    "        # Forward pass, calculate logit predictions\n",
    "        outputs = model(b_input_ids, token_type_ids=None, \n",
    "                      attention_mask=b_input_mask)\n",
    "\n",
    "    logits = outputs[0]\n",
    "\n",
    "    # Move logits and labels to CPU\n",
    "    logits = logits.detach().cpu().numpy()\n",
    "    label_ids = b_labels.to('cpu').numpy()\n",
    "    story_ids = b_story_ids.to('cpu').numpy()\n",
    "    chunk_nums = b_chunk_nums.to('cpu').numpy()\n",
    "    # Store predictions and true labels\n",
    "    \n",
    "    test_predictions.append(logits)\n",
    "    test_true_labels.append(label_ids)\n",
    "    test_story_ids.append(story_ids)\n",
    "    test_chunk_nums.append(chunk_nums)\n",
    "\n",
    "print('    DONE.')"
   ]
  },
  {
   "cell_type": "code",
   "execution_count": 29,
   "metadata": {},
   "outputs": [],
   "source": [
    "# Combine the results across the batches.\n",
    "test_predictions = np.concatenate(test_predictions, axis=0)\n",
    "test_true_labels = np.concatenate(test_true_labels, axis=0)\n",
    "test_story_ids = np.concatenate(test_story_ids, axis=0)\n",
    "test_chunk_nums = np.concatenate(test_chunk_nums, axis=0)"
   ]
  },
  {
   "cell_type": "code",
   "execution_count": 30,
   "metadata": {},
   "outputs": [
    {
     "output_type": "stream",
     "name": "stdout",
     "text": [
      "len(test_story_ids): 4626\nlen(test_chunk_nums): 4626\n"
     ]
    },
    {
     "output_type": "display_data",
     "data": {
      "text/plain": "HBox(children=(FloatProgress(value=0.0, max=4626.0), HTML(value='')))",
      "application/vnd.jupyter.widget-view+json": {
       "version_major": 2,
       "version_minor": 0,
       "model_id": "4a8983150abc4d71ba56dc3ac95c218e"
      }
     },
     "metadata": {}
    },
    {
     "output_type": "stream",
     "name": "stdout",
     "text": [
      "\n"
     ]
    },
    {
     "output_type": "execute_result",
     "data": {
      "text/plain": [
       "          test_predictions  test_true_labels  pred_label  test_story_ids  \\\n",
       "0  [-5.0109434, 5.3030066]                 1           1        35358787   \n",
       "1  [-4.2002482, 4.3643236]                 1           1        35358787   \n",
       "2  [4.3625517, -4.6941648]                 0           0        13312382   \n",
       "3  [5.0458508, -5.4009237]                 0           0        13312382   \n",
       "4   [4.7697735, -5.136959]                 0           0        35312144   \n",
       "\n",
       "   test_chunk_nums  \n",
       "0                0  \n",
       "1                1  \n",
       "2                0  \n",
       "3                1  \n",
       "4                0  "
      ],
      "text/html": "<div>\n<style scoped>\n    .dataframe tbody tr th:only-of-type {\n        vertical-align: middle;\n    }\n\n    .dataframe tbody tr th {\n        vertical-align: top;\n    }\n\n    .dataframe thead th {\n        text-align: right;\n    }\n</style>\n<table border=\"1\" class=\"dataframe\">\n  <thead>\n    <tr style=\"text-align: right;\">\n      <th></th>\n      <th>test_predictions</th>\n      <th>test_true_labels</th>\n      <th>pred_label</th>\n      <th>test_story_ids</th>\n      <th>test_chunk_nums</th>\n    </tr>\n  </thead>\n  <tbody>\n    <tr>\n      <th>0</th>\n      <td>[-5.0109434, 5.3030066]</td>\n      <td>1</td>\n      <td>1</td>\n      <td>35358787</td>\n      <td>0</td>\n    </tr>\n    <tr>\n      <th>1</th>\n      <td>[-4.2002482, 4.3643236]</td>\n      <td>1</td>\n      <td>1</td>\n      <td>35358787</td>\n      <td>1</td>\n    </tr>\n    <tr>\n      <th>2</th>\n      <td>[4.3625517, -4.6941648]</td>\n      <td>0</td>\n      <td>0</td>\n      <td>13312382</td>\n      <td>0</td>\n    </tr>\n    <tr>\n      <th>3</th>\n      <td>[5.0458508, -5.4009237]</td>\n      <td>0</td>\n      <td>0</td>\n      <td>13312382</td>\n      <td>1</td>\n    </tr>\n    <tr>\n      <th>4</th>\n      <td>[4.7697735, -5.136959]</td>\n      <td>0</td>\n      <td>0</td>\n      <td>35312144</td>\n      <td>0</td>\n    </tr>\n  </tbody>\n</table>\n</div>"
     },
     "metadata": {},
     "execution_count": 30
    }
   ],
   "source": [
    "from tqdm import tqdm_notebook as tqdm\n",
    "print('len(test_story_ids):',len(test_story_ids))\n",
    "print('len(test_chunk_nums):', len(test_chunk_nums))\n",
    "pred_label = np.argmax(test_predictions, axis=1).flatten()\n",
    "test_result = []\n",
    "for i in tqdm(range(len(test_true_labels))):\n",
    "    test_result.append({'test_predictions':test_predictions[i],\n",
    "                        'test_true_labels': test_true_labels[i],\n",
    "                        'pred_label': pred_label[i],\n",
    "                        'test_story_ids': test_story_ids[i],\n",
    "                        'test_chunk_nums': test_chunk_nums[i]}\n",
    "                        )\n",
    "df_test_result = pd.DataFrame(test_result)\n",
    "df_test_result.head()\n"
   ]
  },
  {
   "cell_type": "code",
   "execution_count": 32,
   "metadata": {},
   "outputs": [
    {
     "output_type": "stream",
     "name": "stdout",
     "text": [
      "document_level_accuracy=  0.9747378455672069\nnumber of test documents=  2098\n"
     ]
    }
   ],
   "source": [
    "# This part of the code takes care of the document level accuracy and list of misclassified articles at the document level\n",
    "\n",
    "misclass_test_story_ids = df_test_result[df_test_result['test_true_labels']-df_test_result['pred_label'] !=0]['test_story_ids'].values.tolist()\n",
    "misclass_test_story_ids = list(set(misclass_test_story_ids))\n",
    "# print(misclass_test_story_ids)\n",
    "# print(len(misclass_test_story_ids))\n",
    "\n",
    "document_level_accuracy = 1- (len(misclass_test_story_ids)/len(test))\n",
    "print('document_level_accuracy= ',document_level_accuracy)\n",
    "# print('number of misclassified test documents= ', len(df_tmp))\n",
    "print('number of test documents= ',len(test))"
   ]
  },
  {
   "cell_type": "code",
   "execution_count": null,
   "metadata": {},
   "outputs": [],
   "source": [
    "predictions[20:40]"
   ]
  },
  {
   "cell_type": "code",
   "execution_count": null,
   "metadata": {},
   "outputs": [],
   "source": [
    "true_labels[20:40]"
   ]
  },
  {
   "cell_type": "code",
   "execution_count": 51,
   "metadata": {},
   "outputs": [
    {
     "name": "stdout",
     "output_type": "stream",
     "text": [
      "0.9752765126870527\n",
      "0.9752765126870527\n"
     ]
    }
   ],
   "source": [
    "accuracy = flat_accuracy(test_predictions, test_true_labels)\n",
    "print(accuracy)\n"
   ]
  },
  {
   "cell_type": "code",
   "execution_count": 40,
   "metadata": {},
   "outputs": [
    {
     "name": "stdout",
     "output_type": "stream",
     "text": [
      "Test ROC AUC: 0.998\n"
     ]
    }
   ],
   "source": [
    "# Our performance metric for the test set.\n",
    "from sklearn.metrics import roc_auc_score\n",
    "\n",
    "# Use the model output for label 1 as our prediction.\n",
    "p1 = predictions[:,1]-predictions[:,0]\n",
    "\n",
    "# Calculate the ROC AUC\n",
    "auc = roc_auc_score(true_labels, p1)\n",
    "\n",
    "print('Test ROC AUC: %.3f' %auc)"
   ]
  },
  {
   "cell_type": "code",
   "execution_count": null,
   "metadata": {},
   "outputs": [],
   "source": [
    "!ls -l --block-size=K ./model_save/"
   ]
  },
  {
   "cell_type": "code",
   "execution_count": 36,
   "metadata": {},
   "outputs": [
    {
     "output_type": "stream",
     "name": "stderr",
     "text": [
      "Some weights of the model checkpoint at bert-base-uncased were not used when initializing BertForSequenceClassification: ['cls.predictions.bias', 'cls.predictions.transform.dense.weight', 'cls.predictions.transform.dense.bias', 'cls.predictions.decoder.weight', 'cls.seq_relationship.weight', 'cls.seq_relationship.bias', 'cls.predictions.transform.LayerNorm.weight', 'cls.predictions.transform.LayerNorm.bias']\n",
      "- This IS expected if you are initializing BertForSequenceClassification from the checkpoint of a model trained on another task or with another architecture (e.g. initializing a BertForSequenceClassification model from a BertForPretraining model).\n",
      "- This IS NOT expected if you are initializing BertForSequenceClassification from the checkpoint of a model that you expect to be exactly identical (initializing a BertForSequenceClassification model from a BertForSequenceClassification model).\n",
      "Some weights of BertForSequenceClassification were not initialized from the model checkpoint at bert-base-uncased and are newly initialized: ['classifier.weight', 'classifier.bias']\n",
      "You should probably TRAIN this model on a down-stream task to be able to use it for predictions and inference.\n"
     ]
    },
    {
     "output_type": "execute_result",
     "data": {
      "text/plain": [
       "<All keys matched successfully>"
      ]
     },
     "metadata": {},
     "execution_count": 36
    }
   ],
   "source": [
    "# # Load a trained model and vocabulary that you have fine-tuned\n",
    "\n",
    "model = BertForSequenceClassification.from_pretrained(\n",
    "    \"bert-base-uncased\", # Use the 12-layer BERT model, with an uncased vocab.\n",
    "    num_labels = 2, # The number of output labels--2 for binary classification.\n",
    "                    # You can increase this for multi-class tasks.   \n",
    "    output_attentions = False, # Whether the model returns attentions weights.\n",
    "    output_hidden_states = False, # Whether the model returns all hidden-states.\n",
    ")\n",
    "model.load_state_dict(state_dict)\n",
    "# tokenizer = tokenizer_class.from_pretrained(output_dir)\n",
    "\n",
    "# # Copy the model to the GPU.\n",
    "# model.to(device)"
   ]
  },
  {
   "cell_type": "code",
   "execution_count": 37,
   "metadata": {},
   "outputs": [
    {
     "output_type": "execute_result",
     "data": {
      "text/plain": [
       "BertForSequenceClassification(\n",
       "  (bert): BertModel(\n",
       "    (embeddings): BertEmbeddings(\n",
       "      (word_embeddings): Embedding(30522, 768, padding_idx=0)\n",
       "      (position_embeddings): Embedding(512, 768)\n",
       "      (token_type_embeddings): Embedding(2, 768)\n",
       "      (LayerNorm): LayerNorm((768,), eps=1e-12, elementwise_affine=True)\n",
       "      (dropout): Dropout(p=0.1, inplace=False)\n",
       "    )\n",
       "    (encoder): BertEncoder(\n",
       "      (layer): ModuleList(\n",
       "        (0): BertLayer(\n",
       "          (attention): BertAttention(\n",
       "            (self): BertSelfAttention(\n",
       "              (query): Linear(in_features=768, out_features=768, bias=True)\n",
       "              (key): Linear(in_features=768, out_features=768, bias=True)\n",
       "              (value): Linear(in_features=768, out_features=768, bias=True)\n",
       "              (dropout): Dropout(p=0.1, inplace=False)\n",
       "            )\n",
       "            (output): BertSelfOutput(\n",
       "              (dense): Linear(in_features=768, out_features=768, bias=True)\n",
       "              (LayerNorm): LayerNorm((768,), eps=1e-12, elementwise_affine=True)\n",
       "              (dropout): Dropout(p=0.1, inplace=False)\n",
       "            )\n",
       "          )\n",
       "          (intermediate): BertIntermediate(\n",
       "            (dense): Linear(in_features=768, out_features=3072, bias=True)\n",
       "          )\n",
       "          (output): BertOutput(\n",
       "            (dense): Linear(in_features=3072, out_features=768, bias=True)\n",
       "            (LayerNorm): LayerNorm((768,), eps=1e-12, elementwise_affine=True)\n",
       "            (dropout): Dropout(p=0.1, inplace=False)\n",
       "          )\n",
       "        )\n",
       "        (1): BertLayer(\n",
       "          (attention): BertAttention(\n",
       "            (self): BertSelfAttention(\n",
       "              (query): Linear(in_features=768, out_features=768, bias=True)\n",
       "              (key): Linear(in_features=768, out_features=768, bias=True)\n",
       "              (value): Linear(in_features=768, out_features=768, bias=True)\n",
       "              (dropout): Dropout(p=0.1, inplace=False)\n",
       "            )\n",
       "            (output): BertSelfOutput(\n",
       "              (dense): Linear(in_features=768, out_features=768, bias=True)\n",
       "              (LayerNorm): LayerNorm((768,), eps=1e-12, elementwise_affine=True)\n",
       "              (dropout): Dropout(p=0.1, inplace=False)\n",
       "            )\n",
       "          )\n",
       "          (intermediate): BertIntermediate(\n",
       "            (dense): Linear(in_features=768, out_features=3072, bias=True)\n",
       "          )\n",
       "          (output): BertOutput(\n",
       "            (dense): Linear(in_features=3072, out_features=768, bias=True)\n",
       "            (LayerNorm): LayerNorm((768,), eps=1e-12, elementwise_affine=True)\n",
       "            (dropout): Dropout(p=0.1, inplace=False)\n",
       "          )\n",
       "        )\n",
       "        (2): BertLayer(\n",
       "          (attention): BertAttention(\n",
       "            (self): BertSelfAttention(\n",
       "              (query): Linear(in_features=768, out_features=768, bias=True)\n",
       "              (key): Linear(in_features=768, out_features=768, bias=True)\n",
       "              (value): Linear(in_features=768, out_features=768, bias=True)\n",
       "              (dropout): Dropout(p=0.1, inplace=False)\n",
       "            )\n",
       "            (output): BertSelfOutput(\n",
       "              (dense): Linear(in_features=768, out_features=768, bias=True)\n",
       "              (LayerNorm): LayerNorm((768,), eps=1e-12, elementwise_affine=True)\n",
       "              (dropout): Dropout(p=0.1, inplace=False)\n",
       "            )\n",
       "          )\n",
       "          (intermediate): BertIntermediate(\n",
       "            (dense): Linear(in_features=768, out_features=3072, bias=True)\n",
       "          )\n",
       "          (output): BertOutput(\n",
       "            (dense): Linear(in_features=3072, out_features=768, bias=True)\n",
       "            (LayerNorm): LayerNorm((768,), eps=1e-12, elementwise_affine=True)\n",
       "            (dropout): Dropout(p=0.1, inplace=False)\n",
       "          )\n",
       "        )\n",
       "        (3): BertLayer(\n",
       "          (attention): BertAttention(\n",
       "            (self): BertSelfAttention(\n",
       "              (query): Linear(in_features=768, out_features=768, bias=True)\n",
       "              (key): Linear(in_features=768, out_features=768, bias=True)\n",
       "              (value): Linear(in_features=768, out_features=768, bias=True)\n",
       "              (dropout): Dropout(p=0.1, inplace=False)\n",
       "            )\n",
       "            (output): BertSelfOutput(\n",
       "              (dense): Linear(in_features=768, out_features=768, bias=True)\n",
       "              (LayerNorm): LayerNorm((768,), eps=1e-12, elementwise_affine=True)\n",
       "              (dropout): Dropout(p=0.1, inplace=False)\n",
       "            )\n",
       "          )\n",
       "          (intermediate): BertIntermediate(\n",
       "            (dense): Linear(in_features=768, out_features=3072, bias=True)\n",
       "          )\n",
       "          (output): BertOutput(\n",
       "            (dense): Linear(in_features=3072, out_features=768, bias=True)\n",
       "            (LayerNorm): LayerNorm((768,), eps=1e-12, elementwise_affine=True)\n",
       "            (dropout): Dropout(p=0.1, inplace=False)\n",
       "          )\n",
       "        )\n",
       "        (4): BertLayer(\n",
       "          (attention): BertAttention(\n",
       "            (self): BertSelfAttention(\n",
       "              (query): Linear(in_features=768, out_features=768, bias=True)\n",
       "              (key): Linear(in_features=768, out_features=768, bias=True)\n",
       "              (value): Linear(in_features=768, out_features=768, bias=True)\n",
       "              (dropout): Dropout(p=0.1, inplace=False)\n",
       "            )\n",
       "            (output): BertSelfOutput(\n",
       "              (dense): Linear(in_features=768, out_features=768, bias=True)\n",
       "              (LayerNorm): LayerNorm((768,), eps=1e-12, elementwise_affine=True)\n",
       "              (dropout): Dropout(p=0.1, inplace=False)\n",
       "            )\n",
       "          )\n",
       "          (intermediate): BertIntermediate(\n",
       "            (dense): Linear(in_features=768, out_features=3072, bias=True)\n",
       "          )\n",
       "          (output): BertOutput(\n",
       "            (dense): Linear(in_features=3072, out_features=768, bias=True)\n",
       "            (LayerNorm): LayerNorm((768,), eps=1e-12, elementwise_affine=True)\n",
       "            (dropout): Dropout(p=0.1, inplace=False)\n",
       "          )\n",
       "        )\n",
       "        (5): BertLayer(\n",
       "          (attention): BertAttention(\n",
       "            (self): BertSelfAttention(\n",
       "              (query): Linear(in_features=768, out_features=768, bias=True)\n",
       "              (key): Linear(in_features=768, out_features=768, bias=True)\n",
       "              (value): Linear(in_features=768, out_features=768, bias=True)\n",
       "              (dropout): Dropout(p=0.1, inplace=False)\n",
       "            )\n",
       "            (output): BertSelfOutput(\n",
       "              (dense): Linear(in_features=768, out_features=768, bias=True)\n",
       "              (LayerNorm): LayerNorm((768,), eps=1e-12, elementwise_affine=True)\n",
       "              (dropout): Dropout(p=0.1, inplace=False)\n",
       "            )\n",
       "          )\n",
       "          (intermediate): BertIntermediate(\n",
       "            (dense): Linear(in_features=768, out_features=3072, bias=True)\n",
       "          )\n",
       "          (output): BertOutput(\n",
       "            (dense): Linear(in_features=3072, out_features=768, bias=True)\n",
       "            (LayerNorm): LayerNorm((768,), eps=1e-12, elementwise_affine=True)\n",
       "            (dropout): Dropout(p=0.1, inplace=False)\n",
       "          )\n",
       "        )\n",
       "        (6): BertLayer(\n",
       "          (attention): BertAttention(\n",
       "            (self): BertSelfAttention(\n",
       "              (query): Linear(in_features=768, out_features=768, bias=True)\n",
       "              (key): Linear(in_features=768, out_features=768, bias=True)\n",
       "              (value): Linear(in_features=768, out_features=768, bias=True)\n",
       "              (dropout): Dropout(p=0.1, inplace=False)\n",
       "            )\n",
       "            (output): BertSelfOutput(\n",
       "              (dense): Linear(in_features=768, out_features=768, bias=True)\n",
       "              (LayerNorm): LayerNorm((768,), eps=1e-12, elementwise_affine=True)\n",
       "              (dropout): Dropout(p=0.1, inplace=False)\n",
       "            )\n",
       "          )\n",
       "          (intermediate): BertIntermediate(\n",
       "            (dense): Linear(in_features=768, out_features=3072, bias=True)\n",
       "          )\n",
       "          (output): BertOutput(\n",
       "            (dense): Linear(in_features=3072, out_features=768, bias=True)\n",
       "            (LayerNorm): LayerNorm((768,), eps=1e-12, elementwise_affine=True)\n",
       "            (dropout): Dropout(p=0.1, inplace=False)\n",
       "          )\n",
       "        )\n",
       "        (7): BertLayer(\n",
       "          (attention): BertAttention(\n",
       "            (self): BertSelfAttention(\n",
       "              (query): Linear(in_features=768, out_features=768, bias=True)\n",
       "              (key): Linear(in_features=768, out_features=768, bias=True)\n",
       "              (value): Linear(in_features=768, out_features=768, bias=True)\n",
       "              (dropout): Dropout(p=0.1, inplace=False)\n",
       "            )\n",
       "            (output): BertSelfOutput(\n",
       "              (dense): Linear(in_features=768, out_features=768, bias=True)\n",
       "              (LayerNorm): LayerNorm((768,), eps=1e-12, elementwise_affine=True)\n",
       "              (dropout): Dropout(p=0.1, inplace=False)\n",
       "            )\n",
       "          )\n",
       "          (intermediate): BertIntermediate(\n",
       "            (dense): Linear(in_features=768, out_features=3072, bias=True)\n",
       "          )\n",
       "          (output): BertOutput(\n",
       "            (dense): Linear(in_features=3072, out_features=768, bias=True)\n",
       "            (LayerNorm): LayerNorm((768,), eps=1e-12, elementwise_affine=True)\n",
       "            (dropout): Dropout(p=0.1, inplace=False)\n",
       "          )\n",
       "        )\n",
       "        (8): BertLayer(\n",
       "          (attention): BertAttention(\n",
       "            (self): BertSelfAttention(\n",
       "              (query): Linear(in_features=768, out_features=768, bias=True)\n",
       "              (key): Linear(in_features=768, out_features=768, bias=True)\n",
       "              (value): Linear(in_features=768, out_features=768, bias=True)\n",
       "              (dropout): Dropout(p=0.1, inplace=False)\n",
       "            )\n",
       "            (output): BertSelfOutput(\n",
       "              (dense): Linear(in_features=768, out_features=768, bias=True)\n",
       "              (LayerNorm): LayerNorm((768,), eps=1e-12, elementwise_affine=True)\n",
       "              (dropout): Dropout(p=0.1, inplace=False)\n",
       "            )\n",
       "          )\n",
       "          (intermediate): BertIntermediate(\n",
       "            (dense): Linear(in_features=768, out_features=3072, bias=True)\n",
       "          )\n",
       "          (output): BertOutput(\n",
       "            (dense): Linear(in_features=3072, out_features=768, bias=True)\n",
       "            (LayerNorm): LayerNorm((768,), eps=1e-12, elementwise_affine=True)\n",
       "            (dropout): Dropout(p=0.1, inplace=False)\n",
       "          )\n",
       "        )\n",
       "        (9): BertLayer(\n",
       "          (attention): BertAttention(\n",
       "            (self): BertSelfAttention(\n",
       "              (query): Linear(in_features=768, out_features=768, bias=True)\n",
       "              (key): Linear(in_features=768, out_features=768, bias=True)\n",
       "              (value): Linear(in_features=768, out_features=768, bias=True)\n",
       "              (dropout): Dropout(p=0.1, inplace=False)\n",
       "            )\n",
       "            (output): BertSelfOutput(\n",
       "              (dense): Linear(in_features=768, out_features=768, bias=True)\n",
       "              (LayerNorm): LayerNorm((768,), eps=1e-12, elementwise_affine=True)\n",
       "              (dropout): Dropout(p=0.1, inplace=False)\n",
       "            )\n",
       "          )\n",
       "          (intermediate): BertIntermediate(\n",
       "            (dense): Linear(in_features=768, out_features=3072, bias=True)\n",
       "          )\n",
       "          (output): BertOutput(\n",
       "            (dense): Linear(in_features=3072, out_features=768, bias=True)\n",
       "            (LayerNorm): LayerNorm((768,), eps=1e-12, elementwise_affine=True)\n",
       "            (dropout): Dropout(p=0.1, inplace=False)\n",
       "          )\n",
       "        )\n",
       "        (10): BertLayer(\n",
       "          (attention): BertAttention(\n",
       "            (self): BertSelfAttention(\n",
       "              (query): Linear(in_features=768, out_features=768, bias=True)\n",
       "              (key): Linear(in_features=768, out_features=768, bias=True)\n",
       "              (value): Linear(in_features=768, out_features=768, bias=True)\n",
       "              (dropout): Dropout(p=0.1, inplace=False)\n",
       "            )\n",
       "            (output): BertSelfOutput(\n",
       "              (dense): Linear(in_features=768, out_features=768, bias=True)\n",
       "              (LayerNorm): LayerNorm((768,), eps=1e-12, elementwise_affine=True)\n",
       "              (dropout): Dropout(p=0.1, inplace=False)\n",
       "            )\n",
       "          )\n",
       "          (intermediate): BertIntermediate(\n",
       "            (dense): Linear(in_features=768, out_features=3072, bias=True)\n",
       "          )\n",
       "          (output): BertOutput(\n",
       "            (dense): Linear(in_features=3072, out_features=768, bias=True)\n",
       "            (LayerNorm): LayerNorm((768,), eps=1e-12, elementwise_affine=True)\n",
       "            (dropout): Dropout(p=0.1, inplace=False)\n",
       "          )\n",
       "        )\n",
       "        (11): BertLayer(\n",
       "          (attention): BertAttention(\n",
       "            (self): BertSelfAttention(\n",
       "              (query): Linear(in_features=768, out_features=768, bias=True)\n",
       "              (key): Linear(in_features=768, out_features=768, bias=True)\n",
       "              (value): Linear(in_features=768, out_features=768, bias=True)\n",
       "              (dropout): Dropout(p=0.1, inplace=False)\n",
       "            )\n",
       "            (output): BertSelfOutput(\n",
       "              (dense): Linear(in_features=768, out_features=768, bias=True)\n",
       "              (LayerNorm): LayerNorm((768,), eps=1e-12, elementwise_affine=True)\n",
       "              (dropout): Dropout(p=0.1, inplace=False)\n",
       "            )\n",
       "          )\n",
       "          (intermediate): BertIntermediate(\n",
       "            (dense): Linear(in_features=768, out_features=3072, bias=True)\n",
       "          )\n",
       "          (output): BertOutput(\n",
       "            (dense): Linear(in_features=3072, out_features=768, bias=True)\n",
       "            (LayerNorm): LayerNorm((768,), eps=1e-12, elementwise_affine=True)\n",
       "            (dropout): Dropout(p=0.1, inplace=False)\n",
       "          )\n",
       "        )\n",
       "      )\n",
       "    )\n",
       "    (pooler): BertPooler(\n",
       "      (dense): Linear(in_features=768, out_features=768, bias=True)\n",
       "      (activation): Tanh()\n",
       "    )\n",
       "  )\n",
       "  (dropout): Dropout(p=0.1, inplace=False)\n",
       "  (classifier): Linear(in_features=768, out_features=2, bias=True)\n",
       ")"
      ]
     },
     "metadata": {},
     "execution_count": 37
    }
   ],
   "source": [
    "model"
   ]
  },
  {
   "cell_type": "code",
   "execution_count": 3,
   "metadata": {},
   "outputs": [],
   "source": [
    "import pandas as pd"
   ]
  },
  {
   "cell_type": "code",
   "execution_count": 4,
   "metadata": {},
   "outputs": [],
   "source": [
    "blog_data = pd.read_csv('./ukraine_blog_data.csv')"
   ]
  },
  {
   "cell_type": "code",
   "execution_count": 10,
   "metadata": {},
   "outputs": [
    {
     "output_type": "execute_result",
     "data": {
      "text/plain": [
       "                         blogsite_domain  count\n",
       "270      respect-discussion.blogspot.com  35018\n",
       "0                02varvara.wordpress.com  26870\n",
       "379                 www.stateofglobe.com  26618\n",
       "226       nieuwsuitoekraine.blogspot.com  14806\n",
       "23              aneritamtm.wordpress.com  13682\n",
       "..                                   ...    ...\n",
       "47   bristolroversmemorabilia.weebly.com      1\n",
       "25           anthonyramienski.tumblr.com      1\n",
       "245        patrickmurfin.livejournal.com      1\n",
       "247                 pennunion.weebly.com      1\n",
       "51                  butkevich.weebly.com      1\n",
       "\n",
       "[387 rows x 2 columns]"
      ],
      "text/html": "<div>\n<style scoped>\n    .dataframe tbody tr th:only-of-type {\n        vertical-align: middle;\n    }\n\n    .dataframe tbody tr th {\n        vertical-align: top;\n    }\n\n    .dataframe thead th {\n        text-align: right;\n    }\n</style>\n<table border=\"1\" class=\"dataframe\">\n  <thead>\n    <tr style=\"text-align: right;\">\n      <th></th>\n      <th>blogsite_domain</th>\n      <th>count</th>\n    </tr>\n  </thead>\n  <tbody>\n    <tr>\n      <th>270</th>\n      <td>respect-discussion.blogspot.com</td>\n      <td>35018</td>\n    </tr>\n    <tr>\n      <th>0</th>\n      <td>02varvara.wordpress.com</td>\n      <td>26870</td>\n    </tr>\n    <tr>\n      <th>379</th>\n      <td>www.stateofglobe.com</td>\n      <td>26618</td>\n    </tr>\n    <tr>\n      <th>226</th>\n      <td>nieuwsuitoekraine.blogspot.com</td>\n      <td>14806</td>\n    </tr>\n    <tr>\n      <th>23</th>\n      <td>aneritamtm.wordpress.com</td>\n      <td>13682</td>\n    </tr>\n    <tr>\n      <th>...</th>\n      <td>...</td>\n      <td>...</td>\n    </tr>\n    <tr>\n      <th>47</th>\n      <td>bristolroversmemorabilia.weebly.com</td>\n      <td>1</td>\n    </tr>\n    <tr>\n      <th>25</th>\n      <td>anthonyramienski.tumblr.com</td>\n      <td>1</td>\n    </tr>\n    <tr>\n      <th>245</th>\n      <td>patrickmurfin.livejournal.com</td>\n      <td>1</td>\n    </tr>\n    <tr>\n      <th>247</th>\n      <td>pennunion.weebly.com</td>\n      <td>1</td>\n    </tr>\n    <tr>\n      <th>51</th>\n      <td>butkevich.weebly.com</td>\n      <td>1</td>\n    </tr>\n  </tbody>\n</table>\n<p>387 rows × 2 columns</p>\n</div>"
     },
     "metadata": {},
     "execution_count": 10
    }
   ],
   "source": [
    "blog_data.columns"
   ]
  },
  {
   "cell_type": "code",
   "execution_count": 11,
   "metadata": {},
   "outputs": [],
   "source": [
    "import pandas as pd\n",
    "ukraine_blog_data = pd.read_csv('./data/blog_sample/processed_ukraine_blog_data.csv')\n",
    "bert_results = pd.read_csv('./code/ukraine-blog-results.csv')"
   ]
  },
  {
   "cell_type": "code",
   "execution_count": 12,
   "metadata": {},
   "outputs": [],
   "source": [
    "merged_df = ukraine_blog_data.merge(bert_results,on='story_id')[[\"story_id\",\"blogsite_domain\",\"raw_text\",\"bert_classification\"]]\n",
    "group_df = merged_df.groupby(['blogsite_domain','bert_classification']).size().reset_index(name=\"count\")\n",
    "pivot_df = group_df.pivot(index='blogsite_domain',columns='bert_classification',values='count')\n",
    "pivot_df = pivot_df.rename_axis(None,axis=1)\n",
    "pivot_df[0] = pivot_df[0].apply(lambda x: x if pd.notnull(x) else 0)\n",
    "pivot_df[1] = pivot_df[1].apply(lambda x: x if pd.notnull(x) else 0)"
   ]
  },
  {
   "cell_type": "code",
   "execution_count": 4,
   "metadata": {},
   "outputs": [],
   "source": [
    "import math\n",
    "pivot_df[\"p_perc\"] = round(pivot_df[1]/(pivot_df[0] + pivot_df[1]) * 100, 2)\n",
    "pivot_df[\"np_perc\"] = round(pivot_df[0]/(pivot_df[0] + pivot_df[1]) * 100, 2)\n",
    "pivot_df[\"total\"] = pivot_df[0] + pivot_df[1]"
   ]
  },
  {
   "cell_type": "code",
   "execution_count": 10,
   "metadata": {},
   "outputs": [],
   "source": [
    "pivot_df.sort_values(by=['total'], ascending=False).reset_index()[[\"blogsite_domain\",\"p_perc\",\"np_perc\",\"total\"]].to_csv('blog_domain_p_np.csv',index=False)"
   ]
  },
  {
   "cell_type": "code",
   "execution_count": 43,
   "metadata": {},
   "outputs": [],
   "source": [
    "merged_df[(merged_df[\"bert_classification\"]==0)&(merged_df[\"blogsite_domain\"]!=\"naturalnews.com\")][[\"blogsite_domain\",\"raw_text\"]].sample(20).to_csv(\"sample_blog_np.csv\")"
   ]
  },
  {
   "cell_type": "code",
   "execution_count": null,
   "metadata": {},
   "outputs": [],
   "source": []
  }
 ],
 "metadata": {
  "kernelspec": {
   "display_name": "cips",
   "language": "python",
   "name": "cips"
  },
  "language_info": {
   "codemirror_mode": {
    "name": "ipython",
    "version": 3
   },
   "file_extension": ".py",
   "mimetype": "text/x-python",
   "name": "python",
   "nbconvert_exporter": "python",
   "pygments_lexer": "ipython3",
   "version": "3.7.7-final"
  }
 },
 "nbformat": 4,
 "nbformat_minor": 4
}