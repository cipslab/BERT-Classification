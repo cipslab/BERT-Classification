{
 "cells": [
  {
   "cell_type": "code",
   "execution_count": 26,
   "metadata": {},
   "outputs": [
    {
     "name": "stdout",
     "output_type": "stream",
     "text": [
      "Reading data.....\n",
      "    DONE.\n"
     ]
    },
    {
     "data": {
      "text/html": [
       "<div>\n",
       "<style scoped>\n",
       "    .dataframe tbody tr th:only-of-type {\n",
       "        vertical-align: middle;\n",
       "    }\n",
       "\n",
       "    .dataframe tbody tr th {\n",
       "        vertical-align: top;\n",
       "    }\n",
       "\n",
       "    .dataframe thead th {\n",
       "        text-align: right;\n",
       "    }\n",
       "</style>\n",
       "<table border=\"1\" class=\"dataframe\">\n",
       "  <thead>\n",
       "    <tr style=\"text-align: right;\">\n",
       "      <th></th>\n",
       "      <th>story_id</th>\n",
       "      <th>publisher</th>\n",
       "      <th>publication_date</th>\n",
       "      <th>ingest_date</th>\n",
       "      <th>headline</th>\n",
       "      <th>raw_text</th>\n",
       "      <th>core_of_text</th>\n",
       "      <th>xml_text</th>\n",
       "      <th>status</th>\n",
       "      <th>source</th>\n",
       "      <th>canonical_publisher_id</th>\n",
       "      <th>factiva_accession_no</th>\n",
       "      <th>source_name</th>\n",
       "      <th>source_code</th>\n",
       "      <th>propaganda_classifier_result</th>\n",
       "      <th>label</th>\n",
       "    </tr>\n",
       "  </thead>\n",
       "  <tbody>\n",
       "    <tr>\n",
       "      <th>0</th>\n",
       "      <td>34460278</td>\n",
       "      <td>RIA Novosti</td>\n",
       "      <td>2014-05-06</td>\n",
       "      <td>2014-05-12</td>\n",
       "      <td>PACE Chief Says Ukraine Crisis Should be Prior...</td>\n",
       "      <td>MOSCOW, May 6 (RIA Novosti) - The Council of E...</td>\n",
       "      <td>MOSCOW, May 6 (RIA Novosti) - The Council of E...</td>\n",
       "      <td>&lt;?xml version=\"1.0\" encoding=\"UTF-8\"?&gt;\\n&lt;story...</td>\n",
       "      <td>NaN</td>\n",
       "      <td>Release187</td>\n",
       "      <td>167</td>\n",
       "      <td>RVESEN0020140506ea56006k5</td>\n",
       "      <td>RIA Novosti</td>\n",
       "      <td>RVESEN</td>\n",
       "      <td>1</td>\n",
       "      <td>1</td>\n",
       "    </tr>\n",
       "    <tr>\n",
       "      <th>1</th>\n",
       "      <td>34460804</td>\n",
       "      <td>RIA Novosti</td>\n",
       "      <td>2014-05-06</td>\n",
       "      <td>2014-05-12</td>\n",
       "      <td>Ukraine’s Donetsk and Luhansk Regions Will Boy...</td>\n",
       "      <td>MOSCOW, May 6 (RIA Novosti) – Residents of Ukr...</td>\n",
       "      <td>MOSCOW, May 6 (RIA Novosti) – Residents of Ukr...</td>\n",
       "      <td>&lt;?xml version=\"1.0\" encoding=\"UTF-8\"?&gt;\\n&lt;story...</td>\n",
       "      <td>NaN</td>\n",
       "      <td>Release187</td>\n",
       "      <td>167</td>\n",
       "      <td>RVESEN0020140506ea56005pl</td>\n",
       "      <td>RIA Novosti</td>\n",
       "      <td>RVESEN</td>\n",
       "      <td>1</td>\n",
       "      <td>1</td>\n",
       "    </tr>\n",
       "    <tr>\n",
       "      <th>2</th>\n",
       "      <td>34462377</td>\n",
       "      <td>RIA Novosti</td>\n",
       "      <td>2014-05-06</td>\n",
       "      <td>2014-05-12</td>\n",
       "      <td>Anti-Coup Protesters to Rally in Odessa Despit...</td>\n",
       "      <td>Vadim Savenko\\nMOSCOW, May 6 (RIA Novosti) - O...</td>\n",
       "      <td>Vadim Savenko\\nMOSCOW, May 6 (RIA Novosti) - V...</td>\n",
       "      <td>&lt;?xml version=\"1.0\" encoding=\"UTF-8\"?&gt;\\n&lt;story...</td>\n",
       "      <td>NaN</td>\n",
       "      <td>Release187</td>\n",
       "      <td>167</td>\n",
       "      <td>RVESEN0020140506ea56002pb</td>\n",
       "      <td>RIA Novosti</td>\n",
       "      <td>RVESEN</td>\n",
       "      <td>1</td>\n",
       "      <td>1</td>\n",
       "    </tr>\n",
       "    <tr>\n",
       "      <th>3</th>\n",
       "      <td>34462777</td>\n",
       "      <td>RIA Novosti</td>\n",
       "      <td>2014-05-06</td>\n",
       "      <td>2014-05-12</td>\n",
       "      <td>New Ships, Subs to Boost Russia’s Black Sea Fl...</td>\n",
       "      <td>Russian Defense Minister Sergei Shoigu\\nMOSCOW...</td>\n",
       "      <td>Russian Defense Minister Sergei Shoigu\\nMOSCOW...</td>\n",
       "      <td>&lt;?xml version=\"1.0\" encoding=\"UTF-8\"?&gt;\\n&lt;story...</td>\n",
       "      <td>NaN</td>\n",
       "      <td>Release187</td>\n",
       "      <td>167</td>\n",
       "      <td>RVESEN0020140506ea560025v</td>\n",
       "      <td>RIA Novosti</td>\n",
       "      <td>RVESEN</td>\n",
       "      <td>1</td>\n",
       "      <td>1</td>\n",
       "    </tr>\n",
       "    <tr>\n",
       "      <th>4</th>\n",
       "      <td>34462963</td>\n",
       "      <td>RIA Novosti</td>\n",
       "      <td>2014-05-06</td>\n",
       "      <td>2014-05-12</td>\n",
       "      <td>Ukrainian Party Demands Resignation of Acting ...</td>\n",
       "      <td>MOSCOW, May 6 (RIA Novosti) – Ukraine’s Party ...</td>\n",
       "      <td>MOSCOW, May 6 (RIA Novosti) – Ukraine’s Party ...</td>\n",
       "      <td>&lt;?xml version=\"1.0\" encoding=\"UTF-8\"?&gt;\\n&lt;story...</td>\n",
       "      <td>NaN</td>\n",
       "      <td>Release187</td>\n",
       "      <td>167</td>\n",
       "      <td>RVESEN0020140506ea56001me</td>\n",
       "      <td>RIA Novosti</td>\n",
       "      <td>RVESEN</td>\n",
       "      <td>1</td>\n",
       "      <td>1</td>\n",
       "    </tr>\n",
       "  </tbody>\n",
       "</table>\n",
       "</div>"
      ],
      "text/plain": [
       "   story_id    publisher publication_date ingest_date  \\\n",
       "0  34460278  RIA Novosti       2014-05-06  2014-05-12   \n",
       "1  34460804  RIA Novosti       2014-05-06  2014-05-12   \n",
       "2  34462377  RIA Novosti       2014-05-06  2014-05-12   \n",
       "3  34462777  RIA Novosti       2014-05-06  2014-05-12   \n",
       "4  34462963  RIA Novosti       2014-05-06  2014-05-12   \n",
       "\n",
       "                                            headline  \\\n",
       "0  PACE Chief Says Ukraine Crisis Should be Prior...   \n",
       "1  Ukraine’s Donetsk and Luhansk Regions Will Boy...   \n",
       "2  Anti-Coup Protesters to Rally in Odessa Despit...   \n",
       "3  New Ships, Subs to Boost Russia’s Black Sea Fl...   \n",
       "4  Ukrainian Party Demands Resignation of Acting ...   \n",
       "\n",
       "                                            raw_text  \\\n",
       "0  MOSCOW, May 6 (RIA Novosti) - The Council of E...   \n",
       "1  MOSCOW, May 6 (RIA Novosti) – Residents of Ukr...   \n",
       "2  Vadim Savenko\\nMOSCOW, May 6 (RIA Novosti) - O...   \n",
       "3  Russian Defense Minister Sergei Shoigu\\nMOSCOW...   \n",
       "4  MOSCOW, May 6 (RIA Novosti) – Ukraine’s Party ...   \n",
       "\n",
       "                                        core_of_text  \\\n",
       "0  MOSCOW, May 6 (RIA Novosti) - The Council of E...   \n",
       "1  MOSCOW, May 6 (RIA Novosti) – Residents of Ukr...   \n",
       "2  Vadim Savenko\\nMOSCOW, May 6 (RIA Novosti) - V...   \n",
       "3  Russian Defense Minister Sergei Shoigu\\nMOSCOW...   \n",
       "4  MOSCOW, May 6 (RIA Novosti) – Ukraine’s Party ...   \n",
       "\n",
       "                                            xml_text status      source  \\\n",
       "0  <?xml version=\"1.0\" encoding=\"UTF-8\"?>\\n<story...    NaN  Release187   \n",
       "1  <?xml version=\"1.0\" encoding=\"UTF-8\"?>\\n<story...    NaN  Release187   \n",
       "2  <?xml version=\"1.0\" encoding=\"UTF-8\"?>\\n<story...    NaN  Release187   \n",
       "3  <?xml version=\"1.0\" encoding=\"UTF-8\"?>\\n<story...    NaN  Release187   \n",
       "4  <?xml version=\"1.0\" encoding=\"UTF-8\"?>\\n<story...    NaN  Release187   \n",
       "\n",
       "   canonical_publisher_id       factiva_accession_no  source_name source_code  \\\n",
       "0                     167  RVESEN0020140506ea56006k5  RIA Novosti      RVESEN   \n",
       "1                     167  RVESEN0020140506ea56005pl  RIA Novosti      RVESEN   \n",
       "2                     167  RVESEN0020140506ea56002pb  RIA Novosti      RVESEN   \n",
       "3                     167  RVESEN0020140506ea560025v  RIA Novosti      RVESEN   \n",
       "4                     167  RVESEN0020140506ea56001me  RIA Novosti      RVESEN   \n",
       "\n",
       "   propaganda_classifier_result  label  \n",
       "0                             1      1  \n",
       "1                             1      1  \n",
       "2                             1      1  \n",
       "3                             1      1  \n",
       "4                             1      1  "
      ]
     },
     "execution_count": 26,
     "metadata": {},
     "output_type": "execute_result"
    }
   ],
   "source": [
    "import pandas as pd\n",
    "\n",
    "print(\"Reading data.....\")\n",
    "pro_russian_data = pd.read_csv('./data/pro-russian.csv')\n",
    "not_pro_russian_data = pd.read_csv('./data/not-pro-russian.csv')\n",
    "print('    DONE.')\n",
    "\n",
    "\n",
    "# pro_russian_label = 1\n",
    "# not_pro_russian_label = 0\n",
    "pro_russian_data['label'] = 1\n",
    "not_pro_russian_data['label'] = 0\n",
    "pro_russian_data.head()"
   ]
  },
  {
   "cell_type": "code",
   "execution_count": 27,
   "metadata": {},
   "outputs": [],
   "source": [
    "def get_length(text):\n",
    "    n = len(text.split())\n",
    "    return n"
   ]
  },
  {
   "cell_type": "code",
   "execution_count": 32,
   "metadata": {},
   "outputs": [
    {
     "name": "stdout",
     "output_type": "stream",
     "text": [
      "length of pro_russian_data: 5244\n",
      "length of not_pro_russian_data: 22064\n",
      "sampled data: 5244\n",
      "10488\n"
     ]
    }
   ],
   "source": [
    "cols_to_keep = ['story_id', 'raw_text', 'label']\n",
    "pro_russian_data = pro_russian_data[cols_to_keep]\n",
    "print('length of pro_russian_data:', len(pro_russian_data))\n",
    "pro_russian_data['len'] = pro_russian_data['raw_text'].apply(get_length) \n",
    "# print(pro_russian_data.groupby(['len']).count())\n",
    "\n",
    "not_pro_russian_data = not_pro_russian_data[cols_to_keep]\n",
    "print('length of not_pro_russian_data:', len(not_pro_russian_data))\n",
    "not_pro_russian_data['len'] = not_pro_russian_data['raw_text'].apply(get_length)\n",
    "not_pro_russian_data_sample=not_pro_russian_data.sample(n=5244, replace=True, random_state=1)\n",
    "print('sampled data:', len(not_pro_russian_data_sample))\n",
    "# not_pro_russian_data.head()\n",
    "\n",
    "frames = [pro_russian_data, not_pro_russian_data_sample]\n",
    "df = pd.concat(frames)\n",
    "print(len(df))"
   ]
  },
  {
   "cell_type": "code",
   "execution_count": 33,
   "metadata": {},
   "outputs": [
    {
     "data": {
      "text/plain": [
       "Text(0, 0.5, '# of comments')"
      ]
     },
     "execution_count": 33,
     "metadata": {},
     "output_type": "execute_result"
    },
    {
     "data": {
      "image/png": "[encoded data removed]",
      "text/plain": [
       "<Figure size 720x360 with 1 Axes>"
      ]
     },
     "metadata": {},
     "output_type": "display_data"
    }
   ],
   "source": [
    "import matplotlib.pyplot as plt\n",
    "import seaborn as sns\n",
    "import numpy as np\n",
    "\n",
    "sns.set(style='darkgrid')\n",
    "\n",
    "# Increase the plot size and font size.\n",
    "sns.set(font_scale=1.5)\n",
    "plt.rcParams['figure.figsize'] = (10,5)\n",
    "\n",
    "# Truncate any comment lengths greater tahn 512.\n",
    "lengths_pro_russian_data = pro_russian_data.len.to_numpy()\n",
    "lengths_pro_russian_data = lengths_pro_russian_data[lengths_pro_russian_data<1500]\n",
    "\n",
    "legth_not_pro_russian_data = not_pro_russian_data.len.to_numpy()\n",
    "legth_not_pro_russian_data = legth_not_pro_russian_data[legth_not_pro_russian_data<1500]\n",
    "\n",
    "# Plot the distribution of comment lengths.\n",
    "sns.distplot(lengths_pro_russian_data, kde=False, rug=False)\n",
    "sns.distplot(legth_not_pro_russian_data, kde=False, rug=False, color='y')\n",
    "plt.title('Comment lengths')\n",
    "plt.xlabel('Comment length')\n",
    "plt.ylabel ('# of comments')"
   ]
  },
  {
   "cell_type": "code",
   "execution_count": 34,
   "metadata": {},
   "outputs": [],
   "source": [
    "def clean_tweets(tweet):\n",
    "\n",
    "    tweet = (tweet.encode(\"ascii\", errors=\"ignore\").decode()).lower()\n",
    "    tweet = tweet.replace(\"\\n\", \" \")\n",
    "    tweet = tweet.replace(\"\\r\", \" \")\n",
    "    return tweet\n"
   ]
  },
  {
   "cell_type": "code",
   "execution_count": 35,
   "metadata": {},
   "outputs": [],
   "source": [
    "df['raw_text'] = df.raw_text.apply(clean_tweets)"
   ]
  },
  {
   "cell_type": "code",
   "execution_count": 36,
   "metadata": {},
   "outputs": [
    {
     "name": "stdout",
     "output_type": "stream",
     "text": [
      "train counts:        story_id  raw_text   len\n",
      "label                          \n",
      "0          4208      4208  4208\n",
      "1          4182      4182  4182\n",
      "test counts:        story_id  raw_text   len\n",
      "label                          \n",
      "0          1036      1036  1036\n",
      "1          1062      1062  1062\n"
     ]
    }
   ],
   "source": [
    "from sklearn.model_selection import train_test_split\n",
    "train, test = train_test_split(df, test_size=0.20, random_state=42, shuffle=True)\n",
    "print('train counts:', train.groupby('label').count())\n",
    "print('test counts:', test.groupby('label').count())"
   ]
  },
  {
   "cell_type": "code",
   "execution_count": 37,
   "metadata": {},
   "outputs": [],
   "source": [
    "import os\n",
    "if not os.path.exists('./data/'):\n",
    "    os.mkdir('./data/')\n",
    "data_dir = './data/'    \n",
    "# determine the path where to save the train and test file\n",
    "train_path = data_dir + 'train.tsv'\n",
    "test_path = data_dir + 'test.tsv'\n",
    "\n",
    "# save the train and test file\n",
    "# again using the '\\t' separator to create tab-separated-values files\n",
    "train.to_csv(train_path, sep='\\t', index=False)\n",
    "test.to_csv(test_path, sep='\\t', index=False)"
   ]
  }
 ],
 "metadata": {
  "kernelspec": {
   "display_name": "Python 3",
   "language": "python",
   "name": "python3"
  },
  "language_info": {
   "codemirror_mode": {
    "name": "ipython",
    "version": 3
   },
   "file_extension": ".py",
   "mimetype": "text/x-python",
   "name": "python",
   "nbconvert_exporter": "python",
   "pygments_lexer": "ipython3",
   "version": "3.7.6"
  }
 },
 "nbformat": 4,
 "nbformat_minor": 4
}
